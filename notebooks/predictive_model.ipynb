{
 "cells": [
  {
   "cell_type": "markdown",
   "metadata": {},
   "source": [
    "# Basic Model"
   ]
  },
  {
   "cell_type": "code",
   "execution_count": 2,
   "metadata": {},
   "outputs": [],
   "source": [
    "import pandas as pd\n",
    "import numpy as np\n",
    "import datetime\n",
    "import networkx as nx\n",
    "\n",
    "import matplotlib.pyplot as plt\n",
    "plt.style.use('ggplot')\n",
    "\n",
    "import sys\n",
    "sys.path.insert(0, '../src')\n",
    "import helpers as h\n",
    "import visualizations as v\n",
    "import time\n",
    "\n",
    "pd.set_option('display.max_columns', None)\n",
    "pd.set_option('display.max_rows', 300)"
   ]
  },
  {
   "cell_type": "code",
   "execution_count": 3,
   "metadata": {},
   "outputs": [],
   "source": [
    "# Load and preprocess data\n",
    "otc_df = h.load_bitcoin_edge_data('../data/soc-sign-bitcoinotc.csv.gz')\n",
    "alpha_df = h.load_bitcoin_edge_data('../data/soc-sign-bitcoinalpha.csv.gz')\n",
    "alpha_users = h.user_activity_dataframe(alpha_df)\n",
    "otc_users = h.user_activity_dataframe(otc_df)"
   ]
  },
  {
   "cell_type": "code",
   "execution_count": 53,
   "metadata": {},
   "outputs": [],
   "source": [
    "# Load Feature Data\n",
    "\n",
    "df_b = pd.read_csv('../data/df_b.csv')\n",
    "df_dv = pd.read_csv('../data/df_dv.csv')\n",
    "df_sv = pd.read_csv('../data/df_sv.csv')\n",
    "df_gf = pd.read_csv('../data/df_gf.csv')"
   ]
  },
  {
   "cell_type": "code",
   "execution_count": 70,
   "metadata": {},
   "outputs": [],
   "source": [
    "df_gr = pd.read_csv('../data/alpha_with_ratee_stats.csv')\n",
    "df_gr = df_gr[['rater','ratee','rating', 'date', 'class','cluster_coef','num_cliques']]\n",
    "# df_gr = df_gr[['rater','ratee','rating', 'date', 'class','num_cliques']]\n",
    "df_gf.drop('cluster_coef', axis=1, inplace=True)"
   ]
  },
  {
   "cell_type": "code",
   "execution_count": 75,
   "metadata": {},
   "outputs": [
    {
     "ename": "KeyError",
     "evalue": "\"['binomial_rating' 'color' 'penwidth'] not found in axis\"",
     "output_type": "error",
     "traceback": [
      "\u001b[0;31m---------------------------------------------------------------------------\u001b[0m",
      "\u001b[0;31mKeyError\u001b[0m                                  Traceback (most recent call last)",
      "\u001b[0;32m<ipython-input-75-ac6f9294a594>\u001b[0m in \u001b[0;36m<module>\u001b[0;34m\u001b[0m\n\u001b[1;32m      1\u001b[0m \u001b[0mcols\u001b[0m \u001b[0;34m=\u001b[0m \u001b[0;34m[\u001b[0m\u001b[0;34m'ratee'\u001b[0m\u001b[0;34m,\u001b[0m\u001b[0;34m'rater'\u001b[0m\u001b[0;34m,\u001b[0m\u001b[0;34m'date'\u001b[0m\u001b[0;34m,\u001b[0m\u001b[0;34m'rating'\u001b[0m\u001b[0;34m,\u001b[0m\u001b[0;34m'class'\u001b[0m\u001b[0;34m]\u001b[0m\u001b[0;34m\u001b[0m\u001b[0;34m\u001b[0m\u001b[0m\n\u001b[1;32m      2\u001b[0m \u001b[0mfeatures_df\u001b[0m \u001b[0;34m=\u001b[0m \u001b[0mpd\u001b[0m\u001b[0;34m.\u001b[0m\u001b[0mmerge\u001b[0m\u001b[0;34m(\u001b[0m\u001b[0mpd\u001b[0m\u001b[0;34m.\u001b[0m\u001b[0mmerge\u001b[0m\u001b[0;34m(\u001b[0m\u001b[0mpd\u001b[0m\u001b[0;34m.\u001b[0m\u001b[0mmerge\u001b[0m\u001b[0;34m(\u001b[0m\u001b[0mdf_gr\u001b[0m\u001b[0;34m,\u001b[0m\u001b[0mdf_dv\u001b[0m\u001b[0;34m,\u001b[0m\u001b[0mon\u001b[0m\u001b[0;34m=\u001b[0m\u001b[0mcols\u001b[0m\u001b[0;34m)\u001b[0m\u001b[0;34m,\u001b[0m\u001b[0mdf_sv\u001b[0m\u001b[0;34m,\u001b[0m\u001b[0mon\u001b[0m\u001b[0;34m=\u001b[0m\u001b[0mcols\u001b[0m\u001b[0;34m)\u001b[0m\u001b[0;34m,\u001b[0m\u001b[0mdf_b\u001b[0m\u001b[0;34m,\u001b[0m\u001b[0mon\u001b[0m\u001b[0;34m=\u001b[0m\u001b[0mcols\u001b[0m\u001b[0;34m)\u001b[0m\u001b[0;34m\u001b[0m\u001b[0;34m\u001b[0m\u001b[0m\n\u001b[0;32m----> 3\u001b[0;31m \u001b[0mfeatures_df\u001b[0m\u001b[0;34m.\u001b[0m\u001b[0mdrop\u001b[0m\u001b[0;34m(\u001b[0m\u001b[0;34m[\u001b[0m\u001b[0;34m'binomial_rating'\u001b[0m\u001b[0;34m,\u001b[0m\u001b[0;34m'color'\u001b[0m\u001b[0;34m,\u001b[0m\u001b[0;34m'penwidth'\u001b[0m\u001b[0;34m]\u001b[0m\u001b[0;34m,\u001b[0m \u001b[0maxis\u001b[0m\u001b[0;34m=\u001b[0m\u001b[0;36m1\u001b[0m\u001b[0;34m,\u001b[0m \u001b[0minplace\u001b[0m\u001b[0;34m=\u001b[0m\u001b[0;32mTrue\u001b[0m\u001b[0;34m)\u001b[0m\u001b[0;34m\u001b[0m\u001b[0;34m\u001b[0m\u001b[0m\n\u001b[0m",
      "\u001b[0;32m~/opt/anaconda3/lib/python3.7/site-packages/pandas/core/frame.py\u001b[0m in \u001b[0;36mdrop\u001b[0;34m(self, labels, axis, index, columns, level, inplace, errors)\u001b[0m\n\u001b[1;32m   4168\u001b[0m             \u001b[0mlevel\u001b[0m\u001b[0;34m=\u001b[0m\u001b[0mlevel\u001b[0m\u001b[0;34m,\u001b[0m\u001b[0;34m\u001b[0m\u001b[0;34m\u001b[0m\u001b[0m\n\u001b[1;32m   4169\u001b[0m             \u001b[0minplace\u001b[0m\u001b[0;34m=\u001b[0m\u001b[0minplace\u001b[0m\u001b[0;34m,\u001b[0m\u001b[0;34m\u001b[0m\u001b[0;34m\u001b[0m\u001b[0m\n\u001b[0;32m-> 4170\u001b[0;31m             \u001b[0merrors\u001b[0m\u001b[0;34m=\u001b[0m\u001b[0merrors\u001b[0m\u001b[0;34m,\u001b[0m\u001b[0;34m\u001b[0m\u001b[0;34m\u001b[0m\u001b[0m\n\u001b[0m\u001b[1;32m   4171\u001b[0m         )\n\u001b[1;32m   4172\u001b[0m \u001b[0;34m\u001b[0m\u001b[0m\n",
      "\u001b[0;32m~/opt/anaconda3/lib/python3.7/site-packages/pandas/core/generic.py\u001b[0m in \u001b[0;36mdrop\u001b[0;34m(self, labels, axis, index, columns, level, inplace, errors)\u001b[0m\n\u001b[1;32m   3885\u001b[0m         \u001b[0;32mfor\u001b[0m \u001b[0maxis\u001b[0m\u001b[0;34m,\u001b[0m \u001b[0mlabels\u001b[0m \u001b[0;32min\u001b[0m \u001b[0maxes\u001b[0m\u001b[0;34m.\u001b[0m\u001b[0mitems\u001b[0m\u001b[0;34m(\u001b[0m\u001b[0;34m)\u001b[0m\u001b[0;34m:\u001b[0m\u001b[0;34m\u001b[0m\u001b[0;34m\u001b[0m\u001b[0m\n\u001b[1;32m   3886\u001b[0m             \u001b[0;32mif\u001b[0m \u001b[0mlabels\u001b[0m \u001b[0;32mis\u001b[0m \u001b[0;32mnot\u001b[0m \u001b[0;32mNone\u001b[0m\u001b[0;34m:\u001b[0m\u001b[0;34m\u001b[0m\u001b[0;34m\u001b[0m\u001b[0m\n\u001b[0;32m-> 3887\u001b[0;31m                 \u001b[0mobj\u001b[0m \u001b[0;34m=\u001b[0m \u001b[0mobj\u001b[0m\u001b[0;34m.\u001b[0m\u001b[0m_drop_axis\u001b[0m\u001b[0;34m(\u001b[0m\u001b[0mlabels\u001b[0m\u001b[0;34m,\u001b[0m \u001b[0maxis\u001b[0m\u001b[0;34m,\u001b[0m \u001b[0mlevel\u001b[0m\u001b[0;34m=\u001b[0m\u001b[0mlevel\u001b[0m\u001b[0;34m,\u001b[0m \u001b[0merrors\u001b[0m\u001b[0;34m=\u001b[0m\u001b[0merrors\u001b[0m\u001b[0;34m)\u001b[0m\u001b[0;34m\u001b[0m\u001b[0;34m\u001b[0m\u001b[0m\n\u001b[0m\u001b[1;32m   3888\u001b[0m \u001b[0;34m\u001b[0m\u001b[0m\n\u001b[1;32m   3889\u001b[0m         \u001b[0;32mif\u001b[0m \u001b[0minplace\u001b[0m\u001b[0;34m:\u001b[0m\u001b[0;34m\u001b[0m\u001b[0;34m\u001b[0m\u001b[0m\n",
      "\u001b[0;32m~/opt/anaconda3/lib/python3.7/site-packages/pandas/core/generic.py\u001b[0m in \u001b[0;36m_drop_axis\u001b[0;34m(self, labels, axis, level, errors)\u001b[0m\n\u001b[1;32m   3919\u001b[0m                 \u001b[0mnew_axis\u001b[0m \u001b[0;34m=\u001b[0m \u001b[0maxis\u001b[0m\u001b[0;34m.\u001b[0m\u001b[0mdrop\u001b[0m\u001b[0;34m(\u001b[0m\u001b[0mlabels\u001b[0m\u001b[0;34m,\u001b[0m \u001b[0mlevel\u001b[0m\u001b[0;34m=\u001b[0m\u001b[0mlevel\u001b[0m\u001b[0;34m,\u001b[0m \u001b[0merrors\u001b[0m\u001b[0;34m=\u001b[0m\u001b[0merrors\u001b[0m\u001b[0;34m)\u001b[0m\u001b[0;34m\u001b[0m\u001b[0;34m\u001b[0m\u001b[0m\n\u001b[1;32m   3920\u001b[0m             \u001b[0;32melse\u001b[0m\u001b[0;34m:\u001b[0m\u001b[0;34m\u001b[0m\u001b[0;34m\u001b[0m\u001b[0m\n\u001b[0;32m-> 3921\u001b[0;31m                 \u001b[0mnew_axis\u001b[0m \u001b[0;34m=\u001b[0m \u001b[0maxis\u001b[0m\u001b[0;34m.\u001b[0m\u001b[0mdrop\u001b[0m\u001b[0;34m(\u001b[0m\u001b[0mlabels\u001b[0m\u001b[0;34m,\u001b[0m \u001b[0merrors\u001b[0m\u001b[0;34m=\u001b[0m\u001b[0merrors\u001b[0m\u001b[0;34m)\u001b[0m\u001b[0;34m\u001b[0m\u001b[0;34m\u001b[0m\u001b[0m\n\u001b[0m\u001b[1;32m   3922\u001b[0m             \u001b[0mresult\u001b[0m \u001b[0;34m=\u001b[0m \u001b[0mself\u001b[0m\u001b[0;34m.\u001b[0m\u001b[0mreindex\u001b[0m\u001b[0;34m(\u001b[0m\u001b[0;34m**\u001b[0m\u001b[0;34m{\u001b[0m\u001b[0maxis_name\u001b[0m\u001b[0;34m:\u001b[0m \u001b[0mnew_axis\u001b[0m\u001b[0;34m}\u001b[0m\u001b[0;34m)\u001b[0m\u001b[0;34m\u001b[0m\u001b[0;34m\u001b[0m\u001b[0m\n\u001b[1;32m   3923\u001b[0m \u001b[0;34m\u001b[0m\u001b[0m\n",
      "\u001b[0;32m~/opt/anaconda3/lib/python3.7/site-packages/pandas/core/indexes/base.py\u001b[0m in \u001b[0;36mdrop\u001b[0;34m(self, labels, errors)\u001b[0m\n\u001b[1;32m   5280\u001b[0m         \u001b[0;32mif\u001b[0m \u001b[0mmask\u001b[0m\u001b[0;34m.\u001b[0m\u001b[0many\u001b[0m\u001b[0;34m(\u001b[0m\u001b[0;34m)\u001b[0m\u001b[0;34m:\u001b[0m\u001b[0;34m\u001b[0m\u001b[0;34m\u001b[0m\u001b[0m\n\u001b[1;32m   5281\u001b[0m             \u001b[0;32mif\u001b[0m \u001b[0merrors\u001b[0m \u001b[0;34m!=\u001b[0m \u001b[0;34m\"ignore\"\u001b[0m\u001b[0;34m:\u001b[0m\u001b[0;34m\u001b[0m\u001b[0;34m\u001b[0m\u001b[0m\n\u001b[0;32m-> 5282\u001b[0;31m                 \u001b[0;32mraise\u001b[0m \u001b[0mKeyError\u001b[0m\u001b[0;34m(\u001b[0m\u001b[0;34mf\"{labels[mask]} not found in axis\"\u001b[0m\u001b[0;34m)\u001b[0m\u001b[0;34m\u001b[0m\u001b[0;34m\u001b[0m\u001b[0m\n\u001b[0m\u001b[1;32m   5283\u001b[0m             \u001b[0mindexer\u001b[0m \u001b[0;34m=\u001b[0m \u001b[0mindexer\u001b[0m\u001b[0;34m[\u001b[0m\u001b[0;34m~\u001b[0m\u001b[0mmask\u001b[0m\u001b[0;34m]\u001b[0m\u001b[0;34m\u001b[0m\u001b[0;34m\u001b[0m\u001b[0m\n\u001b[1;32m   5284\u001b[0m         \u001b[0;32mreturn\u001b[0m \u001b[0mself\u001b[0m\u001b[0;34m.\u001b[0m\u001b[0mdelete\u001b[0m\u001b[0;34m(\u001b[0m\u001b[0mindexer\u001b[0m\u001b[0;34m)\u001b[0m\u001b[0;34m\u001b[0m\u001b[0;34m\u001b[0m\u001b[0m\n",
      "\u001b[0;31mKeyError\u001b[0m: \"['binomial_rating' 'color' 'penwidth'] not found in axis\""
     ]
    }
   ],
   "source": [
    "cols = ['ratee','rater','date','rating','class']\n",
    "features_df = pd.merge(pd.merge(pd.merge(df_gr,df_dv,on=cols),df_sv,on=cols),df_b,on=cols)\n",
    "features_df.drop(['binomial_rating','color','penwidth'], axis=1, inplace=True)"
   ]
  },
  {
   "cell_type": "code",
   "execution_count": 76,
   "metadata": {},
   "outputs": [
    {
     "name": "stdout",
     "output_type": "stream",
     "text": [
      "<class 'pandas.core.frame.DataFrame'>\n",
      "Int64Index: 24186 entries, 0 to 24185\n",
      "Data columns (total 31 columns):\n",
      " #   Column                  Non-Null Count  Dtype  \n",
      "---  ------                  --------------  -----  \n",
      " 0   rater                   24186 non-null  int64  \n",
      " 1   ratee                   24186 non-null  int64  \n",
      " 2   rating                  24186 non-null  int64  \n",
      " 3   date                    24186 non-null  object \n",
      " 4   class                   24186 non-null  int64  \n",
      " 5   cluster_coef            24186 non-null  float64\n",
      " 6   num_cliques             24186 non-null  float64\n",
      " 7   vel_24_in_pos           24186 non-null  float64\n",
      " 8   vel_24_in_neg           24186 non-null  float64\n",
      " 9   vel_24_in_all           24186 non-null  float64\n",
      " 10  vel_24_out_pos          24186 non-null  float64\n",
      " 11  vel_24_out_neg          24186 non-null  float64\n",
      " 12  vel_24_out_all          24186 non-null  float64\n",
      " 13  vel_24_all              24186 non-null  float64\n",
      " 14  vel_48_in_pos           24186 non-null  float64\n",
      " 15  vel_48_in_neg           24186 non-null  float64\n",
      " 16  vel_48_in_all           24186 non-null  float64\n",
      " 17  vel_48_out_pos          24186 non-null  float64\n",
      " 18  vel_48_out_neg          24186 non-null  float64\n",
      " 19  vel_48_out_all          24186 non-null  float64\n",
      " 20  vel_48_all              24186 non-null  float64\n",
      " 21  days_since_last_rated   24186 non-null  float64\n",
      " 22  days_since_first_rated  24186 non-null  float64\n",
      " 23  successive_neg_rating   24186 non-null  float64\n",
      " 24  num_ratings_received    24186 non-null  float64\n",
      " 25  num_neg_received        24186 non-null  float64\n",
      " 26  num_pos_received        24186 non-null  float64\n",
      " 27  neg_received_pct        24186 non-null  float64\n",
      " 28  rating_received_sum     24186 non-null  float64\n",
      " 29  rating_received_avg     24186 non-null  float64\n",
      " 30  days_active             24186 non-null  float64\n",
      "dtypes: float64(26), int64(4), object(1)\n",
      "memory usage: 5.9+ MB\n"
     ]
    }
   ],
   "source": [
    "features_df.info()"
   ]
  },
  {
   "cell_type": "markdown",
   "metadata": {},
   "source": [
    "What is the range of user numbers in the networks?"
   ]
  },
  {
   "cell_type": "code",
   "execution_count": 64,
   "metadata": {},
   "outputs": [
    {
     "data": {
      "text/plain": [
       "260"
      ]
     },
     "execution_count": 64,
     "metadata": {},
     "output_type": "execute_result"
    }
   ],
   "source": [
    "df = features_df\n",
    "df[df['num_ratings_received']==0]['class'].sum()"
   ]
  },
  {
   "cell_type": "code",
   "execution_count": 77,
   "metadata": {},
   "outputs": [
    {
     "name": "stdout",
     "output_type": "stream",
     "text": [
      "0.6380208333333334\n",
      "0.8221476510067114\n"
     ]
    },
    {
     "data": {
      "text/plain": [
       "array([0.06779584, 0.17432961, 0.0025359 , 0.00934785, 0.00286073,\n",
       "       0.00238474, 0.00165786, 0.00332053, 0.0041539 , 0.00569707,\n",
       "       0.01031602, 0.00569107, 0.00421781, 0.00235771, 0.00567965,\n",
       "       0.00660077, 0.09936411, 0.07848321, 0.06718515, 0.03978316,\n",
       "       0.04478927, 0.04072625, 0.07466773, 0.08787957, 0.09319463,\n",
       "       0.06497984])"
      ]
     },
     "execution_count": 77,
     "metadata": {},
     "output_type": "execute_result"
    }
   ],
   "source": [
    "from sklearn.model_selection import train_test_split\n",
    "from sklearn.ensemble import RandomForestClassifier\n",
    "from sklearn.metrics import confusion_matrix\n",
    "from sklearn.metrics import recall_score\n",
    "from sklearn.metrics import precision_score\n",
    "# X = alpha_with_ratee_stats.copy()\n",
    "# X = X.drop(['rater', 'ratee', 'rating','date', 'color', 'penwidth', 'binomial_rating'], axis=1)\n",
    "X = features_df.copy()\n",
    "X = X.drop(['rater', 'ratee', 'rating','date'], axis=1)\n",
    "y = X.pop('class')\n",
    "\n",
    "\n",
    "X_train, X_test, y_train, y_test = train_test_split(X, y,\n",
    "                                                    stratify=y, shuffle=True,\n",
    "                                                    random_state=123)\n",
    "\n",
    "RF = RandomForestClassifier(n_jobs=-1, random_state=123)\n",
    "RF.fit(X_train, y_train)\n",
    "y_preds = RF.predict(X_test)\n",
    "recall = recall_score(y_test, y_preds)\n",
    "precision = precision_score(y_test, y_preds)\n",
    "\n",
    "# print(X_test[(y_preds==0) & (X_test['num_neg_received']>0)].head(10))\n",
    "print(recall)\n",
    "print(precision)\n",
    "RF.feature_importances_"
   ]
  },
  {
   "cell_type": "code",
   "execution_count": 74,
   "metadata": {},
   "outputs": [
    {
     "data": {
      "text/plain": [
       "Text(0.5,1,'Random Forest feature importance')"
      ]
     },
     "execution_count": 74,
     "metadata": {},
     "output_type": "execute_result"
    },
    {
     "data": {
      "image/png": "[encoded data removed]",
      "text/plain": [
       "<Figure size 1080x1080 with 1 Axes>"
      ]
     },
     "metadata": {
      "needs_background": "light"
     },
     "output_type": "display_data"
    }
   ],
   "source": [
    "import seaborn as sns\n",
    "fig = plt.figure(figsize=(15,15))\n",
    "\n",
    "name = \"Random Forest\"\n",
    "indices = np.argsort(RF.feature_importances_)[::-1][:40]\n",
    "ax1 = sns.barplot(y=X_train.columns[indices][:40],x = RF.feature_importances_[indices][:40] , orient='h')\n",
    "ax1.set_xlabel(\"Relative importance\",fontsize=12)\n",
    "ax1.set_ylabel(\"Features\",fontsize=12)\n",
    "ax1.tick_params(labelsize=9)\n",
    "ax1.set_title(name + \" feature importance\")"
   ]
  },
  {
   "cell_type": "code",
   "execution_count": null,
   "metadata": {},
   "outputs": [],
   "source": [
    "# number of unique days in dataset \n",
    "# This is the number of iterations of node2vec that will need to be run\n",
    "# may take 2 days - need to test time on maximum size graph (last day)\n",
    "\n",
    "# alpha[\"date\"].dt.normalize().nunique()"
   ]
  },
  {
   "cell_type": "code",
   "execution_count": null,
   "metadata": {},
   "outputs": [],
   "source": [
    "alpha['class'].mean()"
   ]
  },
  {
   "cell_type": "code",
   "execution_count": null,
   "metadata": {},
   "outputs": [],
   "source": [
    "# first fraud\n",
    "alpha_df[alpha_df['rating']<0].sort_values('date')[270:290]"
   ]
  },
  {
   "cell_type": "code",
   "execution_count": null,
   "metadata": {},
   "outputs": [],
   "source": [
    "user_data_in = alpha_df[(alpha_df['ratee']==54) & (alpha_df['date'] < '2010-11-07 21:00:00')]"
   ]
  },
  {
   "cell_type": "code",
   "execution_count": 11,
   "metadata": {},
   "outputs": [],
   "source": [
    "import time \n",
    "from datetime import datetime\n",
    "\n",
    "def feature_creation_collusion(bitcoin_df, user, rate_date):\n",
    "    df = bitcoin_df.copy()\n",
    "    user_data_in = df[(df['ratee']==user) & ((df['date'] < rate_date) | ((df['date']==rate_date) & (df['rating'] > 0)))]\n",
    "    if len(user_data_in)==0:\n",
    "        return np.zeros(8)\n",
    "    num_ratings_received = len(user_data_in)\n",
    "    num_neg_received = user_data_in['class'].sum()\n",
    "    num_pos_received = num_ratings_received - num_neg_received\n",
    "    neg_ratings_pct = num_neg_received / num_ratings_received\n",
    "    rating_sum = user_data_in['rating'].sum()\n",
    "    days_active = (rate_date - user_data_in['date'].min()).days\n",
    "    _, g = h.build_graph(df, maxdate=rate_date)\n",
    "    cluster_coef = nx.clustering(g, user)\n",
    "    g = g.to_undirected()\n",
    "    num_cliques = nx.number_of_cliques(g, user)\n",
    "\n",
    "    A = np.array([num_ratings_received, num_neg_received, num_pos_received, \n",
    "                  neg_ratings_pct, rating_sum, days_active, cluster_coef, num_cliques])\n",
    "    A[np.isnan(A)] = 0\n",
    "    return A"
   ]
  },
  {
   "cell_type": "code",
   "execution_count": 12,
   "metadata": {},
   "outputs": [],
   "source": [
    "\n",
    "def feature_iteration_collusion(bitcoin_df):\n",
    "    start_time = time.time()\n",
    "    df = bitcoin_df.copy()\n",
    "    for i, row in df.iterrows():\n",
    "        user = row['ratee']\n",
    "        rate_date = row['date']\n",
    "        num_ratings_received, num_neg_received, num_pos_received, \\\n",
    "        neg_ratings_pct, rating_sum, days_active, cluster_coef, \\\n",
    "        num_cliques = feature_creation_collusion(df, user, rate_date)\n",
    "        df.at[(i,'num_ratings_received')] = num_ratings_received\n",
    "        df.at[(i,'num_neg_received')] = num_neg_received\n",
    "        df.at[(i,'num_pos_received')] = num_pos_received\n",
    "        df.at[(i,'neg_ratings_pct')] = neg_ratings_pct\n",
    "        df.at[(i,'rating_sum')] = rating_sum\n",
    "        df.at[(i,'days_active')] = days_active\n",
    "        df.at[(i,'cluster_coef')] = cluster_coef\n",
    "        df.at[(i,'num_cliques')] = num_cliques\n",
    "        t = time.time() - start_time\n",
    "        print(f\"{t:.0f} seconds execution time for node {user} on {rate_date}\")\n",
    "    return df\n",
    "alpha_with_ratee_stats = feature_iteration_collusion(alpha_df)"
   ]
  },
  {
   "cell_type": "code",
   "execution_count": 13,
   "metadata": {},
   "outputs": [],
   "source": [
    "alpha_with_ratee_stats.to_csv('alpha_with_ratee_stats.csv', index=False)\n"
   ]
  },
  {
   "cell_type": "code",
   "execution_count": 14,
   "metadata": {},
   "outputs": [
    {
     "name": "stdout",
     "output_type": "stream",
     "text": [
      "<class 'pandas.core.frame.DataFrame'>\n",
      "Int64Index: 24186 entries, 1276 to 5382\n",
      "Data columns (total 16 columns):\n",
      " #   Column                Non-Null Count  Dtype         \n",
      "---  ------                --------------  -----         \n",
      " 0   rater                 24186 non-null  int64         \n",
      " 1   ratee                 24186 non-null  int64         \n",
      " 2   rating                24186 non-null  int64         \n",
      " 3   date                  24186 non-null  datetime64[ns]\n",
      " 4   class                 24186 non-null  int64         \n",
      " 5   binomial_rating       24186 non-null  int64         \n",
      " 6   color                 24186 non-null  object        \n",
      " 7   penwidth              24186 non-null  int64         \n",
      " 8   num_ratings_received  24186 non-null  float64       \n",
      " 9   num_neg_received      24186 non-null  float64       \n",
      " 10  num_pos_received      24186 non-null  float64       \n",
      " 11  neg_ratings_pct       24186 non-null  float64       \n",
      " 12  rating_sum            24186 non-null  float64       \n",
      " 13  days_active           24186 non-null  float64       \n",
      " 14  cluster_coef          24186 non-null  float64       \n",
      " 15  num_cliques           24186 non-null  float64       \n",
      "dtypes: datetime64[ns](1), float64(8), int64(6), object(1)\n",
      "memory usage: 3.8+ MB\n"
     ]
    }
   ],
   "source": [
    "alpha_with_ratee_stats.info()"
   ]
  },
  {
   "cell_type": "code",
   "execution_count": 27,
   "metadata": {},
   "outputs": [
    {
     "data": {
      "text/html": [
       "<div>\n",
       "<style scoped>\n",
       "    .dataframe tbody tr th:only-of-type {\n",
       "        vertical-align: middle;\n",
       "    }\n",
       "\n",
       "    .dataframe tbody tr th {\n",
       "        vertical-align: top;\n",
       "    }\n",
       "\n",
       "    .dataframe thead th {\n",
       "        text-align: right;\n",
       "    }\n",
       "</style>\n",
       "<table border=\"1\" class=\"dataframe\">\n",
       "  <thead>\n",
       "    <tr style=\"text-align: right;\">\n",
       "      <th></th>\n",
       "      <th>rater</th>\n",
       "      <th>ratee</th>\n",
       "      <th>rating</th>\n",
       "      <th>date</th>\n",
       "      <th>class</th>\n",
       "      <th>binomial_rating</th>\n",
       "      <th>color</th>\n",
       "      <th>penwidth</th>\n",
       "      <th>num_ratings_received</th>\n",
       "      <th>num_neg_received</th>\n",
       "      <th>num_pos_received</th>\n",
       "      <th>neg_ratings_pct</th>\n",
       "      <th>rating_sum</th>\n",
       "      <th>days_active</th>\n",
       "      <th>cluster_coef</th>\n",
       "      <th>num_cliques</th>\n",
       "    </tr>\n",
       "  </thead>\n",
       "  <tbody>\n",
       "    <tr>\n",
       "      <th>14394</th>\n",
       "      <td>114</td>\n",
       "      <td>7310</td>\n",
       "      <td>-1</td>\n",
       "      <td>2015-05-18 21:00:00</td>\n",
       "      <td>1</td>\n",
       "      <td>-1</td>\n",
       "      <td>red</td>\n",
       "      <td>1</td>\n",
       "      <td>1.0</td>\n",
       "      <td>0.0</td>\n",
       "      <td>1.0</td>\n",
       "      <td>0.0</td>\n",
       "      <td>1.0</td>\n",
       "      <td>2.0</td>\n",
       "      <td>1.0</td>\n",
       "      <td>1.0</td>\n",
       "    </tr>\n",
       "    <tr>\n",
       "      <th>3537</th>\n",
       "      <td>8</td>\n",
       "      <td>7485</td>\n",
       "      <td>-1</td>\n",
       "      <td>2013-11-30 21:00:00</td>\n",
       "      <td>1</td>\n",
       "      <td>-1</td>\n",
       "      <td>red</td>\n",
       "      <td>1</td>\n",
       "      <td>1.0</td>\n",
       "      <td>1.0</td>\n",
       "      <td>0.0</td>\n",
       "      <td>1.0</td>\n",
       "      <td>-10.0</td>\n",
       "      <td>3.0</td>\n",
       "      <td>1.0</td>\n",
       "      <td>1.0</td>\n",
       "    </tr>\n",
       "    <tr>\n",
       "      <th>3534</th>\n",
       "      <td>8</td>\n",
       "      <td>5446</td>\n",
       "      <td>-1</td>\n",
       "      <td>2013-11-30 21:00:00</td>\n",
       "      <td>1</td>\n",
       "      <td>-1</td>\n",
       "      <td>red</td>\n",
       "      <td>1</td>\n",
       "      <td>1.0</td>\n",
       "      <td>0.0</td>\n",
       "      <td>1.0</td>\n",
       "      <td>0.0</td>\n",
       "      <td>1.0</td>\n",
       "      <td>371.0</td>\n",
       "      <td>1.0</td>\n",
       "      <td>1.0</td>\n",
       "    </tr>\n",
       "    <tr>\n",
       "      <th>19159</th>\n",
       "      <td>281</td>\n",
       "      <td>3443</td>\n",
       "      <td>-1</td>\n",
       "      <td>2015-12-21 21:00:00</td>\n",
       "      <td>1</td>\n",
       "      <td>-1</td>\n",
       "      <td>red</td>\n",
       "      <td>1</td>\n",
       "      <td>1.0</td>\n",
       "      <td>0.0</td>\n",
       "      <td>1.0</td>\n",
       "      <td>0.0</td>\n",
       "      <td>1.0</td>\n",
       "      <td>90.0</td>\n",
       "      <td>1.0</td>\n",
       "      <td>1.0</td>\n",
       "    </tr>\n",
       "    <tr>\n",
       "      <th>22897</th>\n",
       "      <td>906</td>\n",
       "      <td>7325</td>\n",
       "      <td>-1</td>\n",
       "      <td>2015-10-31 21:00:00</td>\n",
       "      <td>1</td>\n",
       "      <td>-1</td>\n",
       "      <td>red</td>\n",
       "      <td>1</td>\n",
       "      <td>1.0</td>\n",
       "      <td>0.0</td>\n",
       "      <td>1.0</td>\n",
       "      <td>0.0</td>\n",
       "      <td>1.0</td>\n",
       "      <td>0.0</td>\n",
       "      <td>1.0</td>\n",
       "      <td>1.0</td>\n",
       "    </tr>\n",
       "  </tbody>\n",
       "</table>\n",
       "</div>"
      ],
      "text/plain": [
       "       rater  ratee  rating                date  class  binomial_rating color  \\\n",
       "14394    114   7310      -1 2015-05-18 21:00:00      1               -1   red   \n",
       "3537       8   7485      -1 2013-11-30 21:00:00      1               -1   red   \n",
       "3534       8   5446      -1 2013-11-30 21:00:00      1               -1   red   \n",
       "19159    281   3443      -1 2015-12-21 21:00:00      1               -1   red   \n",
       "22897    906   7325      -1 2015-10-31 21:00:00      1               -1   red   \n",
       "\n",
       "       penwidth  num_ratings_received  num_neg_received  num_pos_received  \\\n",
       "14394         1                   1.0               0.0               1.0   \n",
       "3537          1                   1.0               1.0               0.0   \n",
       "3534          1                   1.0               0.0               1.0   \n",
       "19159         1                   1.0               0.0               1.0   \n",
       "22897         1                   1.0               0.0               1.0   \n",
       "\n",
       "       neg_ratings_pct  rating_sum  days_active  cluster_coef  num_cliques  \n",
       "14394              0.0         1.0          2.0           1.0          1.0  \n",
       "3537               1.0       -10.0          3.0           1.0          1.0  \n",
       "3534               0.0         1.0        371.0           1.0          1.0  \n",
       "19159              0.0         1.0         90.0           1.0          1.0  \n",
       "22897              0.0         1.0          0.0           1.0          1.0  "
      ]
     },
     "execution_count": 27,
     "metadata": {},
     "output_type": "execute_result"
    }
   ],
   "source": [
    "alpha_with_ratee_stats[alpha_with_ratee_stats['rating']<0].sort_values('cluster_coef', ascending=False).head()"
   ]
  },
  {
   "cell_type": "code",
   "execution_count": 17,
   "metadata": {},
   "outputs": [
    {
     "name": "stdout",
     "output_type": "stream",
     "text": [
      "0.20052083333333334\n",
      "0.8279569892473119\n"
     ]
    }
   ],
   "source": [
    "# decision based on the existence of a negative rating\n",
    "recall = recall_score(y_test, X_test['rating_sum']<0)\n",
    "precision = precision_score(y_test, X_test['rating_sum']<0)\n",
    "print(recall)\n",
    "print(precision)"
   ]
  },
  {
   "cell_type": "code",
   "execution_count": 18,
   "metadata": {},
   "outputs": [
    {
     "name": "stdout",
     "output_type": "stream",
     "text": [
      "0.4583333333333333\n",
      "0.2561863173216885\n"
     ]
    }
   ],
   "source": [
    "# decision based on total sum of ratings\n",
    "recall = recall_score(y_test, X_test['num_neg_received']>0)\n",
    "precision = precision_score(y_test, X_test['num_neg_received']>0)\n",
    "print(recall)\n",
    "print(precision)"
   ]
  },
  {
   "cell_type": "code",
   "execution_count": 1,
   "metadata": {},
   "outputs": [],
   "source": [
    "# X_test[y_preds==1]"
   ]
  },
  {
   "cell_type": "markdown",
   "metadata": {},
   "source": [
    "## ATO Features"
   ]
  },
  {
   "cell_type": "code",
   "execution_count": 18,
   "metadata": {},
   "outputs": [],
   "source": [
    "# for bitcoin alpha - needs to be modified for bitcoin_otc\n",
    "def feature_creation_ato(bitcoin_df, user, rate_date):\n",
    "    df = bitcoin_df.copy()\n",
    "    user_data = df[(df['ratee']==user) & ((df['date'] < rate_date) | ((df['date']==rate_date) & (df['rating'] > 0)))]\n",
    "    if len(user_data) <= 1:\n",
    "        return 0, 0\n",
    "    else:\n",
    "        days_since_last_active = (rate_date - user_data.iloc[-2]['date']).days\n",
    "        if user_data.iloc[-2]['rating'] < 0:\n",
    "            successive_neg_rating = 1\n",
    "            if len(user_data) > 2:\n",
    "                if user_data.iloc[-3]['rating'] < 0:\n",
    "                    successive_neg_rating = 2\n",
    "                    if len(user_data) > 3:\n",
    "                        if user_data.iloc[-4]['rating'] < 0:\n",
    "                            successive_neg_rating = 3\n",
    "        else:\n",
    "            successive_neg_rating = 0\n",
    "    return days_since_last_active, successive_neg_rating"
   ]
  },
  {
   "cell_type": "code",
   "execution_count": 21,
   "metadata": {},
   "outputs": [],
   "source": [
    "def feature_iteration_ato(bitcoin_df):\n",
    "    df = bitcoin_df.copy()\n",
    "    df = df[['rater', 'ratee','rating','date']]\n",
    "    for i, row in df.iterrows():\n",
    "        user = row['ratee']\n",
    "        rate_date = row['date']\n",
    "        days_since_last_active, successive_neg_rating = feature_creation_ato(df, user, rate_date)\n",
    "        df.at[(i,'days_since_last_active')] = days_since_last_active\n",
    "        df.at[(i,'successive_neg_rating')] = successive_neg_rating\n",
    "    return df\n",
    "alpha_features_ato = feature_iteration_ato(alpha_df)"
   ]
  },
  {
   "cell_type": "code",
   "execution_count": 22,
   "metadata": {},
   "outputs": [
    {
     "data": {
      "text/html": [
       "<div>\n",
       "<style scoped>\n",
       "    .dataframe tbody tr th:only-of-type {\n",
       "        vertical-align: middle;\n",
       "    }\n",
       "\n",
       "    .dataframe tbody tr th {\n",
       "        vertical-align: top;\n",
       "    }\n",
       "\n",
       "    .dataframe thead th {\n",
       "        text-align: right;\n",
       "    }\n",
       "</style>\n",
       "<table border=\"1\" class=\"dataframe\">\n",
       "  <thead>\n",
       "    <tr style=\"text-align: right;\">\n",
       "      <th></th>\n",
       "      <th>rater</th>\n",
       "      <th>ratee</th>\n",
       "      <th>rating</th>\n",
       "      <th>date</th>\n",
       "      <th>days_since_last_active</th>\n",
       "      <th>successive_neg_rating</th>\n",
       "    </tr>\n",
       "  </thead>\n",
       "  <tbody>\n",
       "    <tr>\n",
       "      <th>1276</th>\n",
       "      <td>2</td>\n",
       "      <td>402</td>\n",
       "      <td>1</td>\n",
       "      <td>2010-11-07 21:00:00</td>\n",
       "      <td>0.0</td>\n",
       "      <td>0.0</td>\n",
       "    </tr>\n",
       "    <tr>\n",
       "      <th>10469</th>\n",
       "      <td>113</td>\n",
       "      <td>54</td>\n",
       "      <td>4</td>\n",
       "      <td>2010-11-07 21:00:00</td>\n",
       "      <td>0.0</td>\n",
       "      <td>0.0</td>\n",
       "    </tr>\n",
       "    <tr>\n",
       "      <th>4004</th>\n",
       "      <td>10</td>\n",
       "      <td>970</td>\n",
       "      <td>8</td>\n",
       "      <td>2010-11-07 21:00:00</td>\n",
       "      <td>0.0</td>\n",
       "      <td>0.0</td>\n",
       "    </tr>\n",
       "    <tr>\n",
       "      <th>4005</th>\n",
       "      <td>10</td>\n",
       "      <td>271</td>\n",
       "      <td>8</td>\n",
       "      <td>2010-11-07 21:00:00</td>\n",
       "      <td>0.0</td>\n",
       "      <td>0.0</td>\n",
       "    </tr>\n",
       "    <tr>\n",
       "      <th>10468</th>\n",
       "      <td>119</td>\n",
       "      <td>54</td>\n",
       "      <td>5</td>\n",
       "      <td>2010-11-09 21:00:00</td>\n",
       "      <td>2.0</td>\n",
       "      <td>0.0</td>\n",
       "    </tr>\n",
       "    <tr>\n",
       "      <th>...</th>\n",
       "      <td>...</td>\n",
       "      <td>...</td>\n",
       "      <td>...</td>\n",
       "      <td>...</td>\n",
       "      <td>...</td>\n",
       "      <td>...</td>\n",
       "    </tr>\n",
       "    <tr>\n",
       "      <th>21812</th>\n",
       "      <td>1202</td>\n",
       "      <td>604</td>\n",
       "      <td>1</td>\n",
       "      <td>2016-01-15 21:00:00</td>\n",
       "      <td>196.0</td>\n",
       "      <td>0.0</td>\n",
       "    </tr>\n",
       "    <tr>\n",
       "      <th>19152</th>\n",
       "      <td>281</td>\n",
       "      <td>3450</td>\n",
       "      <td>1</td>\n",
       "      <td>2016-01-15 21:00:00</td>\n",
       "      <td>0.0</td>\n",
       "      <td>0.0</td>\n",
       "    </tr>\n",
       "    <tr>\n",
       "      <th>14393</th>\n",
       "      <td>114</td>\n",
       "      <td>7370</td>\n",
       "      <td>-1</td>\n",
       "      <td>2016-01-16 21:00:00</td>\n",
       "      <td>0.0</td>\n",
       "      <td>0.0</td>\n",
       "    </tr>\n",
       "    <tr>\n",
       "      <th>13594</th>\n",
       "      <td>3451</td>\n",
       "      <td>98</td>\n",
       "      <td>5</td>\n",
       "      <td>2016-01-21 21:00:00</td>\n",
       "      <td>22.0</td>\n",
       "      <td>0.0</td>\n",
       "    </tr>\n",
       "    <tr>\n",
       "      <th>5382</th>\n",
       "      <td>15</td>\n",
       "      <td>3451</td>\n",
       "      <td>1</td>\n",
       "      <td>2016-01-21 21:00:00</td>\n",
       "      <td>0.0</td>\n",
       "      <td>0.0</td>\n",
       "    </tr>\n",
       "  </tbody>\n",
       "</table>\n",
       "<p>24186 rows × 6 columns</p>\n",
       "</div>"
      ],
      "text/plain": [
       "       rater  ratee  rating                date  days_since_last_active  \\\n",
       "1276       2    402       1 2010-11-07 21:00:00                     0.0   \n",
       "10469    113     54       4 2010-11-07 21:00:00                     0.0   \n",
       "4004      10    970       8 2010-11-07 21:00:00                     0.0   \n",
       "4005      10    271       8 2010-11-07 21:00:00                     0.0   \n",
       "10468    119     54       5 2010-11-09 21:00:00                     2.0   \n",
       "...      ...    ...     ...                 ...                     ...   \n",
       "21812   1202    604       1 2016-01-15 21:00:00                   196.0   \n",
       "19152    281   3450       1 2016-01-15 21:00:00                     0.0   \n",
       "14393    114   7370      -1 2016-01-16 21:00:00                     0.0   \n",
       "13594   3451     98       5 2016-01-21 21:00:00                    22.0   \n",
       "5382      15   3451       1 2016-01-21 21:00:00                     0.0   \n",
       "\n",
       "       successive_neg_rating  \n",
       "1276                     0.0  \n",
       "10469                    0.0  \n",
       "4004                     0.0  \n",
       "4005                     0.0  \n",
       "10468                    0.0  \n",
       "...                      ...  \n",
       "21812                    0.0  \n",
       "19152                    0.0  \n",
       "14393                    0.0  \n",
       "13594                    0.0  \n",
       "5382                     0.0  \n",
       "\n",
       "[24186 rows x 6 columns]"
      ]
     },
     "execution_count": 22,
     "metadata": {},
     "output_type": "execute_result"
    }
   ],
   "source": [
    "alpha_features_ato"
   ]
  },
  {
   "cell_type": "code",
   "execution_count": null,
   "metadata": {},
   "outputs": [],
   "source": []
  },
  {
   "cell_type": "code",
   "execution_count": null,
   "metadata": {},
   "outputs": [],
   "source": []
  },
  {
   "cell_type": "code",
   "execution_count": null,
   "metadata": {},
   "outputs": [],
   "source": []
  },
  {
   "cell_type": "code",
   "execution_count": null,
   "metadata": {},
   "outputs": [],
   "source": []
  }
 ],
 "metadata": {
  "kernelspec": {
   "display_name": "Python 3",
   "language": "python",
   "name": "python3"
  },
  "language_info": {
   "codemirror_mode": {
    "name": "ipython",
    "version": 3
   },
   "file_extension": ".py",
   "mimetype": "text/x-python",
   "name": "python",
   "nbconvert_exporter": "python",
   "pygments_lexer": "ipython3",
   "version": "3.7.9"
  }
 },
 "nbformat": 4,
 "nbformat_minor": 4
}
