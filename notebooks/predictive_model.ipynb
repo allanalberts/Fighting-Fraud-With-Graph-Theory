{
 "cells": [
  {
   "cell_type": "markdown",
   "metadata": {},
   "source": [
    "# Basic Model"
   ]
  },
  {
   "cell_type": "code",
   "execution_count": 2,
   "metadata": {},
   "outputs": [],
   "source": [
    "import pandas as pd\n",
    "import numpy as np\n",
    "import datetime\n",
    "import networkx as nx\n",
    "\n",
    "import matplotlib.pyplot as plt\n",
    "plt.style.use('ggplot')\n",
    "\n",
    "import sys\n",
    "sys.path.insert(0, '../src')\n",
    "import helpers as h\n",
    "import visualizations as v\n",
    "import time\n",
    "\n",
    "pd.set_option('display.max_columns', None)\n",
    "pd.set_option('display.max_rows', 300)"
   ]
  },
  {
   "cell_type": "code",
   "execution_count": 3,
   "metadata": {},
   "outputs": [],
   "source": [
    "# Load and preprocess data\n",
    "otc_df = h.load_bitcoin_edge_data('../data/soc-sign-bitcoinotc.csv.gz')\n",
    "alpha_df = h.load_bitcoin_edge_data('../data/soc-sign-bitcoinalpha.csv.gz')\n",
    "alpha_users = h.user_activity_dataframe(alpha_df)\n",
    "otc_users = h.user_activity_dataframe(otc_df)"
   ]
  },
  {
   "cell_type": "markdown",
   "metadata": {},
   "source": [
    "What is the range of user numbers in the networks?"
   ]
  },
  {
   "cell_type": "code",
   "execution_count": null,
   "metadata": {},
   "outputs": [],
   "source": [
    "# number of unique days in dataset \n",
    "# This is the number of iterations of node2vec that will need to be run\n",
    "# may take 2 days - need to test time on maximum size graph (last day)\n",
    "\n",
    "# alpha[\"date\"].dt.normalize().nunique()"
   ]
  },
  {
   "cell_type": "code",
   "execution_count": null,
   "metadata": {},
   "outputs": [],
   "source": [
    "alpha['class'].mean()"
   ]
  },
  {
   "cell_type": "code",
   "execution_count": null,
   "metadata": {},
   "outputs": [],
   "source": [
    "# first fraud\n",
    "alpha_df[alpha_df['rating']<0].sort_values('date')[270:290]"
   ]
  },
  {
   "cell_type": "code",
   "execution_count": null,
   "metadata": {},
   "outputs": [],
   "source": [
    "user_data_in = alpha_df[(alpha_df['ratee']==54) & (alpha_df['date'] < '2010-11-07 21:00:00')]"
   ]
  },
  {
   "cell_type": "code",
   "execution_count": 11,
   "metadata": {},
   "outputs": [],
   "source": [
    "import time \n",
    "from datetime import datetime\n",
    "\n",
    "def feature_creation_collusion(bitcoin_df, user, rate_date):\n",
    "    df = bitcoin_df.copy()\n",
    "    user_data_in = df[(df['ratee']==user) & ((df['date'] < rate_date) | ((df['date']==rate_date) & (df['rating'] > 0)))]\n",
    "    if len(user_data_in)==0:\n",
    "        return np.zeros(8)\n",
    "    num_ratings_received = len(user_data_in)\n",
    "    num_neg_received = user_data_in['class'].sum()\n",
    "    num_pos_received = num_ratings_received - num_neg_received\n",
    "    neg_ratings_pct = num_neg_received / num_ratings_received\n",
    "    rating_sum = user_data_in['rating'].sum()\n",
    "    days_active = (rate_date - user_data_in['date'].min()).days\n",
    "    _, g = h.build_graph(df, maxdate=rate_date)\n",
    "    cluster_coef = nx.clustering(g, user)\n",
    "    g = g.to_undirected()\n",
    "    num_cliques = nx.number_of_cliques(g, user)\n",
    "\n",
    "    A = np.array([num_ratings_received, num_neg_received, num_pos_received, \n",
    "                  neg_ratings_pct, rating_sum, days_active, cluster_coef, num_cliques])\n",
    "    A[np.isnan(A)] = 0\n",
    "    return A"
   ]
  },
  {
   "cell_type": "code",
   "execution_count": 12,
   "metadata": {},
   "outputs": [],
   "source": [
    "\n",
    "def feature_iteration_collusion(bitcoin_df):\n",
    "    start_time = time.time()\n",
    "    df = bitcoin_df.copy()\n",
    "    for i, row in df.iterrows():\n",
    "        user = row['ratee']\n",
    "        rate_date = row['date']\n",
    "        num_ratings_received, num_neg_received, num_pos_received, \\\n",
    "        neg_ratings_pct, rating_sum, days_active, cluster_coef, \\\n",
    "        num_cliques = feature_creation_collusion(df, user, rate_date)\n",
    "        df.at[(i,'num_ratings_received')] = num_ratings_received\n",
    "        df.at[(i,'num_neg_received')] = num_neg_received\n",
    "        df.at[(i,'num_pos_received')] = num_pos_received\n",
    "        df.at[(i,'neg_ratings_pct')] = neg_ratings_pct\n",
    "        df.at[(i,'rating_sum')] = rating_sum\n",
    "        df.at[(i,'days_active')] = days_active\n",
    "        df.at[(i,'cluster_coef')] = cluster_coef\n",
    "        df.at[(i,'num_cliques')] = num_cliques\n",
    "        t = time.time() - start_time\n",
    "        print(f\"{t:.0f} seconds execution time for node {user} on {rate_date}\")\n",
    "    return df\n",
    "alpha_with_ratee_stats = feature_iteration_collusion(alpha_df)"
   ]
  },
  {
   "cell_type": "code",
   "execution_count": 13,
   "metadata": {},
   "outputs": [],
   "source": [
    "alpha_with_ratee_stats.to_csv('alpha_with_ratee_stats.csv', index=False)\n"
   ]
  },
  {
   "cell_type": "code",
   "execution_count": 14,
   "metadata": {},
   "outputs": [
    {
     "name": "stdout",
     "output_type": "stream",
     "text": [
      "<class 'pandas.core.frame.DataFrame'>\n",
      "Int64Index: 24186 entries, 1276 to 5382\n",
      "Data columns (total 16 columns):\n",
      " #   Column                Non-Null Count  Dtype         \n",
      "---  ------                --------------  -----         \n",
      " 0   rater                 24186 non-null  int64         \n",
      " 1   ratee                 24186 non-null  int64         \n",
      " 2   rating                24186 non-null  int64         \n",
      " 3   date                  24186 non-null  datetime64[ns]\n",
      " 4   class                 24186 non-null  int64         \n",
      " 5   binomial_rating       24186 non-null  int64         \n",
      " 6   color                 24186 non-null  object        \n",
      " 7   penwidth              24186 non-null  int64         \n",
      " 8   num_ratings_received  24186 non-null  float64       \n",
      " 9   num_neg_received      24186 non-null  float64       \n",
      " 10  num_pos_received      24186 non-null  float64       \n",
      " 11  neg_ratings_pct       24186 non-null  float64       \n",
      " 12  rating_sum            24186 non-null  float64       \n",
      " 13  days_active           24186 non-null  float64       \n",
      " 14  cluster_coef          24186 non-null  float64       \n",
      " 15  num_cliques           24186 non-null  float64       \n",
      "dtypes: datetime64[ns](1), float64(8), int64(6), object(1)\n",
      "memory usage: 3.8+ MB\n"
     ]
    }
   ],
   "source": [
    "alpha_with_ratee_stats.info()"
   ]
  },
  {
   "cell_type": "code",
   "execution_count": 27,
   "metadata": {},
   "outputs": [
    {
     "data": {
      "text/html": [
       "<div>\n",
       "<style scoped>\n",
       "    .dataframe tbody tr th:only-of-type {\n",
       "        vertical-align: middle;\n",
       "    }\n",
       "\n",
       "    .dataframe tbody tr th {\n",
       "        vertical-align: top;\n",
       "    }\n",
       "\n",
       "    .dataframe thead th {\n",
       "        text-align: right;\n",
       "    }\n",
       "</style>\n",
       "<table border=\"1\" class=\"dataframe\">\n",
       "  <thead>\n",
       "    <tr style=\"text-align: right;\">\n",
       "      <th></th>\n",
       "      <th>rater</th>\n",
       "      <th>ratee</th>\n",
       "      <th>rating</th>\n",
       "      <th>date</th>\n",
       "      <th>class</th>\n",
       "      <th>binomial_rating</th>\n",
       "      <th>color</th>\n",
       "      <th>penwidth</th>\n",
       "      <th>num_ratings_received</th>\n",
       "      <th>num_neg_received</th>\n",
       "      <th>num_pos_received</th>\n",
       "      <th>neg_ratings_pct</th>\n",
       "      <th>rating_sum</th>\n",
       "      <th>days_active</th>\n",
       "      <th>cluster_coef</th>\n",
       "      <th>num_cliques</th>\n",
       "    </tr>\n",
       "  </thead>\n",
       "  <tbody>\n",
       "    <tr>\n",
       "      <th>14394</th>\n",
       "      <td>114</td>\n",
       "      <td>7310</td>\n",
       "      <td>-1</td>\n",
       "      <td>2015-05-18 21:00:00</td>\n",
       "      <td>1</td>\n",
       "      <td>-1</td>\n",
       "      <td>red</td>\n",
       "      <td>1</td>\n",
       "      <td>1.0</td>\n",
       "      <td>0.0</td>\n",
       "      <td>1.0</td>\n",
       "      <td>0.0</td>\n",
       "      <td>1.0</td>\n",
       "      <td>2.0</td>\n",
       "      <td>1.0</td>\n",
       "      <td>1.0</td>\n",
       "    </tr>\n",
       "    <tr>\n",
       "      <th>3537</th>\n",
       "      <td>8</td>\n",
       "      <td>7485</td>\n",
       "      <td>-1</td>\n",
       "      <td>2013-11-30 21:00:00</td>\n",
       "      <td>1</td>\n",
       "      <td>-1</td>\n",
       "      <td>red</td>\n",
       "      <td>1</td>\n",
       "      <td>1.0</td>\n",
       "      <td>1.0</td>\n",
       "      <td>0.0</td>\n",
       "      <td>1.0</td>\n",
       "      <td>-10.0</td>\n",
       "      <td>3.0</td>\n",
       "      <td>1.0</td>\n",
       "      <td>1.0</td>\n",
       "    </tr>\n",
       "    <tr>\n",
       "      <th>3534</th>\n",
       "      <td>8</td>\n",
       "      <td>5446</td>\n",
       "      <td>-1</td>\n",
       "      <td>2013-11-30 21:00:00</td>\n",
       "      <td>1</td>\n",
       "      <td>-1</td>\n",
       "      <td>red</td>\n",
       "      <td>1</td>\n",
       "      <td>1.0</td>\n",
       "      <td>0.0</td>\n",
       "      <td>1.0</td>\n",
       "      <td>0.0</td>\n",
       "      <td>1.0</td>\n",
       "      <td>371.0</td>\n",
       "      <td>1.0</td>\n",
       "      <td>1.0</td>\n",
       "    </tr>\n",
       "    <tr>\n",
       "      <th>19159</th>\n",
       "      <td>281</td>\n",
       "      <td>3443</td>\n",
       "      <td>-1</td>\n",
       "      <td>2015-12-21 21:00:00</td>\n",
       "      <td>1</td>\n",
       "      <td>-1</td>\n",
       "      <td>red</td>\n",
       "      <td>1</td>\n",
       "      <td>1.0</td>\n",
       "      <td>0.0</td>\n",
       "      <td>1.0</td>\n",
       "      <td>0.0</td>\n",
       "      <td>1.0</td>\n",
       "      <td>90.0</td>\n",
       "      <td>1.0</td>\n",
       "      <td>1.0</td>\n",
       "    </tr>\n",
       "    <tr>\n",
       "      <th>22897</th>\n",
       "      <td>906</td>\n",
       "      <td>7325</td>\n",
       "      <td>-1</td>\n",
       "      <td>2015-10-31 21:00:00</td>\n",
       "      <td>1</td>\n",
       "      <td>-1</td>\n",
       "      <td>red</td>\n",
       "      <td>1</td>\n",
       "      <td>1.0</td>\n",
       "      <td>0.0</td>\n",
       "      <td>1.0</td>\n",
       "      <td>0.0</td>\n",
       "      <td>1.0</td>\n",
       "      <td>0.0</td>\n",
       "      <td>1.0</td>\n",
       "      <td>1.0</td>\n",
       "    </tr>\n",
       "  </tbody>\n",
       "</table>\n",
       "</div>"
      ],
      "text/plain": [
       "       rater  ratee  rating                date  class  binomial_rating color  \\\n",
       "14394    114   7310      -1 2015-05-18 21:00:00      1               -1   red   \n",
       "3537       8   7485      -1 2013-11-30 21:00:00      1               -1   red   \n",
       "3534       8   5446      -1 2013-11-30 21:00:00      1               -1   red   \n",
       "19159    281   3443      -1 2015-12-21 21:00:00      1               -1   red   \n",
       "22897    906   7325      -1 2015-10-31 21:00:00      1               -1   red   \n",
       "\n",
       "       penwidth  num_ratings_received  num_neg_received  num_pos_received  \\\n",
       "14394         1                   1.0               0.0               1.0   \n",
       "3537          1                   1.0               1.0               0.0   \n",
       "3534          1                   1.0               0.0               1.0   \n",
       "19159         1                   1.0               0.0               1.0   \n",
       "22897         1                   1.0               0.0               1.0   \n",
       "\n",
       "       neg_ratings_pct  rating_sum  days_active  cluster_coef  num_cliques  \n",
       "14394              0.0         1.0          2.0           1.0          1.0  \n",
       "3537               1.0       -10.0          3.0           1.0          1.0  \n",
       "3534               0.0         1.0        371.0           1.0          1.0  \n",
       "19159              0.0         1.0         90.0           1.0          1.0  \n",
       "22897              0.0         1.0          0.0           1.0          1.0  "
      ]
     },
     "execution_count": 27,
     "metadata": {},
     "output_type": "execute_result"
    }
   ],
   "source": [
    "alpha_with_ratee_stats[alpha_with_ratee_stats['rating']<0].sort_values('cluster_coef', ascending=False).head()"
   ]
  },
  {
   "cell_type": "code",
   "execution_count": 16,
   "metadata": {},
   "outputs": [
    {
     "name": "stdout",
     "output_type": "stream",
     "text": [
      "0.5911458333333334\n",
      "0.8107142857142857\n"
     ]
    },
    {
     "data": {
      "text/plain": [
       "array([0.0772982 , 0.07133731, 0.09756422, 0.11934134, 0.2249306 ,\n",
       "       0.16253055, 0.12591187, 0.12108592])"
      ]
     },
     "execution_count": 16,
     "metadata": {},
     "output_type": "execute_result"
    }
   ],
   "source": [
    "from sklearn.model_selection import train_test_split\n",
    "from sklearn.ensemble import RandomForestClassifier\n",
    "from sklearn.metrics import confusion_matrix\n",
    "from sklearn.metrics import recall_score\n",
    "from sklearn.metrics import precision_score\n",
    "X = alpha_with_ratee_stats.copy()\n",
    "X = X.drop(['rater', 'ratee', 'rating','date', 'color', 'penwidth', 'binomial_rating'], axis=1)\n",
    "y = X.pop('class')\n",
    "\n",
    "\n",
    "X_train, X_test, y_train, y_test = train_test_split(X, y,\n",
    "                                                    stratify=y, shuffle=True,\n",
    "                                                    random_state=123)\n",
    "\n",
    "RF = RandomForestClassifier(n_jobs=-1, random_state=123)\n",
    "RF.fit(X_train, y_train)\n",
    "y_preds = RF.predict(X_test)\n",
    "recall = recall_score(y_test, y_preds)\n",
    "precision = precision_score(y_test, y_preds)\n",
    "\n",
    "# print(X_test[(y_preds==0) & (X_test['num_neg_received']>0)].head(10))\n",
    "print(recall)\n",
    "print(precision)\n",
    "RF.feature_importances_"
   ]
  },
  {
   "cell_type": "code",
   "execution_count": 17,
   "metadata": {},
   "outputs": [
    {
     "name": "stdout",
     "output_type": "stream",
     "text": [
      "0.20052083333333334\n",
      "0.8279569892473119\n"
     ]
    }
   ],
   "source": [
    "# decision based on the existence of a negative rating\n",
    "recall = recall_score(y_test, X_test['rating_sum']<0)\n",
    "precision = precision_score(y_test, X_test['rating_sum']<0)\n",
    "print(recall)\n",
    "print(precision)"
   ]
  },
  {
   "cell_type": "code",
   "execution_count": 18,
   "metadata": {},
   "outputs": [
    {
     "name": "stdout",
     "output_type": "stream",
     "text": [
      "0.4583333333333333\n",
      "0.2561863173216885\n"
     ]
    }
   ],
   "source": [
    "# decision based on total sum of ratings\n",
    "recall = recall_score(y_test, X_test['num_neg_received']>0)\n",
    "precision = precision_score(y_test, X_test['num_neg_received']>0)\n",
    "print(recall)\n",
    "print(precision)"
   ]
  },
  {
   "cell_type": "code",
   "execution_count": 1,
   "metadata": {},
   "outputs": [],
   "source": [
    "# X_test[y_preds==1]"
   ]
  },
  {
   "cell_type": "markdown",
   "metadata": {},
   "source": [
    "## ATO Features"
   ]
  },
  {
   "cell_type": "code",
   "execution_count": 18,
   "metadata": {},
   "outputs": [],
   "source": [
    "# for bitcoin alpha - needs to be modified for bitcoin_otc\n",
    "def feature_creation_ato(bitcoin_df, user, rate_date):\n",
    "    df = bitcoin_df.copy()\n",
    "    user_data = df[(df['ratee']==user) & ((df['date'] < rate_date) | ((df['date']==rate_date) & (df['rating'] > 0)))]\n",
    "    if len(user_data) <= 1:\n",
    "        return 0, 0\n",
    "    else:\n",
    "        days_since_last_active = (rate_date - user_data.iloc[-2]['date']).days\n",
    "        if user_data.iloc[-2]['rating'] < 0:\n",
    "            successive_neg_rating = 1\n",
    "            if len(user_data) > 2:\n",
    "                if user_data.iloc[-3]['rating'] < 0:\n",
    "                    successive_neg_rating = 2\n",
    "                    if len(user_data) > 3:\n",
    "                        if user_data.iloc[-4]['rating'] < 0:\n",
    "                            successive_neg_rating = 3\n",
    "        else:\n",
    "            successive_neg_rating = 0\n",
    "    return days_since_last_active, successive_neg_rating"
   ]
  },
  {
   "cell_type": "code",
   "execution_count": 21,
   "metadata": {},
   "outputs": [],
   "source": [
    "def feature_iteration_ato(bitcoin_df):\n",
    "    df = bitcoin_df.copy()\n",
    "    df = df[['rater', 'ratee','rating','date']]\n",
    "    for i, row in df.iterrows():\n",
    "        user = row['ratee']\n",
    "        rate_date = row['date']\n",
    "        days_since_last_active, successive_neg_rating = feature_creation_ato(df, user, rate_date)\n",
    "        df.at[(i,'days_since_last_active')] = days_since_last_active\n",
    "        df.at[(i,'successive_neg_rating')] = successive_neg_rating\n",
    "    return df\n",
    "alpha_features_ato = feature_iteration_ato(alpha_df)"
   ]
  },
  {
   "cell_type": "code",
   "execution_count": 22,
   "metadata": {},
   "outputs": [
    {
     "data": {
      "text/html": [
       "<div>\n",
       "<style scoped>\n",
       "    .dataframe tbody tr th:only-of-type {\n",
       "        vertical-align: middle;\n",
       "    }\n",
       "\n",
       "    .dataframe tbody tr th {\n",
       "        vertical-align: top;\n",
       "    }\n",
       "\n",
       "    .dataframe thead th {\n",
       "        text-align: right;\n",
       "    }\n",
       "</style>\n",
       "<table border=\"1\" class=\"dataframe\">\n",
       "  <thead>\n",
       "    <tr style=\"text-align: right;\">\n",
       "      <th></th>\n",
       "      <th>rater</th>\n",
       "      <th>ratee</th>\n",
       "      <th>rating</th>\n",
       "      <th>date</th>\n",
       "      <th>days_since_last_active</th>\n",
       "      <th>successive_neg_rating</th>\n",
       "    </tr>\n",
       "  </thead>\n",
       "  <tbody>\n",
       "    <tr>\n",
       "      <th>1276</th>\n",
       "      <td>2</td>\n",
       "      <td>402</td>\n",
       "      <td>1</td>\n",
       "      <td>2010-11-07 21:00:00</td>\n",
       "      <td>0.0</td>\n",
       "      <td>0.0</td>\n",
       "    </tr>\n",
       "    <tr>\n",
       "      <th>10469</th>\n",
       "      <td>113</td>\n",
       "      <td>54</td>\n",
       "      <td>4</td>\n",
       "      <td>2010-11-07 21:00:00</td>\n",
       "      <td>0.0</td>\n",
       "      <td>0.0</td>\n",
       "    </tr>\n",
       "    <tr>\n",
       "      <th>4004</th>\n",
       "      <td>10</td>\n",
       "      <td>970</td>\n",
       "      <td>8</td>\n",
       "      <td>2010-11-07 21:00:00</td>\n",
       "      <td>0.0</td>\n",
       "      <td>0.0</td>\n",
       "    </tr>\n",
       "    <tr>\n",
       "      <th>4005</th>\n",
       "      <td>10</td>\n",
       "      <td>271</td>\n",
       "      <td>8</td>\n",
       "      <td>2010-11-07 21:00:00</td>\n",
       "      <td>0.0</td>\n",
       "      <td>0.0</td>\n",
       "    </tr>\n",
       "    <tr>\n",
       "      <th>10468</th>\n",
       "      <td>119</td>\n",
       "      <td>54</td>\n",
       "      <td>5</td>\n",
       "      <td>2010-11-09 21:00:00</td>\n",
       "      <td>2.0</td>\n",
       "      <td>0.0</td>\n",
       "    </tr>\n",
       "    <tr>\n",
       "      <th>...</th>\n",
       "      <td>...</td>\n",
       "      <td>...</td>\n",
       "      <td>...</td>\n",
       "      <td>...</td>\n",
       "      <td>...</td>\n",
       "      <td>...</td>\n",
       "    </tr>\n",
       "    <tr>\n",
       "      <th>21812</th>\n",
       "      <td>1202</td>\n",
       "      <td>604</td>\n",
       "      <td>1</td>\n",
       "      <td>2016-01-15 21:00:00</td>\n",
       "      <td>196.0</td>\n",
       "      <td>0.0</td>\n",
       "    </tr>\n",
       "    <tr>\n",
       "      <th>19152</th>\n",
       "      <td>281</td>\n",
       "      <td>3450</td>\n",
       "      <td>1</td>\n",
       "      <td>2016-01-15 21:00:00</td>\n",
       "      <td>0.0</td>\n",
       "      <td>0.0</td>\n",
       "    </tr>\n",
       "    <tr>\n",
       "      <th>14393</th>\n",
       "      <td>114</td>\n",
       "      <td>7370</td>\n",
       "      <td>-1</td>\n",
       "      <td>2016-01-16 21:00:00</td>\n",
       "      <td>0.0</td>\n",
       "      <td>0.0</td>\n",
       "    </tr>\n",
       "    <tr>\n",
       "      <th>13594</th>\n",
       "      <td>3451</td>\n",
       "      <td>98</td>\n",
       "      <td>5</td>\n",
       "      <td>2016-01-21 21:00:00</td>\n",
       "      <td>22.0</td>\n",
       "      <td>0.0</td>\n",
       "    </tr>\n",
       "    <tr>\n",
       "      <th>5382</th>\n",
       "      <td>15</td>\n",
       "      <td>3451</td>\n",
       "      <td>1</td>\n",
       "      <td>2016-01-21 21:00:00</td>\n",
       "      <td>0.0</td>\n",
       "      <td>0.0</td>\n",
       "    </tr>\n",
       "  </tbody>\n",
       "</table>\n",
       "<p>24186 rows × 6 columns</p>\n",
       "</div>"
      ],
      "text/plain": [
       "       rater  ratee  rating                date  days_since_last_active  \\\n",
       "1276       2    402       1 2010-11-07 21:00:00                     0.0   \n",
       "10469    113     54       4 2010-11-07 21:00:00                     0.0   \n",
       "4004      10    970       8 2010-11-07 21:00:00                     0.0   \n",
       "4005      10    271       8 2010-11-07 21:00:00                     0.0   \n",
       "10468    119     54       5 2010-11-09 21:00:00                     2.0   \n",
       "...      ...    ...     ...                 ...                     ...   \n",
       "21812   1202    604       1 2016-01-15 21:00:00                   196.0   \n",
       "19152    281   3450       1 2016-01-15 21:00:00                     0.0   \n",
       "14393    114   7370      -1 2016-01-16 21:00:00                     0.0   \n",
       "13594   3451     98       5 2016-01-21 21:00:00                    22.0   \n",
       "5382      15   3451       1 2016-01-21 21:00:00                     0.0   \n",
       "\n",
       "       successive_neg_rating  \n",
       "1276                     0.0  \n",
       "10469                    0.0  \n",
       "4004                     0.0  \n",
       "4005                     0.0  \n",
       "10468                    0.0  \n",
       "...                      ...  \n",
       "21812                    0.0  \n",
       "19152                    0.0  \n",
       "14393                    0.0  \n",
       "13594                    0.0  \n",
       "5382                     0.0  \n",
       "\n",
       "[24186 rows x 6 columns]"
      ]
     },
     "execution_count": 22,
     "metadata": {},
     "output_type": "execute_result"
    }
   ],
   "source": [
    "alpha_features_ato"
   ]
  },
  {
   "cell_type": "code",
   "execution_count": null,
   "metadata": {},
   "outputs": [],
   "source": []
  },
  {
   "cell_type": "code",
   "execution_count": null,
   "metadata": {},
   "outputs": [],
   "source": []
  },
  {
   "cell_type": "code",
   "execution_count": null,
   "metadata": {},
   "outputs": [],
   "source": []
  },
  {
   "cell_type": "code",
   "execution_count": null,
   "metadata": {},
   "outputs": [],
   "source": []
  }
 ],
 "metadata": {
  "kernelspec": {
   "display_name": "Python 3",
   "language": "python",
   "name": "python3"
  },
  "language_info": {
   "codemirror_mode": {
    "name": "ipython",
    "version": 3
   },
   "file_extension": ".py",
   "mimetype": "text/x-python",
   "name": "python",
   "nbconvert_exporter": "python",
   "pygments_lexer": "ipython3",
   "version": "3.7.9"
  }
 },
 "nbformat": 4,
 "nbformat_minor": 4
}
