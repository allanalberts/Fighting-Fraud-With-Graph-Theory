{
 "cells": [
  {
   "cell_type": "markdown",
   "metadata": {},
   "source": [
    "# PostgreSQL database analysis"
   ]
  },
  {
   "cell_type": "markdown",
   "metadata": {},
   "source": [
    "#### docker exec -it pgserv psql -U postgres\n",
    "\n",
    "#### explaination:\n",
    "- docker exec: executes commands in a running container\n",
    "- -it: interactive mode (means we get to keep typing\n",
    "- pgserv: container name\n",
    "- psql -U postgres: command being executed\n",
    "\n",
    "#### from docker bash shell:\n",
    "- CREATE DATABASE otc_bitcoin;\n",
    "- /q\n",
    "\n"
   ]
  },
  {
   "cell_type": "code",
   "execution_count": 4,
   "metadata": {},
   "outputs": [],
   "source": [
    "import psycopg2\n",
    "\n",
    "import pandas as pd\n",
    "import numpy as np"
   ]
  },
  {
   "cell_type": "code",
   "execution_count": 5,
   "metadata": {},
   "outputs": [],
   "source": [
    "# open the connection\n",
    "conn = psycopg2.connect(dbname='otc_bitcoin', user='postgres', host='localhost', password='password')"
   ]
  },
  {
   "cell_type": "code",
   "execution_count": 6,
   "metadata": {},
   "outputs": [],
   "source": [
    "df_otc_features = pd.read_csv('../data/df_features_otc.csv')\n",
    "df_otc_velocity = pd.read_csv('../data/df_otc_vd.csv')\n",
    "\n",
    "merge_cols = ['ratee','rater','date','rating','class']\n",
    "features_df = pd.merge(df_otc_features, df_otc_velocity, on=merge_cols)\n",
    "\n",
    "features_df.drop(['binomial_rating', 'color', 'penwidth'], inplace=True, axis=1"
   ]
  },
  {
   "cell_type": "code",
   "execution_count": null,
   "metadata": {},
   "outputs": [],
   "source": [
    "# create a cursor to execute a command\n",
    "c = conn.cursor()\n",
    "\n",
    "# c.execute(\n",
    "#     '''CREATE TABLE features AS\n",
    "#     SELECT userid, COUNT(*) AS cnt, timestamp %(ts)s AS date_7d\n",
    "#     FROM logins\n",
    "#     WHERE logins.tmstmp > timestamp %(ts)s - interval '7 days'\n",
    "#     GROUP BY userid;''', {'ts': ts}\n",
    "# )\n"
   ]
  },
  {
   "cell_type": "code",
   "execution_count": null,
   "metadata": {},
   "outputs": [],
   "source": [
    "# commit the work and close the connection\n",
    "conn.commit()\n",
    "conn.close()"
   ]
  }
 ],
 "metadata": {
  "kernelspec": {
   "display_name": "Python 3",
   "language": "python",
   "name": "python3"
  },
  "language_info": {
   "codemirror_mode": {
    "name": "ipython",
    "version": 3
   },
   "file_extension": ".py",
   "mimetype": "text/x-python",
   "name": "python",
   "nbconvert_exporter": "python",
   "pygments_lexer": "ipython3",
   "version": "3.7.9"
  }
 },
 "nbformat": 4,
 "nbformat_minor": 4
}
