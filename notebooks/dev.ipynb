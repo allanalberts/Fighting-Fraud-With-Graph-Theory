{
 "cells": [
  {
   "cell_type": "markdown",
   "metadata": {},
   "source": [
    "# Dev: Work in progress\n",
    "\n",
    "### Isolating and labeling the most severe fraud\n",
    " explain upfront how I am looking to isolate a single severe form of fraud \n",
    " since I do not have dollar values to work with. These will include ratings boosters and ATO\n",
    "     examine what traits the booster vs. ATO share in common or don't share (graph theory traits)\n",
    "     \n",
    "MO-steps for each type of fraud scenario\n",
    "    - ratings boost\n",
    "        step 1, open fake accounts\n",
    "        sept 2, rate \n",
    "\n",
    "\n",
    "### Approaches for Fraud Detection\n",
    "which technique works better:\n",
    "   - account history profile (includes successive negative ratings - make it just prior one to start with)\n",
    "   - velocity\n",
    "   - graph theory\n",
    "    \n",
    "do any of my graph theory ones come up as a false positive hit? - manually look for these once you think you \n",
    "have the criteria down for categorizing the data."
   ]
  },
  {
   "cell_type": "markdown",
   "metadata": {},
   "source": [
    "### Background / Purpose\n",
    "The purpose of this project is to compare strategies for detecting ratings manipulation that occurs when a fraudster sets up fake accounts and then uses them to boost their peer to peer ratings score.\n",
    "\n",
    "### The Data\n",
    "I will use five years of peer to peer ratings from the Over The Counter (OTC) Bitcoin Marketplace between 2011 and 2016. In this online marketplace, where users traded products and services for bitcoin, each party has the option of rating the trustworthiness of the person they transacted with. Trust ratings range from -10  representing completely untrustworthy to +10 reflecting a very trusted individual. For the purpose of this analysis, I have categorized these ratings as fraud (-10), untrustworhy (-9 to -1), and trusted (>0). The dataset contains four fields: date, rater, ratee, rating.\n",
    "\n",
    "OTC Bitcoin Marketplace: <link>\n",
    "Data Source: <link>\n",
    "\n",
    "### Marketplace Fraud\n",
    "In peer to peer (P2P) marketplaces, fraudsters generally need to establish a trusted rating profile in order to undertake a transaction of any significant value. Therefore, the most aggregious frauds will involve a user account with a positive ratings profile and no history of negative ratings. I will test fraud detection techniques on a subset of the marketplace transactions that meet this criteria:\n",
    "- 3+ prior positive ratings\n",
    "- no history of negative ratings\n",
    "\n",
    "- Total Ratings in dataset: 35,592\n",
    "- Total Ratings in subset: 17,965 \n",
    "- - Negative Ratings: 525 (2%)\n",
    "- - Fraud Ratings: 245 (1%)\n",
    "\n",
    "The two main ways in which fraudsters obtain trusted user profiles. The first is to compromise the login credentials of a user that already has a positive ratings history. With Account Take-Over (ATO), the fraudster then uses the compromised account to engage in fraud with other users. \n",
    "\n",
    "The second mothod is to boost the ratings by creating fake user accounts and then have them rate each other positively. Once accounts have a good rating history, they go out and find an unsuspecting legitimate user to defraud.\n",
    "\n",
    "### Detection Methods\n",
    "I will build three categories of features that will be used by the model to predict fraud. For each rating transaction, I calculate the features based on all of the prior marketplace ratings transactions. \n",
    "\n",
    "#### 1. Graph Theory Metrics\n",
    "Graph theory metrics can be used to understand the interactions that a user is having with other accounts and can be used to identify patterns associated with fraudulent ratings boostings. I used the history of prior positive ratings in the marketplace and generated a Reverse Directed Ego Subgraph of the users rating connections. The subgraph shows interactions between users that the main user has received positive ratings from. This subgraph is then used as the basis for generating predictive features associated with the user, mostly around density metrics. These features consist of:\n",
    "- Counts of triads, specificaly triads 301, 210, 201, and 120\n",
    "- Measure of centrality, specifically high closeness and low betweeness to signify a denser network\n",
    "- Cluster coefficient\n",
    "- Number of degrees or users that where interacted with\n",
    "- Number of cliques\n",
    "- Number of Neighbors\n",
    "- Custer Coefficient\n",
    "- Betweeness\n",
    "- Closeness\n",
    "- Number of Triads\n",
    "- Number of 300 Traids\n",
    "- Number of 201 Triads\n",
    "- Number of 220 Triads\n",
    "\n",
    "#### 2. Velocity Metrics\n",
    "Fraudsters often utilize automation to conduct repetative tasks related to their fraud or ratings manipulation schemes. While automation is used to boost rating profiles, it is unlikely to be used when performing the actual fraud transaction. To detect automation, I built two velocity based features. \n",
    "1. Detect usage of automation on current record\n",
    "2. Detect prior usage of automation by account\n",
    "\n",
    "\n",
    "#### 3. Historical Account Activity\n",
    "Features that look for anomalous user behavior are used to identify ATO fraud. I will use features related days the account has been active and last used.\n",
    "\n",
    "- Days Since First Rating\n",
    "- Days Since Last Rating\n",
    "- Number of Postivite Ratings Received\n",
    "- Number of Negative Ratings Received\n",
    "- Ratio of Negative to Positive Ratings\n",
    "- Average Rating\n"
   ]
  },
  {
   "cell_type": "code",
   "execution_count": 1,
   "metadata": {},
   "outputs": [],
   "source": [
    "import pandas as pd\n",
    "import numpy as np\n",
    "import datetime\n",
    "\n",
    "import matplotlib.pyplot as plt\n",
    "plt.style.use('ggplot')\n",
    "\n",
    "import sys\n",
    "sys.path.insert(0, '../src')\n",
    "import helpers as h\n",
    "import visualizations as v\n",
    "\n",
    "pd.set_option('display.max_columns', None)\n",
    "pd.set_option('display.max_rows', 300)"
   ]
  },
  {
   "cell_type": "code",
   "execution_count": 2,
   "metadata": {},
   "outputs": [],
   "source": [
    "otc_df = h.load_bitcoin_edge_data('../data/soc-sign-bitcoinotc.csv.gz')\n",
    "df_otc_features = pd.read_csv('../data/df_features_otc.csv')\n",
    "\n",
    "df = df_otc_features.copy()\n",
    "df['subclass'] = np.where(df['rating']==-10, 'fraud', \n",
    "                         np.where(df['rating']<0, 'untrustworthy', 'trustworthy'))"
   ]
  },
  {
   "cell_type": "code",
   "execution_count": 10,
   "metadata": {},
   "outputs": [],
   "source": [
    "def ratings_overview(df):\n",
    "    total = len(df)\n",
    "    neg = len(df[df['rating']<0])\n",
    "    fraud = len(df[df['subclass']=='fraud'])\n",
    "    print(f\"Total Ratings: {total}\")\n",
    "    print(f\"Negative Ratings: {neg}, Percent of total: {int(100*neg/total)}%\")\n",
    "    print(f\"Fraud Ratings: {fraud}, Percent of negative: {int(100*fraud/neg)}%, Percent of total: {int(100*fraud/total)}%\")"
   ]
  },
  {
   "cell_type": "code",
   "execution_count": 11,
   "metadata": {},
   "outputs": [
    {
     "name": "stdout",
     "output_type": "stream",
     "text": [
      "Total Ratings: 35592\n",
      "Negative Ratings: 3563, Percent of total: 10%\n",
      "Fraud Ratings: 2413, Percent of negative: 67%, Percent of total: 6%\n"
     ]
    }
   ],
   "source": [
    "ratings_overview(df)"
   ]
  },
  {
   "cell_type": "code",
   "execution_count": 12,
   "metadata": {},
   "outputs": [
    {
     "name": "stdout",
     "output_type": "stream",
     "text": [
      "Total Ratings: 17965\n",
      "Negative Ratings: 525, Percent of total: 2%\n",
      "Fraud Ratings: 245, Percent of negative: 46%, Percent of total: 1%\n"
     ]
    }
   ],
   "source": [
    "df_subset = df[(df['num_neg_received']==0) & (df['num_pos_received']>=3)]\n",
    "ratings_overview(df_subset)"
   ]
  },
  {
   "cell_type": "code",
   "execution_count": 16,
   "metadata": {},
   "outputs": [
    {
     "data": {
      "text/plain": [
       "rating\n",
       "-10     38\n",
       "-5       2\n",
       "-2       1\n",
       " 1     140\n",
       " 2      35\n",
       " 3      24\n",
       " 4       5\n",
       " 5      11\n",
       " 6       3\n",
       " 8       1\n",
       " 10     10\n",
       "Name: rating, dtype: int64"
      ]
     },
     "execution_count": 16,
     "metadata": {},
     "output_type": "execute_result"
    }
   ],
   "source": [
    "df_subset[df_subset['days_since_first_rated']==0].groupby('rating')['rating'].count()"
   ]
  },
  {
   "cell_type": "code",
   "execution_count": 15,
   "metadata": {},
   "outputs": [],
   "source": [
    "#### Breakdown of fraud ratings"
   ]
  },
  {
   "cell_type": "markdown",
   "metadata": {},
   "source": [
    "**text from website on fraud ratings issue**\n",
    "    \n",
    "Identify and classify transactions involving the above ratings manipulation scenario.\n",
    "- record has a negative rating\n",
    "- ratee has received no prior negative ratings\n",
    "- ratee has received at least 3 prior positive ratings\n",
    "   "
   ]
  },
  {
   "cell_type": "markdown",
   "metadata": {},
   "source": [
    "Classify the different types of negative ratings and compare the 3 methods on each\n",
    "    - no prior ratings\n",
    "    - no prior negative ratings (with network boosting)\n",
    "    - no prior negative ratings (without network boosting)\n",
    "    - at least one prior negative rating\n",
    "\n",
    "sequential velocity\n",
    "if last rating was negative - what is the likelihood of a repeat negative rating?\n",
    "How about if last 2 where negative"
   ]
  },
  {
   "cell_type": "code",
   "execution_count": 16,
   "metadata": {},
   "outputs": [],
   "source": [
    "# assign numeric classification:\n",
    "# 0 = positive rating\n",
    "# 1 = negative rating with no prior ratings\n",
    "# 2 = negative rating with no prior negative rating and under 3 positive ratings\n",
    "# 3 = negative rating with no prior negative rating and 3 or more positive ratings *** \n",
    "# 4 = negative rating with prior negative rating\n",
    "df = df_otc_features\n",
    "df['class'] = np.where((df['rating'] > -9), 0, \n",
    "                    np.where((df['num_neg_received']!=0), 4,\n",
    "                        np.where((df['num_pos_received']==0), 1,\n",
    "                             np.where((df['num_pos_received']<3), 2, 3))))"
   ]
  },
  {
   "cell_type": "code",
   "execution_count": 17,
   "metadata": {},
   "outputs": [
    {
     "data": {
      "image/png": "[encoded data removed]",
      "text/plain": [
       "<Figure size 432x288 with 1 Axes>"
      ]
     },
     "metadata": {
      "needs_background": "light"
     },
     "output_type": "display_data"
    }
   ],
   "source": [
    "labels, counts = np.unique(df[df['class']>0]['class'], return_counts=True)\n",
    "labels = ['1: 1st rating', '2: a few pos', '3: 3+ pos', '4: prior neg']\n",
    "plt.bar(labels, counts, align='center')\n",
    "plt.gca().set_xticks(labels)\n",
    "plt.show()\n",
    "# df[df['class']>0].hist('class', bins=9, align='center')\n",
    "# plt.xticks(range(1,4))"
   ]
  },
  {
   "cell_type": "code",
   "execution_count": 19,
   "metadata": {},
   "outputs": [
    {
     "name": "stdout",
     "output_type": "stream",
     "text": [
      "<class 'pandas.core.frame.DataFrame'>\n",
      "RangeIndex: 35592 entries, 0 to 35591\n",
      "Data columns (total 28 columns):\n",
      " #   Column                  Non-Null Count  Dtype  \n",
      "---  ------                  --------------  -----  \n",
      " 0   rater                   35592 non-null  int64  \n",
      " 1   ratee                   35592 non-null  int64  \n",
      " 2   rating                  35592 non-null  int64  \n",
      " 3   date                    35592 non-null  object \n",
      " 4   class                   35592 non-null  int64  \n",
      " 5   binomial_rating         35592 non-null  int64  \n",
      " 6   color                   35592 non-null  object \n",
      " 7   penwidth                35592 non-null  int64  \n",
      " 8   num_ratings_received    35592 non-null  float64\n",
      " 9   num_neg_received        35592 non-null  float64\n",
      " 10  num_pos_received        35592 non-null  float64\n",
      " 11  neg_ratings_pct         35592 non-null  float64\n",
      " 12  rating_received_sum     35592 non-null  float64\n",
      " 13  rating_received_avg     35592 non-null  float64\n",
      " 14  days_since_first_rated  35592 non-null  float64\n",
      " 15  days_since_last_rated   35592 non-null  float64\n",
      " 16  days_active             35592 non-null  float64\n",
      " 17  successive_neg_rating   35592 non-null  float64\n",
      " 18  ego_triad_300           35592 non-null  float64\n",
      " 19  ego_triad_210           35592 non-null  float64\n",
      " 20  ego_triad_201           35592 non-null  float64\n",
      " 21  ego_triad_120           35592 non-null  float64\n",
      " 22  ego_triad_all           35592 non-null  float64\n",
      " 23  ego_cluster_coef        35592 non-null  float64\n",
      " 24  ego_degree              35592 non-null  float64\n",
      " 25  ego_betweeness          35592 non-null  float64\n",
      " 26  ego_closeness           35592 non-null  float64\n",
      " 27  ego_num_cliques         35592 non-null  float64\n",
      "dtypes: float64(20), int64(6), object(2)\n",
      "memory usage: 7.6+ MB\n"
     ]
    }
   ],
   "source": [
    "df.info()"
   ]
  },
  {
   "cell_type": "code",
   "execution_count": 22,
   "metadata": {},
   "outputs": [
    {
     "data": {
      "text/plain": [
       "array([[<matplotlib.axes._subplots.AxesSubplot object at 0x7fd2ab068a10>]],\n",
       "      dtype=object)"
      ]
     },
     "execution_count": 22,
     "metadata": {},
     "output_type": "execute_result"
    },
    {
     "data": {
      "image/png": "[encoded data removed]",
      "text/plain": [
       "<Figure size 432x288 with 1 Axes>"
      ]
     },
     "metadata": {
      "needs_background": "light"
     },
     "output_type": "display_data"
    }
   ],
   "source": [
    "df[df['class']==3].hist('days_since_first_rated', bins=1000)"
   ]
  },
  {
   "cell_type": "markdown",
   "metadata": {},
   "source": [
    "ATO is open for a long time, with a long time period since last review, and success negative reviews\n",
    "so won't know of first negative review (expept that it's been awhile and maybe that's enough)\n",
    "on second review will be looking at prior neg and long time since open and short time since last review (how will you know about the long gap prior to ATO?)"
   ]
  },
  {
   "cell_type": "code",
   "execution_count": 60,
   "metadata": {},
   "outputs": [
    {
     "data": {
      "text/plain": [
       "rating\n",
       "-10    245\n",
       "-9       3\n",
       "-8       5\n",
       "-7       3\n",
       "-5      38\n",
       "-4       5\n",
       "-3      26\n",
       "-2      17\n",
       "-1     183\n",
       "Name: rating, dtype: int64"
      ]
     },
     "execution_count": 60,
     "metadata": {},
     "output_type": "execute_result"
    }
   ],
   "source": [
    "df[df['class']==3].groupby('rating')['rating'].count()\n",
    "\n",
    "# rating of -10 indicates 'fraud'\n",
    "# rating between -1 and -9 inclusive indicates 'untrustworthy'\n",
    "\n",
    "# to do: make a separate bar chart of everybody's negative rating and explain the two categories or rating_type\n",
    "# can make a third category for now of 'trustworthy' - then can blow 4 apart into these two buckets - who\n",
    "# does transaction with prior -10 anyway????? data doesn't make sense?"
   ]
  },
  {
   "cell_type": "code",
   "execution_count": 66,
   "metadata": {},
   "outputs": [
    {
     "data": {
      "text/plain": [
       "array([[<matplotlib.axes._subplots.AxesSubplot object at 0x7f8b05334c50>]],\n",
       "      dtype=object)"
      ]
     },
     "execution_count": 66,
     "metadata": {},
     "output_type": "execute_result"
    },
    {
     "data": {
      "image/png": "[encoded data removed]",
      "text/plain": [
       "<Figure size 432x288 with 1 Axes>"
      ]
     },
     "metadata": {},
     "output_type": "display_data"
    }
   ],
   "source": [
    "# After a certain threshold they could be ATO if followed by more negative ratings\n",
    "\n",
    "# *****  probably good to check days active to determine if ATO ********\n",
    "\n",
    "df[(df['class']==3) & (df['rating']==-10)].hist('num_pos_received', bins=500)"
   ]
  },
  {
   "cell_type": "code",
   "execution_count": null,
   "metadata": {},
   "outputs": [],
   "source": [
    "For this project I will compare three different methods for detecting ratings manipulation.\n",
    "    1. Use of features based on Account profile\n",
    "    2. Use of velocity features\n",
    "    3. Use of graph theory features"
   ]
  },
  {
   "cell_type": "markdown",
   "metadata": {},
   "source": [
    "determine velocity time frame: \n",
    "measure frequency of multiple ratings activity within different time intervals.\n",
    "\n",
    "2 records is reasonable because users will rate each other in close proximity to the conclusion of a transaction. \n",
    "- historgram of users and max velocity score\n",
    "- cdf to show % accounts using  or not using automation???\n",
    "- determining velocity time frame - x axis is number of transactions in time frame\n",
    "    - - y axis is number of accounts in velocity range\n",
    "    - - draw a curve for different velocity time intervals\n",
    "    \n",
    "for min in range(1,10):\n",
    "    max(count number of prior transactions for each user)\n",
    "    get a user count for each number above\n",
    "    "
   ]
  },
  {
   "cell_type": "markdown",
   "metadata": {},
   "source": [
    "### Account Profile Features\n",
    "days since first activity\n",
    "days since last activity\n",
    "\n",
    "num positive ratings\n",
    "num negative ratings\n",
    "average rating\n",
    "negative rating percent\n",
    "\n",
    "need to do EDA on prior sequential ratings\n"
   ]
  }
 ],
 "metadata": {
  "kernelspec": {
   "display_name": "Python 3",
   "language": "python",
   "name": "python3"
  },
  "language_info": {
   "codemirror_mode": {
    "name": "ipython",
    "version": 3
   },
   "file_extension": ".py",
   "mimetype": "text/x-python",
   "name": "python",
   "nbconvert_exporter": "python",
   "pygments_lexer": "ipython3",
   "version": "3.7.9"
  }
 },
 "nbformat": 4,
 "nbformat_minor": 4
}
