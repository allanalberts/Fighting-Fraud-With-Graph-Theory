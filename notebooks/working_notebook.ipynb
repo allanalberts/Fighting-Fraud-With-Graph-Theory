{
 "cells": [
  {
   "cell_type": "markdown",
   "metadata": {},
   "source": [
    "# working notebook\n",
    "\n",
    "### Utility Functions:\n",
    "- load_bitcoin_edge_data(filename)\n",
    "- user_activity_dataframe(bitcoin_df) <-- uses user_stats(bitcoin_df)\n",
    "- build_graph(bitcoin_df, user_lst=[], rating_type='all', maxdate='2016-01-24')\n",
    "#### visualization functions:\n",
    "- plot_timeline(bitcoin_df, title)\n",
    "- add_user_to_graph(existing_graph, new_user, bitcoin_df)\n",
    "\n",
    "### EDA Learnings:\n",
    "alpha network does not have time level timestamp so cannot do velocity or bot analysis\n",
    "or sort chronologically within a day\n",
    "\n",
    "### Interesting Fraud Examples:\n",
    "otc_user = '2680'"
   ]
  },
  {
   "cell_type": "code",
   "execution_count": 3,
   "metadata": {},
   "outputs": [],
   "source": [
    "import pandas as pd\n",
    "import numpy as np\n",
    "import datetime\n",
    "import networkx as nx\n",
    "import nxpd\n",
    "\n",
    "import matplotlib.pyplot as plt\n",
    "\n",
    "import sys\n",
    "sys.path.insert(0, '../src')\n",
    "import helpers as h\n",
    "import visualizations as v\n",
    "import model as m\n",
    "\n",
    "pd.set_option('display.max_columns', None)\n",
    "pd.set_option('display.max_rows', 300)\n",
    "import time"
   ]
  },
  {
   "cell_type": "code",
   "execution_count": 2,
   "metadata": {},
   "outputs": [],
   "source": [
    "# Load and preprocess data\n",
    "otc_df = h.load_bitcoin_edge_data('../data/soc-sign-bitcoinotc.csv.gz')\n",
    "alpha_df = h.load_bitcoin_edge_data('../data/soc-sign-bitcoinalpha.csv.gz')\n",
    "alpha_users = h.user_activity_dataframe(alpha_df)\n",
    "otc_users = h.user_activity_dataframe(otc_df)"
   ]
  },
  {
   "cell_type": "code",
   "execution_count": 1,
   "metadata": {},
   "outputs": [],
   "source": [
    "# Example User Collusion Fraud\n",
    "# df_otc = pd.read_csv('../data/df_features_otc.csv')\n",
    "# df_otc[df_otc['ratee']==4986]"
   ]
  },
  {
   "cell_type": "code",
   "execution_count": 3,
   "metadata": {},
   "outputs": [],
   "source": [
    "# Load graph objects\n",
    "_ , alpha_G = h.build_graph(alpha_df)\n",
    "_ , alpha_pos_G = h.build_graph(alpha_df, rating_type='pos')\n",
    "_ , otc_G = h.build_graph(otc_df)\n",
    "_ , otc_pos_G = h.build_graph(otc_df, rating_type='pos')"
   ]
  },
  {
   "cell_type": "markdown",
   "metadata": {},
   "source": [
    "# Prediction Visualizations"
   ]
  },
  {
   "cell_type": "code",
   "execution_count": 4,
   "metadata": {},
   "outputs": [],
   "source": [
    "df = pd.read_csv(\"../data/alpha_with_ratee_stats.csv\")"
   ]
  },
  {
   "cell_type": "code",
   "execution_count": 5,
   "metadata": {},
   "outputs": [
    {
     "name": "stdout",
     "output_type": "stream",
     "text": [
      "0.5911458333333334\n",
      "0.8107142857142857\n"
     ]
    },
    {
     "data": {
      "text/plain": [
       "array([0.0772982 , 0.07133731, 0.09756422, 0.11934134, 0.2249306 ,\n",
       "       0.16253055, 0.12591187, 0.12108592])"
      ]
     },
     "execution_count": 5,
     "metadata": {},
     "output_type": "execute_result"
    }
   ],
   "source": [
    "from sklearn.model_selection import train_test_split\n",
    "from sklearn.ensemble import RandomForestClassifier\n",
    "from sklearn.metrics import confusion_matrix\n",
    "from sklearn.metrics import recall_score\n",
    "from sklearn.metrics import precision_score\n",
    "X = df.copy()\n",
    "X = X.drop(['rater', 'ratee', 'rating','date', 'color', 'penwidth', 'binomial_rating'], axis=1)\n",
    "y = X.pop('class')\n",
    "\n",
    "\n",
    "X_train, X_test, y_train, y_test = train_test_split(X, y,\n",
    "                                                    stratify=y, shuffle=True,\n",
    "                                                    random_state=123)\n",
    "\n",
    "RF = RandomForestClassifier(n_jobs=-1, random_state=123)\n",
    "RF.fit(X_train, y_train)\n",
    "y_preds = RF.predict(X_test)\n",
    "recall = recall_score(y_test, y_preds)\n",
    "precision = precision_score(y_test, y_preds)\n",
    "\n",
    "# print(X_test[(y_preds==0) & (X_test['num_neg_received']>0)].head(10))\n",
    "print(recall)\n",
    "print(precision)\n",
    "RF.feature_importances_\n",
    " "
   ]
  },
  {
   "cell_type": "code",
   "execution_count": null,
   "metadata": {},
   "outputs": [],
   "source": []
  },
  {
   "cell_type": "code",
   "execution_count": 8,
   "metadata": {},
   "outputs": [
    {
     "data": {
      "text/plain": [
       "Text(0.5,1,'Random Forest feature importance')"
      ]
     },
     "execution_count": 8,
     "metadata": {},
     "output_type": "execute_result"
    },
    {
     "data": {
      "image/png": "[encoded data removed]",
      "text/plain": [
       "<Figure size 1080x1080 with 1 Axes>"
      ]
     },
     "metadata": {
      "needs_background": "light"
     },
     "output_type": "display_data"
    }
   ],
   "source": [
    "import seaborn as sns\n",
    "fig = plt.figure(figsize=(15,15))\n",
    "\n",
    "name = \"Random Forest\"\n",
    "indices = np.argsort(RF.feature_importances_)[::-1][:40]\n",
    "ax1 = sns.barplot(y=X_train.columns[indices][:40],x = RF.feature_importances_[indices][:40] , orient='h')\n",
    "ax1.set_xlabel(\"Relative importance\",fontsize=12)\n",
    "ax1.set_ylabel(\"Features\",fontsize=12)\n",
    "ax1.tick_params(labelsize=9)\n",
    "ax1.set_title(name + \" feature importance\")"
   ]
  }
 ],
 "metadata": {
  "kernelspec": {
   "display_name": "Python 3",
   "language": "python",
   "name": "python3"
  },
  "language_info": {
   "codemirror_mode": {
    "name": "ipython",
    "version": 3
   },
   "file_extension": ".py",
   "mimetype": "text/x-python",
   "name": "python",
   "nbconvert_exporter": "python",
   "pygments_lexer": "ipython3",
   "version": "3.7.9"
  }
 },
 "nbformat": 4,
 "nbformat_minor": 4
}
