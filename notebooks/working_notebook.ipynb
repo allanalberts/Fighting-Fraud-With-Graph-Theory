{
 "cells": [
  {
   "cell_type": "markdown",
   "metadata": {},
   "source": [
    "# working notebook\n",
    "\n",
    "### Utility Functions:\n",
    "- load_bitcoin_edge_data(filename)\n",
    "- user_activity_dataframe(bitcoin_df) <-- uses user_stats(bitcoin_df)\n",
    "- build_graph(bitcoin_df, user_lst=[], rating_type='all', maxdate='2016-01-24')\n",
    "#### visualization functions:\n",
    "- plot_timeline(bitcoin_df, title)\n",
    "- add_user_to_graph(existing_graph, new_user, bitcoin_df)\n",
    "\n",
    "### EDA Learnings:\n",
    "alpha network does not have time level timestamp so cannot do velocity or bot analysis\n",
    "or sort chronologically within a day\n",
    "\n",
    "### Interesting Fraud Examples:\n",
    "otc_user = '2680'"
   ]
  },
  {
   "cell_type": "code",
   "execution_count": 3,
   "metadata": {},
   "outputs": [],
   "source": [
    "import pandas as pd\n",
    "import numpy as np\n",
    "import datetime\n",
    "import networkx as nx\n",
    "import nxpd\n",
    "\n",
    "import matplotlib.pyplot as plt\n",
    "\n",
    "import sys\n",
    "sys.path.insert(0, '../src')\n",
    "import helpers as h\n",
    "import visualizations as v\n",
    "import model as m\n",
    "\n",
    "pd.set_option('display.max_columns', None)\n",
    "pd.set_option('display.max_rows', 300)\n",
    "import time"
   ]
  },
  {
   "cell_type": "code",
   "execution_count": 4,
   "metadata": {},
   "outputs": [],
   "source": [
    "# Load and preprocess data\n",
    "otc_df = h.load_bitcoin_edge_data('../data/soc-sign-bitcoinotc.csv.gz')\n",
    "alpha_df = h.load_bitcoin_edge_data('../data/soc-sign-bitcoinalpha.csv.gz')\n",
    "alpha_users = h.user_activity_dataframe(alpha_df)\n",
    "otc_users = h.user_activity_dataframe(otc_df)"
   ]
  },
  {
   "cell_type": "code",
   "execution_count": 5,
   "metadata": {},
   "outputs": [],
   "source": [
    "# Load graph objects\n",
    "_ , alpha_G = h.build_graph(alpha_df)\n",
    "_ , alpha_pos_G = h.build_graph(alpha_df, rating_type='pos')\n",
    "_ , otc_G = h.build_graph(otc_df)\n",
    "_ , otc_pos_G = h.build_graph(otc_df, rating_type='pos')"
   ]
  },
  {
   "cell_type": "code",
   "execution_count": null,
   "metadata": {},
   "outputs": [],
   "source": [
    "# v.plot_timeline(alpha_df, 'Alpha Bit Coin Ratings Activity')"
   ]
  },
  {
   "cell_type": "code",
   "execution_count": null,
   "metadata": {},
   "outputs": [],
   "source": [
    "# v.plot_timeline(otc_df, 'OTC Bit Coin Ratings Activity')"
   ]
  },
  {
   "cell_type": "markdown",
   "metadata": {},
   "source": [
    "## Base Features"
   ]
  },
  {
   "cell_type": "code",
   "execution_count": null,
   "metadata": {},
   "outputs": [],
   "source": [
    "def base_metrics(bitcoin_df, user, rate_date):\n",
    "    df = bitcoin_df.copy()\n",
    "    \n",
    "    # today's positive ratings and all prior ratings\n",
    "#    user_data = df[(df['ratee']==user) & ((df['date'] < rate_date) | ((df['date']==rate_date) & (df['rating'] > 0)))]\n",
    "\n",
    "    # all prior ratings\n",
    "    user_data = df[(df['ratee']==user) & (df['date'] < rate_date)]\n",
    "    \n",
    "    if len(user_data)==0:\n",
    "        return np.zeros(7)\n",
    "    num_ratings_received = len(user_data)\n",
    "    num_neg_received = user_data['class'].sum()\n",
    "    num_pos_received = num_ratings_received - num_neg_received\n",
    "    neg_received_pct = num_neg_received / num_ratings_received\n",
    "    rating_received_sum = user_data['rating'].sum()\n",
    "    rating_received_avg = user_data['rating'].mean()\n",
    "    days_active = (rate_date - df[(df['ratee']==user) | (df['rater']==user)]['date'].min()).days\n",
    "    return num_ratings_received, num_neg_received, num_pos_received, neg_received_pct, rating_received_sum, rating_received_avg, days_active\n"
   ]
  },
  {
   "cell_type": "code",
   "execution_count": null,
   "metadata": {},
   "outputs": [],
   "source": [
    "def feature_iteration_base_metrics(bitcoin_df):\n",
    "    df = bitcoin_df.copy()\n",
    "    df = df[['rater', 'ratee','rating','date', 'class']]\n",
    "    for i, row in df.iterrows():\n",
    "        user = row['ratee']\n",
    "        rate_date = row['date']\n",
    "        num_ratings_received, num_neg_received, num_pos_received, neg_received_pct, rating_received_sum, rating_received_avg, days_active = base_metrics(df, user, rate_date)\n",
    "        df.at[(i,'num_ratings_received')] = num_ratings_received\n",
    "        df.at[(i,'num_neg_received')] = num_neg_received\n",
    "        df.at[(i,'num_pos_received')] = num_pos_received\n",
    "        df.at[(i,'neg_received_pct')] = neg_received_pct\n",
    "        df.at[(i,'rating_received_sum')] = rating_received_sum\n",
    "        df.at[(i,'rating_received_avg')] = rating_received_avg\n",
    "        df.at[(i,'days_active')] = days_active\n",
    "    return df   "
   ]
  },
  {
   "cell_type": "code",
   "execution_count": null,
   "metadata": {},
   "outputs": [],
   "source": [
    "alpha_df[(alpha_df['ratee']==54) & (alpha_df['date']< '2010-11-09 21:00:00')]"
   ]
  },
  {
   "cell_type": "code",
   "execution_count": null,
   "metadata": {},
   "outputs": [],
   "source": [
    "# base features\n",
    "start_time = time.time()\n",
    "df_b = feature_iteration_base_metrics(alpha_df)\n",
    "print(f\"{(time.time() - start_time):.0f} seconds execution time\")\n",
    "\n",
    "# Save File\n",
    "df_b.to_csv('../data/df_b.csv', index=False)"
   ]
  },
  {
   "cell_type": "markdown",
   "metadata": {},
   "source": [
    "## Velocity Features"
   ]
  },
  {
   "cell_type": "code",
   "execution_count": 6,
   "metadata": {},
   "outputs": [
    {
     "name": "stdout",
     "output_type": "stream",
     "text": [
      "243 seconds execution time\n"
     ]
    }
   ],
   "source": [
    "# date velocity\n",
    "start_time = time.time()\n",
    "df_dv = m.feature_iteration_date_velocity(alpha_df)\n",
    "print(f\"{(time.time() - start_time):.0f} seconds execution time\")\n",
    "\n",
    "# Save File\n",
    "df_dv.to_csv('../data/df_dv.csv', index=False)"
   ]
  },
  {
   "cell_type": "code",
   "execution_count": null,
   "metadata": {},
   "outputs": [],
   "source": [
    "# Retrieve File\n",
    "df_dv = pd.read_csv('../data/df_dv.csv')"
   ]
  },
  {
   "cell_type": "code",
   "execution_count": null,
   "metadata": {},
   "outputs": [],
   "source": [
    "# sequential velocity\n",
    "\n",
    "# looks for sequential negative ratings activity\n",
    "# neg_cnt_last_1_rating\n",
    "# neg_cnt_last_2_rating\n",
    "# neg_cnt_last_3_rating\n",
    "\n",
    "start_time = time.time()\n",
    "df_sv = m.feature_iteration_sequential_velocity(alpha_df)\n",
    "print(f\"{(time.time() - start_time):.0f} seconds execution time\")\n",
    "\n",
    "# Save File\n",
    "df_sv.to_csv('../data/df_sv.csv', index=False)"
   ]
  },
  {
   "cell_type": "code",
   "execution_count": null,
   "metadata": {},
   "outputs": [],
   "source": [
    "df_sv.info()"
   ]
  },
  {
   "cell_type": "code",
   "execution_count": null,
   "metadata": {},
   "outputs": [],
   "source": [
    "# Retrieve File\n",
    "df_sv = pd.read_csv('../data/df_sv.csv')"
   ]
  },
  {
   "cell_type": "markdown",
   "metadata": {},
   "source": [
    "## Graph Features\n",
    "\n",
    "- collusion features\n",
    "- retalitory rating features - see node 95-188-7 (when you run 7604"
   ]
  },
  {
   "cell_type": "code",
   "execution_count": 93,
   "metadata": {},
   "outputs": [],
   "source": [
    "def graph_features(bitcoin_df, user, rate_date):\n",
    "    _, g = h.build_graph(bitcoin_df, rating_type='pos', maxdate=rate_date)\n",
    "    if user not in g:\n",
    "        return np.zeros(6)\n",
    "    test_g = nx.ego_graph(nx.reverse_view(g), user, radius=1)\n",
    "    if len(test_g) <= 2:\n",
    "        return np.zeros(6)\n",
    "    cluster_coef = nx.clustering(test_g, user)\n",
    "    node_census = nx.triadic_census(test_g)\n",
    "    # fully closed triad (all users giving reciprocal ratings)\n",
    "    triad_300 = node_census['300']\n",
    "    # closed triad with 2 pairs of users giving reciprocal ratings\n",
    "    triad_210 = node_census['210']\n",
    "    # open triad with 2 pais of users giving reciprocal ratings \n",
    "    triad_201 = node_census['201']\n",
    "    # close triad with 1 pair of user giving reciprocal ratings\n",
    "    triad_120 = node_census['120U'] + node_census['120D'] + node_census['120C']\n",
    "    triad_all = triad_300 + triad_210 + triad_201 + triad_120\n",
    "    return cluster_coef, triad_300, triad_210, triad_201, triad_120, triad_all"
   ]
  },
  {
   "cell_type": "code",
   "execution_count": 94,
   "metadata": {},
   "outputs": [],
   "source": [
    "def graph_features_iteration(bitcoin_df):\n",
    "    df = bitcoin_df.copy()\n",
    "    for i, row in df.iterrows():\n",
    "        user = row['ratee']\n",
    "        rate_date = row['date']\n",
    "        cluster_coef, triad_300, triad_210, triad_201, triad_120, triad_all = graph_features(bitcoin_df, user, rate_date)\n",
    "        df.at[(i,'cluster_coef')] = cluster_coef\n",
    "        df.at[(i,'triad_300')] = triad_300\n",
    "        df.at[(i,'triad_210')] = triad_210\n",
    "        df.at[(i,'triad_201')] = triad_201\n",
    "        df.at[(i,'triad_120')] = triad_120\n",
    "        df.at[(i,'triad_all')] = triad_all\n",
    "    return df"
   ]
  },
  {
   "cell_type": "code",
   "execution_count": 95,
   "metadata": {},
   "outputs": [
    {
     "name": "stdout",
     "output_type": "stream",
     "text": [
      "2992 seconds execution time\n"
     ]
    }
   ],
   "source": [
    "start_time = time.time()\n",
    "df_gf = graph_features_iteration(alpha_df)\n",
    "print(f\"{(time.time() - start_time):.0f} seconds execution time\")"
   ]
  },
  {
   "cell_type": "code",
   "execution_count": 96,
   "metadata": {},
   "outputs": [],
   "source": [
    "df_gf.to_csv('../data/df_gf.csv', index=False)"
   ]
  },
  {
   "cell_type": "code",
   "execution_count": 43,
   "metadata": {},
   "outputs": [
    {
     "name": "stdout",
     "output_type": "stream",
     "text": [
      "0 seconds execution time\n"
     ]
    },
    {
     "data": {
      "text/plain": [
       "'/var/folders/b3/m0fdz7_d6sz58yt6vfj9mfc40000gn/T/nx_u2_ry3pi.png'"
      ]
     },
     "execution_count": 43,
     "metadata": {},
     "output_type": "execute_result"
    }
   ],
   "source": [
    "# reverse view to see the network of who is rating this guy\n",
    "# use census type or sometbing else for feature?\n",
    "start_time = time.time()\n",
    "_, g = h.build_graph(alpha_df[alpha_df['rating']>0])#, maxdate=rate_date)\n",
    "\n",
    "# both directions --> use undirected=True\n",
    "# in direction --> use reverse_view()\n",
    "test_g = nx.ego_graph(nx.reverse_view(g), 33, radius=1)\n",
    "#test_g = nx.ego_graph(g, 7604, undirected=True, radius=1)\n",
    "#test_g = nx.ego_graph(nx.reverse_view(g), 7604, center=False, undirected=True, radius=1)\n",
    "node_census = nx.triadic_census(test_g)\n",
    "print(f\"{(time.time() - start_time):.0f} seconds execution time\")\n",
    "# nx.draw_shell(test_g )\n",
    "node_census\n",
    "nxpd.draw(test_g )"
   ]
  },
  {
   "cell_type": "code",
   "execution_count": 42,
   "metadata": {},
   "outputs": [
    {
     "data": {
      "text/plain": [
       "{'003': 0,\n",
       " '012': 0,\n",
       " '102': 0,\n",
       " '021D': 0,\n",
       " '021U': 0,\n",
       " '021C': 0,\n",
       " '111D': 0,\n",
       " '111U': 0,\n",
       " '030T': 2,\n",
       " '030C': 0,\n",
       " '201': 0,\n",
       " '120D': 1,\n",
       " '120U': 1,\n",
       " '120C': 0,\n",
       " '210': 0,\n",
       " '300': 0}"
      ]
     },
     "execution_count": 42,
     "metadata": {},
     "output_type": "execute_result"
    }
   ],
   "source": [
    "node_census"
   ]
  },
  {
   "cell_type": "code",
   "execution_count": 38,
   "metadata": {},
   "outputs": [
    {
     "data": {
      "text/plain": [
       "2"
      ]
     },
     "execution_count": 38,
     "metadata": {},
     "output_type": "execute_result"
    }
   ],
   "source": [
    "node_census['300']"
   ]
  },
  {
   "cell_type": "code",
   "execution_count": 37,
   "metadata": {},
   "outputs": [
    {
     "ename": "TypeError",
     "evalue": "'int' object is not subscriptable",
     "output_type": "error",
     "traceback": [
      "\u001b[0;31m---------------------------------------------------------------------------\u001b[0m",
      "\u001b[0;31mTypeError\u001b[0m                                 Traceback (most recent call last)",
      "\u001b[0;32m<ipython-input-37-774950be21de>\u001b[0m in \u001b[0;36m<module>\u001b[0;34m\u001b[0m\n\u001b[0;32m----> 1\u001b[0;31m \u001b[0mclosed_triads\u001b[0m\u001b[0;34m=\u001b[0m\u001b[0;34m[\u001b[0m\u001b[0;34m[\u001b[0m\u001b[0;34m-\u001b[0m\u001b[0mk\u001b[0m\u001b[0;34m,\u001b[0m\u001b[0mv\u001b[0m\u001b[0;34m]\u001b[0m \u001b[0;32mfor\u001b[0m \u001b[0mk\u001b[0m\u001b[0;34m,\u001b[0m\u001b[0mv\u001b[0m \u001b[0;32min\u001b[0m \u001b[0msorted\u001b[0m\u001b[0;34m(\u001b[0m\u001b[0;34m[\u001b[0m\u001b[0;34m[\u001b[0m\u001b[0;34m-\u001b[0m\u001b[0mnode_census\u001b[0m\u001b[0;34m[\u001b[0m\u001b[0mk\u001b[0m\u001b[0;34m]\u001b[0m\u001b[0;34m[\u001b[0m\u001b[0;34m'300'\u001b[0m\u001b[0;34m]\u001b[0m\u001b[0;34m,\u001b[0m\u001b[0mk\u001b[0m\u001b[0;34m]\u001b[0m \u001b[0;32mfor\u001b[0m \u001b[0mk\u001b[0m \u001b[0;32min\u001b[0m \u001b[0mnode_census\u001b[0m\u001b[0;34m.\u001b[0m\u001b[0mkeys\u001b[0m\u001b[0;34m(\u001b[0m\u001b[0;34m)\u001b[0m\u001b[0;34m]\u001b[0m\u001b[0;34m)\u001b[0m\u001b[0;34m]\u001b[0m\u001b[0;34m\u001b[0m\u001b[0;34m\u001b[0m\u001b[0m\n\u001b[0m",
      "\u001b[0;32m<ipython-input-37-774950be21de>\u001b[0m in \u001b[0;36m<listcomp>\u001b[0;34m(.0)\u001b[0m\n\u001b[0;32m----> 1\u001b[0;31m \u001b[0mclosed_triads\u001b[0m\u001b[0;34m=\u001b[0m\u001b[0;34m[\u001b[0m\u001b[0;34m[\u001b[0m\u001b[0;34m-\u001b[0m\u001b[0mk\u001b[0m\u001b[0;34m,\u001b[0m\u001b[0mv\u001b[0m\u001b[0;34m]\u001b[0m \u001b[0;32mfor\u001b[0m \u001b[0mk\u001b[0m\u001b[0;34m,\u001b[0m\u001b[0mv\u001b[0m \u001b[0;32min\u001b[0m \u001b[0msorted\u001b[0m\u001b[0;34m(\u001b[0m\u001b[0;34m[\u001b[0m\u001b[0;34m[\u001b[0m\u001b[0;34m-\u001b[0m\u001b[0mnode_census\u001b[0m\u001b[0;34m[\u001b[0m\u001b[0mk\u001b[0m\u001b[0;34m]\u001b[0m\u001b[0;34m[\u001b[0m\u001b[0;34m'300'\u001b[0m\u001b[0;34m]\u001b[0m\u001b[0;34m,\u001b[0m\u001b[0mk\u001b[0m\u001b[0;34m]\u001b[0m \u001b[0;32mfor\u001b[0m \u001b[0mk\u001b[0m \u001b[0;32min\u001b[0m \u001b[0mnode_census\u001b[0m\u001b[0;34m.\u001b[0m\u001b[0mkeys\u001b[0m\u001b[0;34m(\u001b[0m\u001b[0;34m)\u001b[0m\u001b[0;34m]\u001b[0m\u001b[0;34m)\u001b[0m\u001b[0;34m]\u001b[0m\u001b[0;34m\u001b[0m\u001b[0;34m\u001b[0m\u001b[0m\n\u001b[0m",
      "\u001b[0;31mTypeError\u001b[0m: 'int' object is not subscriptable"
     ]
    }
   ],
   "source": [
    "closed_triads=[[-k,v] for k,v in sorted([[-node_census[k]['300'],k] for k in node_census.keys()])]"
   ]
  },
  {
   "cell_type": "code",
   "execution_count": 44,
   "metadata": {},
   "outputs": [
    {
     "data": {
      "text/plain": [
       "257"
      ]
     },
     "execution_count": 44,
     "metadata": {},
     "output_type": "execute_result"
    }
   ],
   "source": [
    "nx.number_of_cliques(test_g.to_undirected(), 33)"
   ]
  },
  {
   "cell_type": "code",
   "execution_count": 45,
   "metadata": {},
   "outputs": [
    {
     "data": {
      "text/plain": [
       "0.0470729330634885"
      ]
     },
     "execution_count": 45,
     "metadata": {},
     "output_type": "execute_result"
    }
   ],
   "source": [
    "nx.clustering(test_g, 33)"
   ]
  },
  {
   "cell_type": "code",
   "execution_count": 46,
   "metadata": {},
   "outputs": [
    {
     "data": {
      "text/plain": [
       "0.5269848087281904"
      ]
     },
     "execution_count": 46,
     "metadata": {},
     "output_type": "execute_result"
    }
   ],
   "source": [
    "nx.average_clustering(test_g)\n",
    "# measures the proportion of people who rated you that are also \n",
    "# rating with each other \n",
    "# (i.e., amount of mutual trust that users have in the group)"
   ]
  },
  {
   "cell_type": "code",
   "execution_count": 47,
   "metadata": {},
   "outputs": [
    {
     "data": {
      "text/plain": [
       "119"
      ]
     },
     "execution_count": 47,
     "metadata": {},
     "output_type": "execute_result"
    }
   ],
   "source": [
    "len(test_g)"
   ]
  },
  {
   "cell_type": "code",
   "execution_count": 48,
   "metadata": {},
   "outputs": [
    {
     "data": {
      "text/plain": [
       "232"
      ]
     },
     "execution_count": 48,
     "metadata": {},
     "output_type": "execute_result"
    }
   ],
   "source": [
    "nx.degree(test_g, 33)"
   ]
  },
  {
   "cell_type": "code",
   "execution_count": 50,
   "metadata": {},
   "outputs": [
    {
     "data": {
      "text/plain": [
       "0.9667372881355932"
      ]
     },
     "execution_count": 50,
     "metadata": {},
     "output_type": "execute_result"
    }
   ],
   "source": [
    "nx.closeness_centrality(test_g, 33)"
   ]
  },
  {
   "cell_type": "code",
   "execution_count": 51,
   "metadata": {},
   "outputs": [
    {
     "data": {
      "text/plain": [
       "{5: 0.005583705371840965,\n",
       " 8: 0.0051922484340809075,\n",
       " 9: 0.009092795545158764,\n",
       " 10: 0.008981243652588419,\n",
       " 12: 0.0035340965683658197,\n",
       " 13: 0.002634743335490556,\n",
       " 14: 0.0022533558261526167,\n",
       " 15: 0.007713224732998744,\n",
       " 1038: 0.0,\n",
       " 18: 0.00038507889953552963,\n",
       " 19: 0.0038938168936133457,\n",
       " 21: 0.0036941151564529014,\n",
       " 22: 0.0061838794183426945,\n",
       " 24: 0.003922362440116258,\n",
       " 25: 0.006639316232758128,\n",
       " 26: 0.010721797099505498,\n",
       " 540: 0.0,\n",
       " 29: 0.003785281468897288,\n",
       " 30: 0.007590950769747713,\n",
       " 544: 0.0,\n",
       " 33: 0.8102535755270355,\n",
       " 34: 0.002987497211180676,\n",
       " 2596: 0.0,\n",
       " 550: 0.0,\n",
       " 553: 0.00010864841373315949,\n",
       " 42: 0.0040758398871438275,\n",
       " 43: 0.006390250480348607,\n",
       " 48: 0.0023005552778077305,\n",
       " 58: 0.0013389963248720306,\n",
       " 65: 0.0004584215742407832,\n",
       " 69: 0.0030171194607098366,\n",
       " 70: 0.0010483810413974594,\n",
       " 71: 0.0,\n",
       " 2122: 0.0,\n",
       " 587: 0.00019194553092858176,\n",
       " 77: 0.0011258620015682159,\n",
       " 81: 0.0013489720733374385,\n",
       " 87: 0.00039800385845583584,\n",
       " 88: 0.0006059958037359167,\n",
       " 95: 0.0026950921018717624,\n",
       " 2150: 0.0,\n",
       " 105: 0.0005730673840474872,\n",
       " 1130: 0.0,\n",
       " 623: 0.00010864841373315949,\n",
       " 1136: 3.259452411994785e-05,\n",
       " 1137: 4.7885782349059187e-05,\n",
       " 112: 0.0001921179887281582,\n",
       " 1139: 0.0,\n",
       " 115: 0.0003394256925330371,\n",
       " 629: 0.0,\n",
       " 111: 0.0001637774236644293,\n",
       " 1144: 0.0,\n",
       " 635: 0.0,\n",
       " 641: 0.0003491733985047426,\n",
       " 136: 0.0005365763134124716,\n",
       " 137: 0.0006340411001427949,\n",
       " 649: 2.8972910328842533e-05,\n",
       " 1166: 0.0,\n",
       " 146: 0.0005451391044611382,\n",
       " 154: 0.00369442093149177,\n",
       " 167: 7.243227582210633e-05,\n",
       " 1191: 0.0,\n",
       " 7341: 0.0,\n",
       " 177: 0.015756115463150273,\n",
       " 183: 0.0,\n",
       " 703: 0.0005245272528574427,\n",
       " 199: 0.0001774590757641605,\n",
       " 7372: 0.0002052247814959679,\n",
       " 204: 0.0001388285286590371,\n",
       " 2252: 0.0,\n",
       " 208: 0.00012313486889758076,\n",
       " 735: 0.0003758913949247441,\n",
       " 1760: 0.0,\n",
       " 1762: 0.0,\n",
       " 739: 0.00031628760442319764,\n",
       " 228: 0.0002724258373975888,\n",
       " 7398: 1.810806895552658e-05,\n",
       " 244: 0.0008476300849182205,\n",
       " 2809: 0.0,\n",
       " 1788: 0.0,\n",
       " 253: 0.00025517093522123356,\n",
       " 255: 0.000249134912236058,\n",
       " 1280: 0.0,\n",
       " 1283: 0.0,\n",
       " 1796: 0.0,\n",
       " 7428: 0.0,\n",
       " 1314: 0.0,\n",
       " 290: 0.00031042403923759853,\n",
       " 295: 0.0006110119233918961,\n",
       " 1833: 0.0,\n",
       " 305: 0.0004926612105076711,\n",
       " 312: 0.0,\n",
       " 824: 2.4144091940702106e-05,\n",
       " 2878: 0.0,\n",
       " 320: 0.0006715663495324511,\n",
       " 326: 0.0,\n",
       " 841: 0.0,\n",
       " 7499: 0.0,\n",
       " 7513: 0.0,\n",
       " 1882: 0.0,\n",
       " 350: 0.00029202854061611123,\n",
       " 370: 0.0002649814090492056,\n",
       " 2932: 0.0,\n",
       " 376: 0.0033157886265230896,\n",
       " 404: 0.0,\n",
       " 408: 0.0,\n",
       " 2968: 0.0,\n",
       " 431: 0.0,\n",
       " 960: 0.0,\n",
       " 1476: 0.0,\n",
       " 971: 0.0,\n",
       " 459: 0.0,\n",
       " 974: 0.0,\n",
       " 2007: 0.0,\n",
       " 1502: 0.0,\n",
       " 482: 5.15073961401645e-05,\n",
       " 487: 0.0009519357599319778,\n",
       " 1513: 0.0,\n",
       " 503: 0.0}"
      ]
     },
     "execution_count": 51,
     "metadata": {},
     "output_type": "execute_result"
    }
   ],
   "source": [
    "nx.betweenness_centrality(test_g)"
   ]
  },
  {
   "cell_type": "code",
   "execution_count": 34,
   "metadata": {},
   "outputs": [
    {
     "ename": "NameError",
     "evalue": "name 'triadic' is not defined",
     "output_type": "error",
     "traceback": [
      "\u001b[0;31m---------------------------------------------------------------------------\u001b[0m",
      "\u001b[0;31mNameError\u001b[0m                                 Traceback (most recent call last)",
      "\u001b[0;32m<ipython-input-34-5c5dc6b2f9b2>\u001b[0m in \u001b[0;36m<module>\u001b[0;34m\u001b[0m\n\u001b[0;32m----> 1\u001b[0;31m \u001b[0mcensus\u001b[0m\u001b[0;34m,\u001b[0m \u001b[0mnode_census\u001b[0m \u001b[0;34m=\u001b[0m \u001b[0mtriadic\u001b[0m\u001b[0;34m.\u001b[0m\u001b[0mtriadic_census\u001b[0m\u001b[0;34m(\u001b[0m\u001b[0mtest_g\u001b[0m\u001b[0;34m)\u001b[0m\u001b[0;34m\u001b[0m\u001b[0;34m\u001b[0m\u001b[0m\n\u001b[0m\u001b[1;32m      2\u001b[0m \u001b[0;31m## get only the number of closed triads, and sort the list by the value, descending\u001b[0m\u001b[0;34m\u001b[0m\u001b[0;34m\u001b[0m\u001b[0;34m\u001b[0m\u001b[0m\n\u001b[1;32m      3\u001b[0m \u001b[0;31m# closed_triads=[[-k,v] for k,v in sorted([[-node_census[k]['300'],k] for k in\u001b[0m\u001b[0;34m\u001b[0m\u001b[0;34m\u001b[0m\u001b[0;34m\u001b[0m\u001b[0m\n\u001b[1;32m      4\u001b[0m \u001b[0;31m# node_census.keys()])]\u001b[0m\u001b[0;34m\u001b[0m\u001b[0;34m\u001b[0m\u001b[0;34m\u001b[0m\u001b[0m\n",
      "\u001b[0;31mNameError\u001b[0m: name 'triadic' is not defined"
     ]
    }
   ],
   "source": [
    "census, node_census = triadic.triadic_census(test_g)\n",
    "## get only the number of closed triads, and sort the list by the value, descending\n",
    "# closed_triads=[[-k,v] for k,v in sorted([[-node_census[k]['300'],k] for k in\n",
    "# node_census.keys()])]"
   ]
  },
  {
   "cell_type": "markdown",
   "metadata": {},
   "source": [
    "## Networkx Functions"
   ]
  },
  {
   "cell_type": "code",
   "execution_count": null,
   "metadata": {},
   "outputs": [],
   "source": [
    "alpha_GU = alpha_G.to_undirected()\n",
    "nx.number_of_cliques(alpha_GU, nodes=7551)"
   ]
  },
  {
   "cell_type": "code",
   "execution_count": null,
   "metadata": {},
   "outputs": [],
   "source": [
    "## Run the triadic census\n",
    "census = nx.triadic_census(alpha_G)\n",
    "census"
   ]
  },
  {
   "cell_type": "code",
   "execution_count": null,
   "metadata": {},
   "outputs": [],
   "source": [
    "# triad generator\n",
    "triads = all_triads(alpha_G)"
   ]
  },
  {
   "cell_type": "code",
   "execution_count": null,
   "metadata": {},
   "outputs": [],
   "source": [
    "node_census = nx.triads_by_type(alpha_G)"
   ]
  },
  {
   "cell_type": "code",
   "execution_count": null,
   "metadata": {},
   "outputs": [],
   "source": [
    "keys=node_census.values()[1].keys() \n",
    "\n",
    "## Generate a table header\n",
    "print('| Node |', ' | '.join(keys))\n",
    "for k in node_census.keys(): \n",
    "     print('|', k, '|',' | '.join([str(v) for v in node_census[k].values()]))\n"
   ]
  },
  {
   "cell_type": "code",
   "execution_count": null,
   "metadata": {},
   "outputs": [],
   "source": [
    "node_census"
   ]
  },
  {
   "cell_type": "code",
   "execution_count": null,
   "metadata": {},
   "outputs": [],
   "source": [
    "len(census)"
   ]
  },
  {
   "cell_type": "code",
   "execution_count": null,
   "metadata": {},
   "outputs": [],
   "source": [
    "# Connected_component_subgraphs() returns a list of components,\n",
    "# sorted largest to smallest\n",
    "components=nx.connected_component_subgraphs(alpha_G)\n",
    "# pick the first and largest component\n",
    "cc = components[0]"
   ]
  },
  {
   "cell_type": "code",
   "execution_count": null,
   "metadata": {},
   "outputs": [],
   "source": [
    "from networkx.algorithms import community\n",
    "\n",
    "communities_generator = community.girvan_newman(alpha_G)\n",
    "top_level_communities = next(communities_generator)\n",
    "next_level_communities = next(communities_generator)\n",
    "\n",
    "sorted(map(sorted, top_level_communities))\n",
    "\n"
   ]
  },
  {
   "cell_type": "markdown",
   "metadata": {},
   "source": [
    "The Girvan–Newman algorithm detects communities by progressively removing edges from the original graph. The algorithm removes the “most valuable” edge, traditionally the edge with the highest betweenness centrality, at each step. As the graph breaks down into pieces, the tightly knit community structure is exposed and the result can be depicted as a dendrogram."
   ]
  },
  {
   "cell_type": "code",
   "execution_count": null,
   "metadata": {},
   "outputs": [],
   "source": [
    "import networkx.generators.small\n",
    "\n",
    "g = networkx.generators.small.krackhardt_kite_graph()\n",
    "\n",
    "g.adjacency_list()"
   ]
  },
  {
   "cell_type": "code",
   "execution_count": null,
   "metadata": {},
   "outputs": [],
   "source": [
    "otc_users[otc_users['BotActivity']==True].sort_values('TimeActive')"
   ]
  },
  {
   "cell_type": "markdown",
   "metadata": {},
   "source": [
    "# Need to create visualization to Define Bot acitivity\n",
    "In Alpha network only bot activity is with zero time delay - all same day raters\n",
    "In OTC network only 18 users have zero time delay, however, XXX\n",
    "users have delay under 1? minute (what is delay )\n",
    "\n",
    "need 3 eda plots of same day rater distribution - day by hour, hour by minute, minute by second"
   ]
  },
  {
   "cell_type": "code",
   "execution_count": null,
   "metadata": {},
   "outputs": [],
   "source": [
    "print(f\"Alpha Bot users: {alpha_users['BotActivity'].sum()}\")\n",
    "print(f\"OTC Bot users: {otc_users['BotActivity'].sum()}\")"
   ]
  },
  {
   "cell_type": "markdown",
   "metadata": {},
   "source": [
    "# Prediction Visualizations"
   ]
  },
  {
   "cell_type": "code",
   "execution_count": null,
   "metadata": {},
   "outputs": [],
   "source": [
    "df = pd.read_csv(\"../data/alpha_with_ratee_stats.csv\")"
   ]
  },
  {
   "cell_type": "code",
   "execution_count": null,
   "metadata": {},
   "outputs": [],
   "source": [
    "df_ato = m.feature_iteration_ato(alpha_df)"
   ]
  },
  {
   "cell_type": "code",
   "execution_count": null,
   "metadata": {},
   "outputs": [],
   "source": [
    "df_ato.reset_index(drop=True, inplace=True)\n",
    "df_ato.head()"
   ]
  },
  {
   "cell_type": "code",
   "execution_count": null,
   "metadata": {},
   "outputs": [],
   "source": [
    "df = pd.concat([df, df_ato], axis=1)"
   ]
  },
  {
   "cell_type": "code",
   "execution_count": null,
   "metadata": {},
   "outputs": [],
   "source": [
    "df.head()"
   ]
  },
  {
   "cell_type": "code",
   "execution_count": null,
   "metadata": {},
   "outputs": [],
   "source": [
    "df.info()"
   ]
  },
  {
   "cell_type": "code",
   "execution_count": null,
   "metadata": {},
   "outputs": [],
   "source": [
    "from sklearn.model_selection import train_test_split\n",
    "from sklearn.ensemble import RandomForestClassifier\n",
    "from sklearn.metrics import confusion_matrix\n",
    "from sklearn.metrics import recall_score\n",
    "from sklearn.metrics import precision_score\n",
    "X = df.copy()\n",
    "X = X.drop(['rater', 'ratee', 'rating','date', 'color', 'penwidth', 'binomial_rating'], axis=1)\n",
    "y = X.pop('class')\n",
    "\n",
    "\n",
    "X_train, X_test, y_train, y_test = train_test_split(X, y,\n",
    "                                                    stratify=y, shuffle=True,\n",
    "                                                    random_state=123)\n",
    "\n",
    "RF = RandomForestClassifier(n_jobs=-1, random_state=123)\n",
    "RF.fit(X_train, y_train)\n",
    "y_preds = RF.predict(X_test)\n",
    "recall = recall_score(y_test, y_preds)\n",
    "precision = precision_score(y_test, y_preds)\n",
    "\n",
    "# print(X_test[(y_preds==0) & (X_test['num_neg_received']>0)].head(10))\n",
    "print(recall)\n",
    "print(precision)\n",
    "RF.feature_importances_\n",
    " "
   ]
  },
  {
   "cell_type": "code",
   "execution_count": null,
   "metadata": {},
   "outputs": [],
   "source": [
    "import seaborn as sns\n",
    "fig = plt.figure(figsize=(15,15))\n",
    "\n",
    "name = \"Random Forest\"\n",
    "indices = np.argsort(RF.feature_importances_)[::-1][:40]\n",
    "ax1 = sns.barplot(y=X_train.columns[indices][:40],x = RF.feature_importances_[indices][:40] , orient='h')\n",
    "ax1.set_xlabel(\"Relative importance\",fontsize=12)\n",
    "ax1.set_ylabel(\"Features\",fontsize=12)\n",
    "ax1.tick_params(labelsize=9)\n",
    "ax1.set_title(name + \" feature importance\")"
   ]
  },
  {
   "cell_type": "markdown",
   "metadata": {},
   "source": [
    "### Confusion Matrix"
   ]
  },
  {
   "cell_type": "code",
   "execution_count": null,
   "metadata": {},
   "outputs": [],
   "source": [
    "from sklearn.metrics import confusion_matrix\n",
    "\n",
    "thresh = 0.2\n",
    "pred_proba = RF.predict_proba(X_test)[:,1]\n",
    "cnf_matrix = confusion_matrix(y_test, pred_proba>=thresh)\n",
    "print(cnf_matrix)\n",
    "tn, fp, fn, tp = cnf_matrix.ravel()\n",
    "tn, fp, fn, tp\n",
    "neg = tn + fp\n",
    "pos = fn + tp\n",
    "tnpct = tn/neg\n",
    "fppct = fp/neg\n",
    "fnpct = fn/pos\n",
    "tppct = tp/pos\n",
    "cnt_matrix_pct = np.round(np.array([tnpct,fppct,fnpct, tppct]), 2)\n",
    "cnt_matrix_pct.reshape((2,2))"
   ]
  },
  {
   "cell_type": "code",
   "execution_count": null,
   "metadata": {},
   "outputs": [],
   "source": [
    "df.iloc[y_test-y_preds].shape"
   ]
  },
  {
   "cell_type": "code",
   "execution_count": null,
   "metadata": {},
   "outputs": [],
   "source": [
    "y_test-y_preds"
   ]
  },
  {
   "cell_type": "code",
   "execution_count": null,
   "metadata": {},
   "outputs": [],
   "source": [
    "X_test.loc[22765]"
   ]
  },
  {
   "cell_type": "code",
   "execution_count": null,
   "metadata": {},
   "outputs": [],
   "source": [
    "df.loc[22765]"
   ]
  },
  {
   "cell_type": "code",
   "execution_count": null,
   "metadata": {},
   "outputs": [],
   "source": [
    "for input, prediction, label in zip(X_test, y_preds, y_test):\n",
    "    if prediction != label:\n",
    "        print(input, 'has been classified as ', prediction, 'and should be ', label) "
   ]
  },
  {
   "cell_type": "code",
   "execution_count": null,
   "metadata": {},
   "outputs": [],
   "source": [
    "def plot_confusion_matrix(ax, cm, title, classes=['Legitimate','Fraud'],\n",
    "                          cmap=plt.cm.Blues, currency=False):\n",
    "    \"\"\"\n",
    "    Plots a single confusion matrix. If currency=True then displays results as currency.\n",
    "\n",
    "    Parameters\n",
    "    ----------\n",
    "    cm: array (confusion matrix)\n",
    "    title: String\n",
    "    test_size: float - size/percentage of holout dataset\n",
    "    goal: float - project goal for ultimate dollar loss rate\n",
    "\n",
    "    Returns\n",
    "    -------\n",
    "    \"\"\"   \n",
    "    \n",
    "    thresh = cm.max() / 2.\n",
    "    for i, j in itertools.product(range(cm.shape[0]), range(cm.shape[1])):\n",
    "        cost=cm[i, j]\n",
    "        if currency:\n",
    "            cost = f'${cost:0,.2f}' \n",
    "        ax.text(j, i, cost, horizontalalignment=\"center\", \n",
    "        color=\"white\" if cm[i, j] > thresh else \"black\")\n",
    "    ax.imshow(cm, interpolation='nearest', cmap=cmap)\n",
    "\n",
    "    if currency:\n",
    "        ax.set_title(f'{title}\\nCost Matrix')\n",
    "    else:\n",
    "        ax.set_title(f'{title}\\nConfusion Matrix')\n",
    "    tick_marks = np.arange(len(classes))\n",
    "    ax.set_xticks(tick_marks)\n",
    "    ax.set_xticklabels(classes, rotation=0)\n",
    "    ax.set_yticks(tick_marks)\n",
    "    ax.set_yticklabels(classes, rotation=90)\n",
    "\n",
    "    ax.set_xlabel('Predicted')\n",
    "    ax.set_ylabel('Actual')    \n",
    "\n"
   ]
  },
  {
   "cell_type": "code",
   "execution_count": null,
   "metadata": {},
   "outputs": [],
   "source": [
    "import itertools\n",
    "fig, ax = plt.subplots()\n",
    "plot_confusion_matrix(ax, cnf_matrix, \"test\", classes=['Pos Rating','Neg Rating'])"
   ]
  },
  {
   "cell_type": "code",
   "execution_count": null,
   "metadata": {},
   "outputs": [],
   "source": [
    "from sklearn.metrics import precision_recall_curve\n",
    "\n",
    "# Make function for indivisual plot and then you can call it over and over\n",
    "def Plot_PR_Curve(X, y):\n",
    "    '''\n",
    "    Calculates and Plots PR Curve and puts threshold marker on curve.\n",
    "    '''\n",
    "    # get points to plot on the PR Curve\n",
    "    thresh = 0.5\n",
    "    precision, recall, thresholds = precision_recall_curve(y, pred_proba) \n",
    "        \n",
    "    # find the index of the record with closest threshold to desired threshold value\n",
    "    threshold_idx = np.argmin(np.abs(thresholds-thresh))\n",
    "    \n",
    "    plt.plot(precision, recall)\n",
    "    plt.plot(precision, threshold_idx, recall, threshold_idx, 'o', \n",
    "             markersize=10, fillstyle='full', \n",
    "             label=\"{thresh:.2f} threshold\", mew=2)\n",
    "\n",
    "    plt.legend(loc='center', frameon=False)\n",
    "    plt.title('Precision-Recall Curve Comparison')    \n",
    "    plt.xlabel('Precision')\n",
    "    plt.ylabel('Recall')\n",
    "    plt.xlim(xmin=-0.05,xmax=1.05);\n",
    "    plt.ylim(ymin=-0.05,ymax=1.05);  "
   ]
  },
  {
   "cell_type": "code",
   "execution_count": null,
   "metadata": {},
   "outputs": [],
   "source": [
    "Plot_PR_Curve(X_test, y_test)"
   ]
  },
  {
   "cell_type": "markdown",
   "metadata": {},
   "source": [
    "## Node2vec"
   ]
  },
  {
   "cell_type": "code",
   "execution_count": null,
   "metadata": {},
   "outputs": [],
   "source": [
    "# embedding dimension to 14, the number of walks to 25, and the number of iterations to 15.\n",
    "\n",
    "from node2vec import Node2Vec\n",
    "\n",
    "# Precompute probabilities and generate walks\n",
    "# node2vec = Node2Vec(G, dimensions=64, walk_length=30, num_walks=200, workers=4)\n",
    "node2vec = Node2Vec(G, dimensions=14, walk_length=30, num_walks=25, workers=4)\n",
    "\n",
    "# Embed\n",
    "# windows is the number of max distance from the node that the vector is going to be based on\n",
    "# maybe i can move this to 1 or 2??\n",
    "model = node2vec.fit(window=5, min_count=1)#, batch_words=4)  # Any keywords acceptable by gensim.Word2Vec can be passed, `diemnsions` and `workers` are automatically passed (from the Node2Vec constructor)\n",
    "\n",
    "# Look for most similar nodes\n",
    "model.wv.most_similar('2')  # Output node names are always strings\n",
    "\n",
    "# giving me 10 most similar to user\n",
    "user = '1006'\n",
    "model.wv.most_similar(user) \n",
    "\n",
    "# gives 64 length vector for user\n",
    "vector = model.wv[user]\n",
    "print(vector)\n",
    "\n",
    "embeddingsframe = pd.DataFrame(model.get_embedding())\n",
    "\n",
    "n = [] # node list?\n",
    "e = [] # embeddings list\n",
    "\n",
    "with open('./trimmed_network.emb') as fin:\n",
    "    for line in model:\n",
    "        node_emb = line.strip().split()  # turns into a list and removes white spaces at beginning and ending of string\n",
    "        n.append(node_emb[0])\n",
    "        e.append(node_emb[1:])\n",
    "\n",
    "n = n[1:]\n",
    "n = [int(i) for i in n] #  converts node to an int datatype\n",
    "embs = np.zeros([len(e)-1,14])\n",
    "for i in range(1,len(e)):\n",
    "    embs[i-1] = e[i]\n",
    "embs.shape\n",
    "\n",
    "# Save embeddings for later use\n",
    "model.wv.save_word2vec_format(EMBEDDING_FILENAME)\n",
    "\n",
    "# Save model for later use\n",
    "model.save(EMBEDDING_MODEL_FILENAME)"
   ]
  },
  {
   "cell_type": "markdown",
   "metadata": {},
   "source": [
    "## Velocity"
   ]
  },
  {
   "cell_type": "code",
   "execution_count": null,
   "metadata": {},
   "outputs": [],
   "source": [
    "def date_velocity(bitcoin_df, user, rate_date, vel_parm, user_type):\n",
    "    df = bitcoin_df.copy()\n",
    "    from_date = str(pd.Timestamp(rate_date) - pd.offsets.Hour(vel_parm))\n",
    "    vel_neg, vel_all = \\\n",
    "    df[(df[user_type]==user) & (df['date'] <= rate_date) & (df['date'] > from_date)]['class'].agg(['sum', 'count'])\n",
    "    vel_pos = vel_all - vel_neg\n",
    "    A = np.array([vel_neg, vel_pos, vel_all])\n",
    "    A[np.isnan(A)] = 0\n",
    "    return A"
   ]
  },
  {
   "cell_type": "code",
   "execution_count": null,
   "metadata": {},
   "outputs": [],
   "source": [
    "import time\n",
    "def feature_iteration_date_velocity(bitcoin_df):\n",
    "    start_time = time.time()\n",
    "    df = bitcoin_df.copy()\n",
    "    df = df[['ratee', 'rater', 'rating','date','class']]\n",
    "    for i, row in df.iterrows():\n",
    "        user = row['ratee']\n",
    "        rate_date = row['date']\n",
    "        vel_24_in_neg, vel_24_in_pos, vel_24_in_all = velocity(df, user, rate_date, vel_parm=24, user_type=\"ratee\")\n",
    "        vel_24_out_neg, vel_24_out_pos, vel_24_out_all = velocity(df, user, rate_date, vel_parm=24, user_type=\"rater\")\n",
    "        vel_48_in_neg, vel_48_in_pos, vel_48_in_all = velocity(df, user, rate_date, vel_parm=48, user_type=\"ratee\")\n",
    "        vel_48_out_neg, vel_48_out_pos, vel_48_out_all = velocity(df, user, rate_date, vel_parm=48, user_type=\"rater\")\n",
    "        df.at[(i,'vel_24_in_pos')] = vel_24_in_pos\n",
    "        df.at[(i,'vel_24_in_neg')] = vel_24_in_neg\n",
    "        df.at[(i,'vel_24_in_all')] = vel_24_in_all\n",
    "        df.at[(i,'vel_24_out_pos')] = vel_24_out_pos\n",
    "        df.at[(i,'vel_24_out_neg')] = vel_24_out_neg\n",
    "        df.at[(i,'vel_24_out_all')] = vel_24_out_all\n",
    "        df.at[(i,'vel_24_all')] = vel_24_in_all + vel_24_out_all\n",
    "        df.at[(i,'vel_48_in_pos')] = vel_48_in_pos\n",
    "        df.at[(i,'vel_48_in_neg')] = vel_48_in_neg\n",
    "        df.at[(i,'vel_48_in_all')] = vel_48_in_all\n",
    "        df.at[(i,'vel_48_out_pos')] = vel_48_out_pos\n",
    "        df.at[(i,'vel_48_out_neg')] = vel_48_out_neg\n",
    "        df.at[(i,'vel_48_out_all')] = vel_48_out_all\n",
    "        df.at[(i,'vel_48_all')] = vel_48_in_all + vel_48_out_all\n",
    "    print(f\"{(time.time() - start_time):.0f} seconds execution time\")\n",
    "    df.drop(['class'], axis=1)\n",
    "    return df"
   ]
  },
  {
   "cell_type": "code",
   "execution_count": null,
   "metadata": {},
   "outputs": [],
   "source": [
    "start_time = time.time()\n",
    "df = m.feature_iteration_velocity(alpha_df)\n",
    "print(f\"{(time.time() - start_time):.0f} seconds execution time\")"
   ]
  },
  {
   "cell_type": "code",
   "execution_count": null,
   "metadata": {},
   "outputs": [],
   "source": []
  },
  {
   "cell_type": "code",
   "execution_count": null,
   "metadata": {},
   "outputs": [],
   "source": [
    "from matplotlib.dates import DateFormatter, DayLocator\n",
    "\n",
    "df2 = df[df['ratee']==7512].copy()\n",
    "df2.set_index('date', inplace=True)\n",
    "fig, ax = plt.subplots(figsize=(16,4))\n",
    "ax.bar(df2.index.values,\n",
    "       df2['vel_24_all'],\n",
    "       color='purple')\n",
    "# ax = df2['vel_24_all'].plot(color='r', kind='bar', label='vel');"
   ]
  },
  {
   "cell_type": "code",
   "execution_count": null,
   "metadata": {},
   "outputs": [],
   "source": [
    "df[(alpha_df['rater']==7512) | (df['ratee']==7512)].head()#[['date','vel_24_all','vel_24_in_all','vel_24_out_all']]"
   ]
  },
  {
   "cell_type": "code",
   "execution_count": null,
   "metadata": {},
   "outputs": [],
   "source": [
    "alpha_df.groupby(['rater', 'date'])['rating'].count().sort_values(ascending=False)"
   ]
  },
  {
   "cell_type": "code",
   "execution_count": null,
   "metadata": {},
   "outputs": [],
   "source": [
    "vel_24_in_neg"
   ]
  },
  {
   "cell_type": "code",
   "execution_count": null,
   "metadata": {},
   "outputs": [],
   "source": [
    "alpha_df[(alpha_df['rater']==185) | (alpha_df['ratee']==185)]"
   ]
  },
  {
   "cell_type": "markdown",
   "metadata": {},
   "source": [
    "# new collusion feature"
   ]
  },
  {
   "cell_type": "code",
   "execution_count": null,
   "metadata": {},
   "outputs": [],
   "source": [
    "def update_bitcoin_df_attibutes\n",
    "    "
   ]
  },
  {
   "cell_type": "code",
   "execution_count": null,
   "metadata": {},
   "outputs": [],
   "source": [
    "def feature_creation_collusion2(bitcoin_df, user, rate_date):\n",
    "    \"\"\" Returns array containing predictive features for \n",
    "    an individual bitcoin rating.\n",
    "    Input: \n",
    "        bitcoin_df:  Dataframe containing bitcoin ratings as edges\n",
    "        user: int\n",
    "        rate_date: date used for feature generation\n",
    "    Output:\n",
    "        array\n",
    "    \"\"\"\n",
    "    df = bitcoin_df.copy()\n",
    "    user_data_in = df[(df['ratee']==user) & ((df['date'] < rate_date) | ((df['date']==rate_date) & (df['rating'] > 0)))]\n",
    "    if len(user_data_in)==0:\n",
    "        return np.zeros(8)\n",
    "    \n",
    "    \n",
    "    num_ratings_received = len(user_data_in)\n",
    "    num_neg_received = user_data_in['class'].sum()\n",
    "    num_pos_received = num_ratings_received - num_neg_received\n",
    "    neg_ratings_pct = num_neg_received / num_ratings_received\n",
    "    rating_sum = user_data_in['rating'].sum()\n",
    "    days_active = (rate_date - user_data_in['date'].min()).days\n",
    "    _, g = h.build_graph(df, maxdate=rate_date)\n",
    "    cluster_coef = nx.clustering(g, user)\n",
    "    g = g.to_undirected()\n",
    "    num_cliques = nx.number_of_cliques(g, user)\n",
    "\n",
    "    A = np.array([num_ratings_received, num_neg_received, num_pos_received, \n",
    "                  neg_ratings_pct, rating_sum, days_active, cluster_coef, num_cliques])\n",
    "    A[np.isnan(A)] = 0\n",
    "    return A"
   ]
  }
 ],
 "metadata": {
  "kernelspec": {
   "display_name": "Python 3",
   "language": "python",
   "name": "python3"
  },
  "language_info": {
   "codemirror_mode": {
    "name": "ipython",
    "version": 3
   },
   "file_extension": ".py",
   "mimetype": "text/x-python",
   "name": "python",
   "nbconvert_exporter": "python",
   "pygments_lexer": "ipython3",
   "version": "3.7.9"
  }
 },
 "nbformat": 4,
 "nbformat_minor": 4
}
