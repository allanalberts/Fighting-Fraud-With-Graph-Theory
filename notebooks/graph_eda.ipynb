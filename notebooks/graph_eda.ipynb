{
 "cells": [
  {
   "cell_type": "markdown",
   "metadata": {},
   "source": [
    "# Graph EDA\n",
    "\n",
    "#### helper functions:\n",
    "graph_users(user_lst, bitcoin_df)"
   ]
  },
  {
   "cell_type": "code",
   "execution_count": 66,
   "metadata": {},
   "outputs": [],
   "source": [
    "import pandas as pd\n",
    "import numpy as np\n",
    "import datetime\n",
    "import networkx as nx\n",
    "import nxpd\n",
    "\n",
    "import matplotlib.pyplot as plt\n",
    "plt.style.use('ggplot')\n",
    "import seaborn as sns\n",
    "\n",
    "import sys\n",
    "sys.path.insert(0, '../src')\n",
    "import helpers as h\n",
    "import visualizations as v\n",
    "\n",
    "pd.set_option('display.max_columns', None)\n",
    "pd.set_option('display.max_rows', 300)"
   ]
  },
  {
   "cell_type": "code",
   "execution_count": 67,
   "metadata": {},
   "outputs": [],
   "source": [
    "# Load and preprocess data\n",
    "otc_df = h.load_bitcoin_edge_data('../data/soc-sign-bitcoinotc.csv.gz')\n",
    "alpha_df = h.load_bitcoin_edge_data('../data/soc-sign-bitcoinalpha.csv.gz')\n",
    "alpha_users = h.user_activity_dataframe(alpha_df)\n",
    "otc_users = h.user_activity_dataframe(otc_df)"
   ]
  },
  {
   "cell_type": "code",
   "execution_count": 68,
   "metadata": {},
   "outputs": [],
   "source": [
    "# Load graph objects\n",
    "_ , alpha_G = h.build_graph(alpha_df)\n",
    "_ , alpha_pos_G = h.build_graph(alpha_df, rating_type='pos')\n",
    "_ , otc_G = h.build_graph(otc_df)\n",
    "_ , otc_pos_G = h.build_graph(otc_df, rating_type='pos')"
   ]
  },
  {
   "cell_type": "code",
   "execution_count": 74,
   "metadata": {},
   "outputs": [
    {
     "name": "stdout",
     "output_type": "stream",
     "text": [
      "0.5732758620689655\n",
      "0.5384615384615384\n",
      "\n",
      "0.5174418604651163\n",
      "0.4444444444444444\n",
      "\n",
      "0.5151515151515151\n",
      "0.38095238095238093\n",
      "\n",
      "0.2623762376237624\n",
      "0.11320754716981132\n"
     ]
    }
   ],
   "source": [
    "print(nx.clustering(alpha_G, 7536))\n",
    "print(nx.clustering(alpha_pos_G, 7536))\n",
    "print()\n",
    "print(nx.clustering(alpha_G, 5533))\n",
    "print(nx.clustering(alpha_pos_G, 5533))\n",
    "print()\n",
    "print(nx.clustering(alpha_G, 7517))\n",
    "print(nx.clustering(alpha_pos_G, 7517))\n",
    "print()\n",
    "print(nx.clustering(alpha_G, 7513))\n",
    "print(nx.clustering(alpha_pos_G, 7513))"
   ]
  },
  {
   "cell_type": "code",
   "execution_count": null,
   "metadata": {},
   "outputs": [],
   "source": [
    "v.plot_timeline(alpha_df, 'Alpha Bit Coin Ratings Activity')"
   ]
  },
  {
   "cell_type": "code",
   "execution_count": null,
   "metadata": {},
   "outputs": [],
   "source": [
    "# Graph Statistics:\n",
    "print(f\"Node Count: {alpha_G.number_of_nodes()}\")\n",
    "print(f\"Edge Count: {alpha_G.number_of_edges()}\")"
   ]
  },
  {
   "cell_type": "code",
   "execution_count": null,
   "metadata": {},
   "outputs": [],
   "source": [
    "# Graph Statistics:\n",
    "print(f\"Node Count: {alpha_pos_G.number_of_nodes()}\")\n",
    "print(f\"Edge Count: {alpha_pos_G.number_of_edges()}\")\n",
    "\n",
    "# 100 nodes that are just negative? Verify??"
   ]
  },
  {
   "cell_type": "code",
   "execution_count": 36,
   "metadata": {},
   "outputs": [
    {
     "name": "stdout",
     "output_type": "stream",
     "text": [
      "<class 'pandas.core.frame.DataFrame'>\n",
      "Int64Index: 3783 entries, 1 to 7604\n",
      "Data columns (total 26 columns):\n",
      " #   Column                   Non-Null Count  Dtype          \n",
      "---  ------                   --------------  -----          \n",
      " 0   RatingsReceived          3783 non-null   float64        \n",
      " 1   AvgRatingReceived        3783 non-null   float64        \n",
      " 2   MedianRatingReceived     3783 non-null   float64        \n",
      " 3   MinRatingReceived        3783 non-null   float64        \n",
      " 4   MaxRatingReceived        3783 non-null   float64        \n",
      " 5   DateFirstRatingReceived  3754 non-null   datetime64[ns] \n",
      " 6   DateLastRatingReceived   3754 non-null   datetime64[ns] \n",
      " 7   NegReceivedCnt           3783 non-null   float64        \n",
      " 8   PosReceivedCnt           3783 non-null   float64        \n",
      " 9   RatingsGiven             3783 non-null   float64        \n",
      " 10  AvgRatingGiven           3783 non-null   float64        \n",
      " 11  MedianRatingGiven        3783 non-null   float64        \n",
      " 12  MinRatingGiven           3783 non-null   float64        \n",
      " 13  MaxRatingGiven           3783 non-null   float64        \n",
      " 14  DateFirstRatingGiven     3754 non-null   datetime64[ns] \n",
      " 15  DateLastRatingGiven      3754 non-null   datetime64[ns] \n",
      " 16  NegGivenCnt              424 non-null    float64        \n",
      " 17  PosGivenCnt              3272 non-null   float64        \n",
      " 18  min_ratings_delta        2106 non-null   float64        \n",
      " 19  FirstActivity            3754 non-null   datetime64[ns] \n",
      " 20  LastActivity             3754 non-null   datetime64[ns] \n",
      " 21  TimeActive               3754 non-null   timedelta64[ns]\n",
      " 22  Victim                   3783 non-null   bool           \n",
      " 23  Fraudster                3783 non-null   bool           \n",
      " 24  RatingsGivenRatio        3783 non-null   float64        \n",
      " 25  BotActivity              3783 non-null   bool           \n",
      "dtypes: bool(3), datetime64[ns](6), float64(16), timedelta64[ns](1)\n",
      "memory usage: 720.4 KB\n"
     ]
    }
   ],
   "source": [
    "alpha_users.info()"
   ]
  },
  {
   "cell_type": "markdown",
   "metadata": {},
   "source": [
    "### color code the node below (0, 1, 2) negative ratings)"
   ]
  },
  {
   "cell_type": "code",
   "execution_count": 52,
   "metadata": {},
   "outputs": [
    {
     "name": "stderr",
     "output_type": "stream",
     "text": [
      "/Users/allanalberts/opt/anaconda3/lib/python3.7/site-packages/matplotlib/cbook/__init__.py:2064: FutureWarning: Support for multi-dimensional indexing (e.g. `obj[:, None]`) is deprecated and will be removed in a future version.  Convert to a numpy array before indexing instead.\n",
      "  x[:, None]\n",
      "/Users/allanalberts/opt/anaconda3/lib/python3.7/site-packages/matplotlib/axes/_base.py:248: FutureWarning: Support for multi-dimensional indexing (e.g. `obj[:, None]`) is deprecated and will be removed in a future version.  Convert to a numpy array before indexing instead.\n",
      "  x = x[:, np.newaxis]\n",
      "/Users/allanalberts/opt/anaconda3/lib/python3.7/site-packages/matplotlib/axes/_base.py:250: FutureWarning: Support for multi-dimensional indexing (e.g. `obj[:, None]`) is deprecated and will be removed in a future version.  Convert to a numpy array before indexing instead.\n",
      "  y = y[:, np.newaxis]\n"
     ]
    },
    {
     "data": {
      "text/plain": [
       "[<matplotlib.lines.Line2D at 0x7fe782dad850>]"
      ]
     },
     "execution_count": 52,
     "metadata": {},
     "output_type": "execute_result"
    },
    {
     "data": {
      "image/png": "[encoded data removed]",
      "text/plain": [
       "<Figure size 1152x288 with 3 Axes>"
      ]
     },
     "metadata": {},
     "output_type": "display_data"
    }
   ],
   "source": [
    "# how many negative ratings are just a part of doing business on the network?\n",
    "alpha_users['NegReceivedPct'] = alpha_users['NegReceivedCnt'] / (alpha_users['NegReceivedCnt'] + alpha_users['PosReceivedCnt'])\n",
    "\n",
    "fig, axs = plt.subplots(1,3, figsize=(16,4))\n",
    "x = alpha_users['PosReceivedCnt']\n",
    "y = alpha_users['NegReceivedPct']\n",
    "axs[0].plot(x, y, '.')\n",
    "\n",
    "# x = alpha_users[alpha_users['NegReceivedCnt']>0]['PosReceivedCnt']\n",
    "# y = alpha_users[alpha_users['NegReceivedCnt']>0]['NegReceivedPct']\n",
    "axs[1].set_xlim(0,100)\n",
    "axs[1].plot(x, y, '.')\n",
    "\n",
    "x = alpha_users[alpha_users['NegReceivedCnt']>2]['PosReceivedCnt']\n",
    "y = alpha_users[alpha_users['NegReceivedCnt']>2]['NegReceivedPct']\n",
    "axs[2].plot(x, y, '.')"
   ]
  },
  {
   "cell_type": "code",
   "execution_count": 55,
   "metadata": {},
   "outputs": [
    {
     "data": {
      "text/plain": [
       "[<matplotlib.lines.Line2D at 0x7fe78303f2d0>]"
      ]
     },
     "execution_count": 55,
     "metadata": {},
     "output_type": "execute_result"
    },
    {
     "data": {
      "image/png": "[encoded data removed]",
      "text/plain": [
       "<Figure size 1152x288 with 3 Axes>"
      ]
     },
     "metadata": {},
     "output_type": "display_data"
    }
   ],
   "source": [
    "#  who is giving the negative ratings\n",
    "# There are 4 individuals who have 100+ pos ratings given but > 20% of ratings are also negative. These\n",
    "# are not likely victims as they would be discouraged by now. More likely vigilantees tracking down\n",
    "# fraudsters (based on network associations?) and giving them negative ratings.\n",
    "\n",
    "# Interesting to see how may negatives they received back\n",
    "alpha_users['NegGivenPct'] = alpha_users['NegGivenCnt'] / (alpha_users['NegGivenCnt'] + alpha_users['PosGivenCnt'])\n",
    "\n",
    "fig, axs = plt.subplots(1,3, figsize=(16,4))\n",
    "x = alpha_users['PosGivenCnt']\n",
    "y = alpha_users['NegGivenPct']\n",
    "axs[0].plot(x, y, '.')"
   ]
  },
  {
   "cell_type": "code",
   "execution_count": 56,
   "metadata": {},
   "outputs": [
    {
     "data": {
      "text/plain": [
       "[<matplotlib.lines.Line2D at 0x7fe7833bd150>]"
      ]
     },
     "execution_count": 56,
     "metadata": {},
     "output_type": "execute_result"
    },
    {
     "data": {
      "image/png": "[encoded data removed]",
      "text/plain": [
       "<Figure size 1152x288 with 3 Axes>"
      ]
     },
     "metadata": {},
     "output_type": "display_data"
    }
   ],
   "source": [
    "# fraud received vs. pos received\n",
    "fig, axs = plt.subplots(1,3, figsize=(16,4))\n",
    "x = alpha_users['PosReceivedCnt']\n",
    "y = alpha_users['NegReceivedCnt']\n",
    "axs[0].plot(x, y, '.')"
   ]
  },
  {
   "cell_type": "code",
   "execution_count": 58,
   "metadata": {},
   "outputs": [
    {
     "data": {
      "text/html": [
       "<div>\n",
       "<style scoped>\n",
       "    .dataframe tbody tr th:only-of-type {\n",
       "        vertical-align: middle;\n",
       "    }\n",
       "\n",
       "    .dataframe tbody tr th {\n",
       "        vertical-align: top;\n",
       "    }\n",
       "\n",
       "    .dataframe thead th {\n",
       "        text-align: right;\n",
       "    }\n",
       "</style>\n",
       "<table border=\"1\" class=\"dataframe\">\n",
       "  <thead>\n",
       "    <tr style=\"text-align: right;\">\n",
       "      <th></th>\n",
       "      <th>RatingsReceived</th>\n",
       "      <th>AvgRatingReceived</th>\n",
       "      <th>MedianRatingReceived</th>\n",
       "      <th>MinRatingReceived</th>\n",
       "      <th>MaxRatingReceived</th>\n",
       "      <th>DateFirstRatingReceived</th>\n",
       "      <th>DateLastRatingReceived</th>\n",
       "      <th>NegReceivedCnt</th>\n",
       "      <th>PosReceivedCnt</th>\n",
       "      <th>RatingsGiven</th>\n",
       "      <th>AvgRatingGiven</th>\n",
       "      <th>MedianRatingGiven</th>\n",
       "      <th>MinRatingGiven</th>\n",
       "      <th>MaxRatingGiven</th>\n",
       "      <th>DateFirstRatingGiven</th>\n",
       "      <th>DateLastRatingGiven</th>\n",
       "      <th>NegGivenCnt</th>\n",
       "      <th>PosGivenCnt</th>\n",
       "      <th>min_ratings_delta</th>\n",
       "      <th>FirstActivity</th>\n",
       "      <th>LastActivity</th>\n",
       "      <th>TimeActive</th>\n",
       "      <th>Victim</th>\n",
       "      <th>Fraudster</th>\n",
       "      <th>RatingsGivenRatio</th>\n",
       "      <th>BotActivity</th>\n",
       "      <th>NegReceivedPct</th>\n",
       "      <th>NegGivenPct</th>\n",
       "    </tr>\n",
       "  </thead>\n",
       "  <tbody>\n",
       "    <tr>\n",
       "      <th>177</th>\n",
       "      <td>198.0</td>\n",
       "      <td>0.217172</td>\n",
       "      <td>1.0</td>\n",
       "      <td>-10.0</td>\n",
       "      <td>10.0</td>\n",
       "      <td>2012-05-02 21:00:00</td>\n",
       "      <td>2014-08-25 21:00:00</td>\n",
       "      <td>42.0</td>\n",
       "      <td>156.0</td>\n",
       "      <td>202.0</td>\n",
       "      <td>1.450495</td>\n",
       "      <td>1.0</td>\n",
       "      <td>-10.0</td>\n",
       "      <td>10.0</td>\n",
       "      <td>2012-05-02 21:00:00</td>\n",
       "      <td>2014-08-25 21:00:00</td>\n",
       "      <td>18.0</td>\n",
       "      <td>184.0</td>\n",
       "      <td>0.0</td>\n",
       "      <td>2012-05-02 21:00:00</td>\n",
       "      <td>2014-08-25 21:00:00</td>\n",
       "      <td>845 days</td>\n",
       "      <td>True</td>\n",
       "      <td>True</td>\n",
       "      <td>1.020202</td>\n",
       "      <td>True</td>\n",
       "      <td>0.212121</td>\n",
       "      <td>0.089109</td>\n",
       "    </tr>\n",
       "    <tr>\n",
       "      <th>7603</th>\n",
       "      <td>93.0</td>\n",
       "      <td>-2.290323</td>\n",
       "      <td>1.0</td>\n",
       "      <td>-10.0</td>\n",
       "      <td>10.0</td>\n",
       "      <td>2011-07-31 21:00:00</td>\n",
       "      <td>2014-09-28 21:00:00</td>\n",
       "      <td>41.0</td>\n",
       "      <td>52.0</td>\n",
       "      <td>66.0</td>\n",
       "      <td>2.818182</td>\n",
       "      <td>1.0</td>\n",
       "      <td>-10.0</td>\n",
       "      <td>10.0</td>\n",
       "      <td>2011-07-31 21:00:00</td>\n",
       "      <td>2014-09-28 21:00:00</td>\n",
       "      <td>1.0</td>\n",
       "      <td>65.0</td>\n",
       "      <td>0.0</td>\n",
       "      <td>2011-07-31 21:00:00</td>\n",
       "      <td>2014-09-28 21:00:00</td>\n",
       "      <td>1155 days</td>\n",
       "      <td>True</td>\n",
       "      <td>True</td>\n",
       "      <td>0.709677</td>\n",
       "      <td>True</td>\n",
       "      <td>0.440860</td>\n",
       "      <td>0.015152</td>\n",
       "    </tr>\n",
       "    <tr>\n",
       "      <th>7604</th>\n",
       "      <td>73.0</td>\n",
       "      <td>-8.602740</td>\n",
       "      <td>-10.0</td>\n",
       "      <td>-10.0</td>\n",
       "      <td>10.0</td>\n",
       "      <td>2013-03-23 21:00:00</td>\n",
       "      <td>2014-08-25 21:00:00</td>\n",
       "      <td>69.0</td>\n",
       "      <td>4.0</td>\n",
       "      <td>21.0</td>\n",
       "      <td>5.238095</td>\n",
       "      <td>10.0</td>\n",
       "      <td>-10.0</td>\n",
       "      <td>10.0</td>\n",
       "      <td>2013-03-23 21:00:00</td>\n",
       "      <td>2014-08-25 21:00:00</td>\n",
       "      <td>5.0</td>\n",
       "      <td>16.0</td>\n",
       "      <td>0.0</td>\n",
       "      <td>2013-03-23 21:00:00</td>\n",
       "      <td>2014-08-25 21:00:00</td>\n",
       "      <td>520 days</td>\n",
       "      <td>True</td>\n",
       "      <td>True</td>\n",
       "      <td>0.287671</td>\n",
       "      <td>True</td>\n",
       "      <td>0.945205</td>\n",
       "      <td>0.238095</td>\n",
       "    </tr>\n",
       "  </tbody>\n",
       "</table>\n",
       "</div>"
      ],
      "text/plain": [
       "      RatingsReceived  AvgRatingReceived  MedianRatingReceived  \\\n",
       "177             198.0           0.217172                   1.0   \n",
       "7603             93.0          -2.290323                   1.0   \n",
       "7604             73.0          -8.602740                 -10.0   \n",
       "\n",
       "      MinRatingReceived  MaxRatingReceived DateFirstRatingReceived  \\\n",
       "177               -10.0               10.0     2012-05-02 21:00:00   \n",
       "7603              -10.0               10.0     2011-07-31 21:00:00   \n",
       "7604              -10.0               10.0     2013-03-23 21:00:00   \n",
       "\n",
       "     DateLastRatingReceived  NegReceivedCnt  PosReceivedCnt  RatingsGiven  \\\n",
       "177     2014-08-25 21:00:00            42.0           156.0         202.0   \n",
       "7603    2014-09-28 21:00:00            41.0            52.0          66.0   \n",
       "7604    2014-08-25 21:00:00            69.0             4.0          21.0   \n",
       "\n",
       "      AvgRatingGiven  MedianRatingGiven  MinRatingGiven  MaxRatingGiven  \\\n",
       "177         1.450495                1.0           -10.0            10.0   \n",
       "7603        2.818182                1.0           -10.0            10.0   \n",
       "7604        5.238095               10.0           -10.0            10.0   \n",
       "\n",
       "     DateFirstRatingGiven DateLastRatingGiven  NegGivenCnt  PosGivenCnt  \\\n",
       "177   2012-05-02 21:00:00 2014-08-25 21:00:00         18.0        184.0   \n",
       "7603  2011-07-31 21:00:00 2014-09-28 21:00:00          1.0         65.0   \n",
       "7604  2013-03-23 21:00:00 2014-08-25 21:00:00          5.0         16.0   \n",
       "\n",
       "      min_ratings_delta       FirstActivity        LastActivity TimeActive  \\\n",
       "177                 0.0 2012-05-02 21:00:00 2014-08-25 21:00:00   845 days   \n",
       "7603                0.0 2011-07-31 21:00:00 2014-09-28 21:00:00  1155 days   \n",
       "7604                0.0 2013-03-23 21:00:00 2014-08-25 21:00:00   520 days   \n",
       "\n",
       "      Victim  Fraudster  RatingsGivenRatio  BotActivity  NegReceivedPct  \\\n",
       "177     True       True           1.020202         True        0.212121   \n",
       "7603    True       True           0.709677         True        0.440860   \n",
       "7604    True       True           0.287671         True        0.945205   \n",
       "\n",
       "      NegGivenPct  \n",
       "177      0.089109  \n",
       "7603     0.015152  \n",
       "7604     0.238095  "
      ]
     },
     "execution_count": 58,
     "metadata": {},
     "output_type": "execute_result"
    }
   ],
   "source": [
    "alpha_users[alpha_users['NegReceivedCnt']> 40]"
   ]
  },
  {
   "cell_type": "code",
   "execution_count": 13,
   "metadata": {},
   "outputs": [
    {
     "data": {
      "text/html": [
       "<div>\n",
       "<style scoped>\n",
       "    .dataframe tbody tr th:only-of-type {\n",
       "        vertical-align: middle;\n",
       "    }\n",
       "\n",
       "    .dataframe tbody tr th {\n",
       "        vertical-align: top;\n",
       "    }\n",
       "\n",
       "    .dataframe thead th {\n",
       "        text-align: right;\n",
       "    }\n",
       "</style>\n",
       "<table border=\"1\" class=\"dataframe\">\n",
       "  <thead>\n",
       "    <tr style=\"text-align: right;\">\n",
       "      <th>NegReceivedCnt</th>\n",
       "      <th>0.0</th>\n",
       "      <th>1.0</th>\n",
       "      <th>2.0</th>\n",
       "      <th>3.0</th>\n",
       "      <th>4.0</th>\n",
       "      <th>Total</th>\n",
       "    </tr>\n",
       "    <tr>\n",
       "      <th>PosReceivedCnt</th>\n",
       "      <th></th>\n",
       "      <th></th>\n",
       "      <th></th>\n",
       "      <th></th>\n",
       "      <th></th>\n",
       "      <th></th>\n",
       "    </tr>\n",
       "  </thead>\n",
       "  <tbody>\n",
       "    <tr>\n",
       "      <th>0.0</th>\n",
       "      <td>29</td>\n",
       "      <td>77</td>\n",
       "      <td>27</td>\n",
       "      <td>12</td>\n",
       "      <td>6</td>\n",
       "      <td>151</td>\n",
       "    </tr>\n",
       "    <tr>\n",
       "      <th>1.0</th>\n",
       "      <td>1388</td>\n",
       "      <td>39</td>\n",
       "      <td>13</td>\n",
       "      <td>13</td>\n",
       "      <td>12</td>\n",
       "      <td>1465</td>\n",
       "    </tr>\n",
       "    <tr>\n",
       "      <th>2.0</th>\n",
       "      <td>597</td>\n",
       "      <td>31</td>\n",
       "      <td>9</td>\n",
       "      <td>5</td>\n",
       "      <td>11</td>\n",
       "      <td>653</td>\n",
       "    </tr>\n",
       "    <tr>\n",
       "      <th>3.0</th>\n",
       "      <td>321</td>\n",
       "      <td>13</td>\n",
       "      <td>6</td>\n",
       "      <td>3</td>\n",
       "      <td>3</td>\n",
       "      <td>346</td>\n",
       "    </tr>\n",
       "    <tr>\n",
       "      <th>4.0</th>\n",
       "      <td>184</td>\n",
       "      <td>17</td>\n",
       "      <td>4</td>\n",
       "      <td>0</td>\n",
       "      <td>6</td>\n",
       "      <td>211</td>\n",
       "    </tr>\n",
       "    <tr>\n",
       "      <th>5.0</th>\n",
       "      <td>127</td>\n",
       "      <td>12</td>\n",
       "      <td>4</td>\n",
       "      <td>0</td>\n",
       "      <td>4</td>\n",
       "      <td>147</td>\n",
       "    </tr>\n",
       "    <tr>\n",
       "      <th>6.0</th>\n",
       "      <td>93</td>\n",
       "      <td>13</td>\n",
       "      <td>2</td>\n",
       "      <td>2</td>\n",
       "      <td>1</td>\n",
       "      <td>111</td>\n",
       "    </tr>\n",
       "    <tr>\n",
       "      <th>7.0</th>\n",
       "      <td>414</td>\n",
       "      <td>192</td>\n",
       "      <td>39</td>\n",
       "      <td>13</td>\n",
       "      <td>41</td>\n",
       "      <td>699</td>\n",
       "    </tr>\n",
       "    <tr>\n",
       "      <th>Total</th>\n",
       "      <td>3153</td>\n",
       "      <td>394</td>\n",
       "      <td>104</td>\n",
       "      <td>48</td>\n",
       "      <td>84</td>\n",
       "      <td>3783</td>\n",
       "    </tr>\n",
       "  </tbody>\n",
       "</table>\n",
       "</div>"
      ],
      "text/plain": [
       "NegReceivedCnt   0.0  1.0  2.0  3.0  4.0  Total\n",
       "PosReceivedCnt                                 \n",
       "0.0               29   77   27   12    6    151\n",
       "1.0             1388   39   13   13   12   1465\n",
       "2.0              597   31    9    5   11    653\n",
       "3.0              321   13    6    3    3    346\n",
       "4.0              184   17    4    0    6    211\n",
       "5.0              127   12    4    0    4    147\n",
       "6.0               93   13    2    2    1    111\n",
       "7.0              414  192   39   13   41    699\n",
       "Total           3153  394  104   48   84   3783"
      ]
     },
     "execution_count": 13,
     "metadata": {},
     "output_type": "execute_result"
    }
   ],
   "source": [
    "pd.crosstab(alpha_users['PosReceivedCnt'], alpha_users['NegReceivedCnt'], margins=True, margins_name=\"Total\")"
   ]
  },
  {
   "cell_type": "code",
   "execution_count": 45,
   "metadata": {},
   "outputs": [
    {
     "data": {
      "text/html": [
       "<div>\n",
       "<style scoped>\n",
       "    .dataframe tbody tr th:only-of-type {\n",
       "        vertical-align: middle;\n",
       "    }\n",
       "\n",
       "    .dataframe tbody tr th {\n",
       "        vertical-align: top;\n",
       "    }\n",
       "\n",
       "    .dataframe thead th {\n",
       "        text-align: right;\n",
       "    }\n",
       "</style>\n",
       "<table border=\"1\" class=\"dataframe\">\n",
       "  <thead>\n",
       "    <tr style=\"text-align: right;\">\n",
       "      <th></th>\n",
       "      <th>RatingsReceived</th>\n",
       "      <th>AvgRatingReceived</th>\n",
       "      <th>MedianRatingReceived</th>\n",
       "      <th>MinRatingReceived</th>\n",
       "      <th>MaxRatingReceived</th>\n",
       "      <th>DateFirstRatingReceived</th>\n",
       "      <th>DateLastRatingReceived</th>\n",
       "      <th>NegReceivedCnt</th>\n",
       "      <th>PosReceivedCnt</th>\n",
       "      <th>RatingsGiven</th>\n",
       "      <th>AvgRatingGiven</th>\n",
       "      <th>MedianRatingGiven</th>\n",
       "      <th>MinRatingGiven</th>\n",
       "      <th>MaxRatingGiven</th>\n",
       "      <th>DateFirstRatingGiven</th>\n",
       "      <th>DateLastRatingGiven</th>\n",
       "      <th>NegGivenCnt</th>\n",
       "      <th>PosGivenCnt</th>\n",
       "      <th>min_ratings_delta</th>\n",
       "      <th>FirstActivity</th>\n",
       "      <th>LastActivity</th>\n",
       "      <th>TimeActive</th>\n",
       "      <th>Victim</th>\n",
       "      <th>Fraudster</th>\n",
       "      <th>RatingsGivenRatio</th>\n",
       "      <th>BotActivity</th>\n",
       "    </tr>\n",
       "  </thead>\n",
       "  <tbody>\n",
       "    <tr>\n",
       "      <th>1292</th>\n",
       "      <td>7.0</td>\n",
       "      <td>0.714286</td>\n",
       "      <td>-1.0</td>\n",
       "      <td>-1.0</td>\n",
       "      <td>7.0</td>\n",
       "      <td>2011-12-14 21:00:00</td>\n",
       "      <td>2012-01-02 21:00:00</td>\n",
       "      <td>4.0</td>\n",
       "      <td>3.0</td>\n",
       "      <td>3.0</td>\n",
       "      <td>-0.666667</td>\n",
       "      <td>1.0</td>\n",
       "      <td>-10.0</td>\n",
       "      <td>7.0</td>\n",
       "      <td>2011-12-14 21:00:00</td>\n",
       "      <td>2012-01-02 21:00:00</td>\n",
       "      <td>1.0</td>\n",
       "      <td>2.0</td>\n",
       "      <td>172800.0</td>\n",
       "      <td>2011-12-14 21:00:00</td>\n",
       "      <td>2012-01-02 21:00:00</td>\n",
       "      <td>19 days</td>\n",
       "      <td>True</td>\n",
       "      <td>True</td>\n",
       "      <td>0.428571</td>\n",
       "      <td>False</td>\n",
       "    </tr>\n",
       "    <tr>\n",
       "      <th>7513</th>\n",
       "      <td>7.0</td>\n",
       "      <td>-2.142857</td>\n",
       "      <td>-1.0</td>\n",
       "      <td>-10.0</td>\n",
       "      <td>8.0</td>\n",
       "      <td>2012-09-12 21:00:00</td>\n",
       "      <td>2012-09-17 21:00:00</td>\n",
       "      <td>4.0</td>\n",
       "      <td>3.0</td>\n",
       "      <td>8.0</td>\n",
       "      <td>3.625000</td>\n",
       "      <td>3.0</td>\n",
       "      <td>1.0</td>\n",
       "      <td>9.0</td>\n",
       "      <td>2012-09-12 21:00:00</td>\n",
       "      <td>2012-09-17 21:00:00</td>\n",
       "      <td>NaN</td>\n",
       "      <td>8.0</td>\n",
       "      <td>0.0</td>\n",
       "      <td>2012-09-12 21:00:00</td>\n",
       "      <td>2012-09-17 21:00:00</td>\n",
       "      <td>5 days</td>\n",
       "      <td>False</td>\n",
       "      <td>True</td>\n",
       "      <td>1.142857</td>\n",
       "      <td>True</td>\n",
       "    </tr>\n",
       "    <tr>\n",
       "      <th>7517</th>\n",
       "      <td>7.0</td>\n",
       "      <td>-2.285714</td>\n",
       "      <td>-10.0</td>\n",
       "      <td>-10.0</td>\n",
       "      <td>10.0</td>\n",
       "      <td>2012-09-24 21:00:00</td>\n",
       "      <td>2012-10-01 21:00:00</td>\n",
       "      <td>4.0</td>\n",
       "      <td>3.0</td>\n",
       "      <td>12.0</td>\n",
       "      <td>1.250000</td>\n",
       "      <td>7.5</td>\n",
       "      <td>-10.0</td>\n",
       "      <td>10.0</td>\n",
       "      <td>2012-09-24 21:00:00</td>\n",
       "      <td>2012-10-01 21:00:00</td>\n",
       "      <td>5.0</td>\n",
       "      <td>7.0</td>\n",
       "      <td>0.0</td>\n",
       "      <td>2012-09-24 21:00:00</td>\n",
       "      <td>2012-10-01 21:00:00</td>\n",
       "      <td>7 days</td>\n",
       "      <td>True</td>\n",
       "      <td>True</td>\n",
       "      <td>1.714286</td>\n",
       "      <td>True</td>\n",
       "    </tr>\n",
       "  </tbody>\n",
       "</table>\n",
       "</div>"
      ],
      "text/plain": [
       "      RatingsReceived  AvgRatingReceived  MedianRatingReceived  \\\n",
       "1292              7.0           0.714286                  -1.0   \n",
       "7513              7.0          -2.142857                  -1.0   \n",
       "7517              7.0          -2.285714                 -10.0   \n",
       "\n",
       "      MinRatingReceived  MaxRatingReceived DateFirstRatingReceived  \\\n",
       "1292               -1.0                7.0     2011-12-14 21:00:00   \n",
       "7513              -10.0                8.0     2012-09-12 21:00:00   \n",
       "7517              -10.0               10.0     2012-09-24 21:00:00   \n",
       "\n",
       "     DateLastRatingReceived  NegReceivedCnt  PosReceivedCnt  RatingsGiven  \\\n",
       "1292    2012-01-02 21:00:00             4.0             3.0           3.0   \n",
       "7513    2012-09-17 21:00:00             4.0             3.0           8.0   \n",
       "7517    2012-10-01 21:00:00             4.0             3.0          12.0   \n",
       "\n",
       "      AvgRatingGiven  MedianRatingGiven  MinRatingGiven  MaxRatingGiven  \\\n",
       "1292       -0.666667                1.0           -10.0             7.0   \n",
       "7513        3.625000                3.0             1.0             9.0   \n",
       "7517        1.250000                7.5           -10.0            10.0   \n",
       "\n",
       "     DateFirstRatingGiven DateLastRatingGiven  NegGivenCnt  PosGivenCnt  \\\n",
       "1292  2011-12-14 21:00:00 2012-01-02 21:00:00          1.0          2.0   \n",
       "7513  2012-09-12 21:00:00 2012-09-17 21:00:00          NaN          8.0   \n",
       "7517  2012-09-24 21:00:00 2012-10-01 21:00:00          5.0          7.0   \n",
       "\n",
       "      min_ratings_delta       FirstActivity        LastActivity TimeActive  \\\n",
       "1292           172800.0 2011-12-14 21:00:00 2012-01-02 21:00:00    19 days   \n",
       "7513                0.0 2012-09-12 21:00:00 2012-09-17 21:00:00     5 days   \n",
       "7517                0.0 2012-09-24 21:00:00 2012-10-01 21:00:00     7 days   \n",
       "\n",
       "      Victim  Fraudster  RatingsGivenRatio  BotActivity  \n",
       "1292    True       True           0.428571        False  \n",
       "7513   False       True           1.142857         True  \n",
       "7517    True       True           1.714286         True  "
      ]
     },
     "execution_count": 45,
     "metadata": {},
     "output_type": "execute_result"
    }
   ],
   "source": [
    "alpha_users[(alpha_users['NegReceivedCnt']==4) & (alpha_users['PosReceivedCnt']==3)]"
   ]
  },
  {
   "cell_type": "code",
   "execution_count": null,
   "metadata": {},
   "outputs": [],
   "source": [
    "import seaborn as sns\n",
    "sns.heatmap(table_df, annot=True)"
   ]
  },
  {
   "cell_type": "code",
   "execution_count": null,
   "metadata": {},
   "outputs": [],
   "source": [
    "alpha_df[alpha_df['rating']<0].groupby('date')['ratee'].count().sort_values(ascending=False)"
   ]
  },
  {
   "cell_type": "code",
   "execution_count": null,
   "metadata": {},
   "outputs": [],
   "source": [
    "alpha_df.hist('rating', bins=21)"
   ]
  },
  {
   "cell_type": "code",
   "execution_count": 91,
   "metadata": {},
   "outputs": [
    {
     "name": "stdout",
     "output_type": "stream",
     "text": [
      "       rater  ratee  rating                date  class  binomial_rating color  \\\n",
      "2793    7517      7      10 2012-09-24 21:00:00      0                1  blue   \n",
      "2794    7536      7      10 2012-09-24 21:00:00      0                1  blue   \n",
      "4176    7536     11      10 2012-09-24 21:00:00      0                1  blue   \n",
      "6295    7517     20      10 2012-09-24 21:00:00      0                1  blue   \n",
      "11078   7517     62      10 2012-09-24 21:00:00      0                1  blue   \n",
      "11079   7536     62      10 2012-09-24 21:00:00      0                1  blue   \n",
      "24052   7517   5533      10 2012-09-24 21:00:00      0                1  blue   \n",
      "24053   7536   5533      10 2012-09-24 21:00:00      0                1  blue   \n",
      "24133   7536   7517      10 2012-09-24 21:00:00      0                1  blue   \n",
      "24135   7517   7565      10 2012-09-24 21:00:00      0                1  blue   \n",
      "24136   7517   7536      10 2012-09-24 21:00:00      0                1  blue   \n",
      "24148   7565   7536      10 2012-09-24 21:00:00      0                1  blue   \n",
      "24149   7536   7565      10 2012-09-24 21:00:00      0                1  blue   \n",
      "24134   7565   7517       9 2012-09-24 21:00:00      0                1  blue   \n",
      "16860   7517    177       5 2012-09-24 21:00:00      0                1  blue   \n",
      "24056   5533   7517       5 2012-09-24 21:00:00      0                1  blue   \n",
      "4920    7517     13     -10 2012-09-24 21:00:00      1               -1   red   \n",
      "8043      30   7517     -10 2012-09-24 21:00:00      1               -1   red   \n",
      "8044      30   7536     -10 2012-09-24 21:00:00      1               -1   red   \n",
      "15795   7536    145     -10 2012-09-24 21:00:00      1               -1   red   \n",
      "15796   7517    145     -10 2012-09-24 21:00:00      1               -1   red   \n",
      "15841    145   7536     -10 2012-09-24 21:00:00      1               -1   red   \n",
      "15842    145   7517     -10 2012-09-24 21:00:00      1               -1   red   \n",
      "16337   7536    159     -10 2012-09-24 21:00:00      1               -1   red   \n",
      "16338   7517    159     -10 2012-09-24 21:00:00      1               -1   red   \n",
      "16523   7536    166     -10 2012-09-24 21:00:00      1               -1   red   \n",
      "16524   7517    166     -10 2012-09-24 21:00:00      1               -1   red   \n",
      "24137   7517   7553     -10 2012-09-24 21:00:00      1               -1   red   \n",
      "24150   7536   7553     -10 2012-09-24 21:00:00      1               -1   red   \n",
      "16558    166   7517     -10 2012-09-25 21:00:00      1               -1   red   \n",
      "16559    166   7536     -10 2012-09-25 21:00:00      1               -1   red   \n",
      "\n",
      "       penwidth  \n",
      "2793          4  \n",
      "2794          4  \n",
      "4176          4  \n",
      "6295          4  \n",
      "11078         4  \n",
      "11079         4  \n",
      "24052         4  \n",
      "24053         4  \n",
      "24133         4  \n",
      "24135         4  \n",
      "24136         4  \n",
      "24148         4  \n",
      "24149         4  \n",
      "24134         4  \n",
      "16860         3  \n",
      "24056         3  \n",
      "4920          4  \n",
      "8043          4  \n",
      "8044          4  \n",
      "15795         4  \n",
      "15796         4  \n",
      "15841         4  \n",
      "15842         4  \n",
      "16337         4  \n",
      "16338         4  \n",
      "16523         4  \n",
      "16524         4  \n",
      "24137         4  \n",
      "24150         4  \n",
      "16558         4  \n",
      "16559         4  \n",
      "RatingsReceived                              6\n",
      "AvgRatingReceived                     -3.33333\n",
      "MedianRatingReceived                       -10\n",
      "MinRatingReceived                          -10\n",
      "MaxRatingReceived                           10\n",
      "DateFirstRatingReceived    2012-09-24 21:00:00\n",
      "DateLastRatingReceived     2012-10-01 21:00:00\n",
      "NegReceivedCnt                               4\n",
      "PosReceivedCnt                               2\n",
      "RatingsGiven                                10\n",
      "AvgRatingGiven                               2\n",
      "MedianRatingGiven                           10\n",
      "MinRatingGiven                             -10\n",
      "MaxRatingGiven                              10\n",
      "DateFirstRatingGiven       2012-09-24 21:00:00\n",
      "DateLastRatingGiven        2012-10-01 21:00:00\n",
      "NegGivenCnt                                  4\n",
      "PosGivenCnt                                  6\n",
      "min_ratings_delta                            0\n",
      "FirstActivity              2012-09-24 21:00:00\n",
      "LastActivity               2012-10-01 21:00:00\n",
      "TimeActive                     7 days 00:00:00\n",
      "Victim                                    True\n",
      "Fraudster                                 True\n",
      "RatingsGivenRatio                      1.66667\n",
      "BotActivity                               True\n",
      "Name: 7536, dtype: object\n"
     ]
    },
    {
     "data": {
      "image/png": "[encoded data removed]",
      "text/plain": [
       "<IPython.core.display.Image object>"
      ]
     },
     "execution_count": 91,
     "metadata": {},
     "output_type": "execute_result"
    }
   ],
   "source": [
    "user_df, user_g = h.build_graph(alpha_df, user_lst=[7536, 7517], maxdate='2012-09-25 21:00:00')\n",
    "print(user_df[:])\n",
    "print(alpha_users.loc[7536])\n",
    "nxpd.draw(user_g, show='ipynb')\n"
   ]
  },
  {
   "cell_type": "code",
   "execution_count": 83,
   "metadata": {},
   "outputs": [
    {
     "data": {
      "text/html": [
       "<div>\n",
       "<style scoped>\n",
       "    .dataframe tbody tr th:only-of-type {\n",
       "        vertical-align: middle;\n",
       "    }\n",
       "\n",
       "    .dataframe tbody tr th {\n",
       "        vertical-align: top;\n",
       "    }\n",
       "\n",
       "    .dataframe thead th {\n",
       "        text-align: right;\n",
       "    }\n",
       "</style>\n",
       "<table border=\"1\" class=\"dataframe\">\n",
       "  <thead>\n",
       "    <tr style=\"text-align: right;\">\n",
       "      <th></th>\n",
       "      <th>rater</th>\n",
       "      <th>ratee</th>\n",
       "      <th>rating</th>\n",
       "      <th>date</th>\n",
       "      <th>class</th>\n",
       "      <th>binomial_rating</th>\n",
       "      <th>color</th>\n",
       "      <th>penwidth</th>\n",
       "    </tr>\n",
       "  </thead>\n",
       "  <tbody>\n",
       "    <tr>\n",
       "      <th>8044</th>\n",
       "      <td>30</td>\n",
       "      <td>7536</td>\n",
       "      <td>-10</td>\n",
       "      <td>2012-09-24 21:00:00</td>\n",
       "      <td>1</td>\n",
       "      <td>-1</td>\n",
       "      <td>red</td>\n",
       "      <td>4</td>\n",
       "    </tr>\n",
       "    <tr>\n",
       "      <th>15841</th>\n",
       "      <td>145</td>\n",
       "      <td>7536</td>\n",
       "      <td>-10</td>\n",
       "      <td>2012-09-24 21:00:00</td>\n",
       "      <td>1</td>\n",
       "      <td>-1</td>\n",
       "      <td>red</td>\n",
       "      <td>4</td>\n",
       "    </tr>\n",
       "    <tr>\n",
       "      <th>24136</th>\n",
       "      <td>7517</td>\n",
       "      <td>7536</td>\n",
       "      <td>10</td>\n",
       "      <td>2012-09-24 21:00:00</td>\n",
       "      <td>0</td>\n",
       "      <td>1</td>\n",
       "      <td>blue</td>\n",
       "      <td>4</td>\n",
       "    </tr>\n",
       "    <tr>\n",
       "      <th>24148</th>\n",
       "      <td>7565</td>\n",
       "      <td>7536</td>\n",
       "      <td>10</td>\n",
       "      <td>2012-09-24 21:00:00</td>\n",
       "      <td>0</td>\n",
       "      <td>1</td>\n",
       "      <td>blue</td>\n",
       "      <td>4</td>\n",
       "    </tr>\n",
       "  </tbody>\n",
       "</table>\n",
       "</div>"
      ],
      "text/plain": [
       "       rater  ratee  rating                date  class  binomial_rating color  \\\n",
       "8044      30   7536     -10 2012-09-24 21:00:00      1               -1   red   \n",
       "15841    145   7536     -10 2012-09-24 21:00:00      1               -1   red   \n",
       "24136   7517   7536      10 2012-09-24 21:00:00      0                1  blue   \n",
       "24148   7565   7536      10 2012-09-24 21:00:00      0                1  blue   \n",
       "\n",
       "       penwidth  \n",
       "8044          4  \n",
       "15841         4  \n",
       "24136         4  \n",
       "24148         4  "
      ]
     },
     "execution_count": 83,
     "metadata": {},
     "output_type": "execute_result"
    }
   ],
   "source": [
    "maxdate='2012-09-25'\n",
    "alpha_df[(alpha_df['date'] <= maxdate) & (alpha_df['ratee']==7536)]"
   ]
  },
  {
   "cell_type": "code",
   "execution_count": null,
   "metadata": {},
   "outputs": [],
   "source": []
  },
  {
   "cell_type": "code",
   "execution_count": null,
   "metadata": {},
   "outputs": [],
   "source": [
    "alpha_df['FirstNegRating'] = alpha_df[alpha_df['rating']<0].groupby('ratee')['date'].min()"
   ]
  },
  {
   "cell_type": "code",
   "execution_count": null,
   "metadata": {},
   "outputs": [],
   "source": [
    "alpha_df['RatingsPriorToNeg'] = alpha_df[alpha_df['date']<alpha_df['FirstNegRating']].groupby('ratee')['rating'].count()"
   ]
  },
  {
   "cell_type": "code",
   "execution_count": null,
   "metadata": {},
   "outputs": [],
   "source": [
    "alpha_df.groupby('RatingsPriorToNeg')['rating'].count()"
   ]
  },
  {
   "cell_type": "code",
   "execution_count": null,
   "metadata": {},
   "outputs": [],
   "source": [
    "alpha_df[alpha_df['RatingsPriorToNeg']==44]"
   ]
  },
  {
   "cell_type": "code",
   "execution_count": 28,
   "metadata": {},
   "outputs": [
    {
     "data": {
      "text/html": [
       "<div>\n",
       "<style scoped>\n",
       "    .dataframe tbody tr th:only-of-type {\n",
       "        vertical-align: middle;\n",
       "    }\n",
       "\n",
       "    .dataframe tbody tr th {\n",
       "        vertical-align: top;\n",
       "    }\n",
       "\n",
       "    .dataframe thead th {\n",
       "        text-align: right;\n",
       "    }\n",
       "</style>\n",
       "<table border=\"1\" class=\"dataframe\">\n",
       "  <thead>\n",
       "    <tr style=\"text-align: right;\">\n",
       "      <th></th>\n",
       "      <th>rater</th>\n",
       "      <th>ratee</th>\n",
       "      <th>rating</th>\n",
       "      <th>date</th>\n",
       "      <th>class</th>\n",
       "      <th>binomial_rating</th>\n",
       "      <th>color</th>\n",
       "      <th>penwidth</th>\n",
       "    </tr>\n",
       "  </thead>\n",
       "  <tbody>\n",
       "    <tr>\n",
       "      <th>7247</th>\n",
       "      <td>25</td>\n",
       "      <td>177</td>\n",
       "      <td>-1</td>\n",
       "      <td>2013-07-18 21:00:00</td>\n",
       "      <td>1</td>\n",
       "      <td>-1</td>\n",
       "      <td>red</td>\n",
       "      <td>1</td>\n",
       "    </tr>\n",
       "    <tr>\n",
       "      <th>7249</th>\n",
       "      <td>177</td>\n",
       "      <td>26</td>\n",
       "      <td>9</td>\n",
       "      <td>2013-01-22 21:00:00</td>\n",
       "      <td>0</td>\n",
       "      <td>1</td>\n",
       "      <td>blue</td>\n",
       "      <td>4</td>\n",
       "    </tr>\n",
       "    <tr>\n",
       "      <th>7487</th>\n",
       "      <td>26</td>\n",
       "      <td>177</td>\n",
       "      <td>-10</td>\n",
       "      <td>2013-06-26 21:00:00</td>\n",
       "      <td>1</td>\n",
       "      <td>-1</td>\n",
       "      <td>red</td>\n",
       "      <td>4</td>\n",
       "    </tr>\n",
       "    <tr>\n",
       "      <th>7564</th>\n",
       "      <td>177</td>\n",
       "      <td>27</td>\n",
       "      <td>1</td>\n",
       "      <td>2013-03-04 21:00:00</td>\n",
       "      <td>0</td>\n",
       "      <td>1</td>\n",
       "      <td>blue</td>\n",
       "      <td>1</td>\n",
       "    </tr>\n",
       "    <tr>\n",
       "      <th>7624</th>\n",
       "      <td>27</td>\n",
       "      <td>177</td>\n",
       "      <td>1</td>\n",
       "      <td>2013-03-03 21:00:00</td>\n",
       "      <td>0</td>\n",
       "      <td>1</td>\n",
       "      <td>blue</td>\n",
       "      <td>1</td>\n",
       "    </tr>\n",
       "    <tr>\n",
       "      <th>...</th>\n",
       "      <td>...</td>\n",
       "      <td>...</td>\n",
       "      <td>...</td>\n",
       "      <td>...</td>\n",
       "      <td>...</td>\n",
       "      <td>...</td>\n",
       "      <td>...</td>\n",
       "      <td>...</td>\n",
       "    </tr>\n",
       "    <tr>\n",
       "      <th>17138</th>\n",
       "      <td>177</td>\n",
       "      <td>7565</td>\n",
       "      <td>-10</td>\n",
       "      <td>2012-10-01 21:00:00</td>\n",
       "      <td>1</td>\n",
       "      <td>-1</td>\n",
       "      <td>red</td>\n",
       "      <td>4</td>\n",
       "    </tr>\n",
       "    <tr>\n",
       "      <th>17139</th>\n",
       "      <td>177</td>\n",
       "      <td>7536</td>\n",
       "      <td>-10</td>\n",
       "      <td>2012-10-01 21:00:00</td>\n",
       "      <td>1</td>\n",
       "      <td>-1</td>\n",
       "      <td>red</td>\n",
       "      <td>4</td>\n",
       "    </tr>\n",
       "    <tr>\n",
       "      <th>17140</th>\n",
       "      <td>177</td>\n",
       "      <td>5533</td>\n",
       "      <td>-10</td>\n",
       "      <td>2012-10-01 21:00:00</td>\n",
       "      <td>1</td>\n",
       "      <td>-1</td>\n",
       "      <td>red</td>\n",
       "      <td>4</td>\n",
       "    </tr>\n",
       "    <tr>\n",
       "      <th>17141</th>\n",
       "      <td>177</td>\n",
       "      <td>7583</td>\n",
       "      <td>-10</td>\n",
       "      <td>2012-05-25 21:00:00</td>\n",
       "      <td>1</td>\n",
       "      <td>-1</td>\n",
       "      <td>red</td>\n",
       "      <td>4</td>\n",
       "    </tr>\n",
       "    <tr>\n",
       "      <th>17142</th>\n",
       "      <td>177</td>\n",
       "      <td>798</td>\n",
       "      <td>-10</td>\n",
       "      <td>2013-01-20 21:00:00</td>\n",
       "      <td>1</td>\n",
       "      <td>-1</td>\n",
       "      <td>red</td>\n",
       "      <td>4</td>\n",
       "    </tr>\n",
       "  </tbody>\n",
       "</table>\n",
       "<p>380 rows × 8 columns</p>\n",
       "</div>"
      ],
      "text/plain": [
       "       rater  ratee  rating                date  class  binomial_rating color  \\\n",
       "7247      25    177      -1 2013-07-18 21:00:00      1               -1   red   \n",
       "7249     177     26       9 2013-01-22 21:00:00      0                1  blue   \n",
       "7487      26    177     -10 2013-06-26 21:00:00      1               -1   red   \n",
       "7564     177     27       1 2013-03-04 21:00:00      0                1  blue   \n",
       "7624      27    177       1 2013-03-03 21:00:00      0                1  blue   \n",
       "...      ...    ...     ...                 ...    ...              ...   ...   \n",
       "17138    177   7565     -10 2012-10-01 21:00:00      1               -1   red   \n",
       "17139    177   7536     -10 2012-10-01 21:00:00      1               -1   red   \n",
       "17140    177   5533     -10 2012-10-01 21:00:00      1               -1   red   \n",
       "17141    177   7583     -10 2012-05-25 21:00:00      1               -1   red   \n",
       "17142    177    798     -10 2013-01-20 21:00:00      1               -1   red   \n",
       "\n",
       "       penwidth  \n",
       "7247          1  \n",
       "7249          4  \n",
       "7487          4  \n",
       "7564          1  \n",
       "7624          1  \n",
       "...         ...  \n",
       "17138         4  \n",
       "17139         4  \n",
       "17140         4  \n",
       "17141         4  \n",
       "17142         4  \n",
       "\n",
       "[380 rows x 8 columns]"
      ]
     },
     "execution_count": 28,
     "metadata": {},
     "output_type": "execute_result"
    }
   ],
   "source": [
    "alpha_df[(alpha_df['ratee']==177) | (alpha_df['rater']==177)][20:]"
   ]
  },
  {
   "cell_type": "code",
   "execution_count": null,
   "metadata": {},
   "outputs": [],
   "source": [
    "nxpd.draw(user_g, show='ipynb')"
   ]
  },
  {
   "cell_type": "code",
   "execution_count": null,
   "metadata": {},
   "outputs": [],
   "source": [
    "test_g = nx.ego_graph(alpha_G, 7604, radius=1)\n",
    "nx.draw_shell(test_g )"
   ]
  },
  {
   "cell_type": "code",
   "execution_count": null,
   "metadata": {},
   "outputs": [],
   "source": [
    "nxpd.draw(test_g, show='ipynb')"
   ]
  },
  {
   "cell_type": "code",
   "execution_count": null,
   "metadata": {},
   "outputs": [],
   "source": [
    "census = nx.triadic_census(alpha_G)\n",
    "census"
   ]
  },
  {
   "cell_type": "code",
   "execution_count": null,
   "metadata": {},
   "outputs": [],
   "source": [
    "nx.clustering(test_g, 7604)"
   ]
  },
  {
   "cell_type": "code",
   "execution_count": null,
   "metadata": {},
   "outputs": [],
   "source": [
    "node_census = nx.triads_by_type(test_g)"
   ]
  },
  {
   "cell_type": "code",
   "execution_count": null,
   "metadata": {},
   "outputs": [],
   "source": [
    "nx.all_triads(test_g)"
   ]
  },
  {
   "cell_type": "code",
   "execution_count": null,
   "metadata": {},
   "outputs": [],
   "source": [
    "users = [7599]\n",
    "users_df, users_g = v.graph_users(users, alpha_df)\n",
    "print(users_df[['date','rater','ratee','rating']])\n",
    "nxpd.draw(users_g, show='ipynb')\n"
   ]
  },
  {
   "cell_type": "code",
   "execution_count": null,
   "metadata": {},
   "outputs": [],
   "source": [
    "# need to take a fraudster and measure this at different radius amounts\n",
    "\n",
    "# might also be interesting to find fully connected triads within 1 node radius of user\n",
    "\n",
    "print(\"Proportion of the nodes that you rate, that also rate each other\")\n",
    "# low rating means more of a broadcaster, high rating means dense network with lots of mutual trust ???\n",
    "g_user = nx.ego_graph(alpha_pos_G,7599, undirected=True, radius=1)\n",
    "print(f\"Clustering Coefficent: {nx.average_clustering(g_user):.2f}\")\n",
    "print(f\"Clustering Coefficent: {nx.clustering(g_user, 7599):.2f}\")\n",
    "print(nx.transitivity(g_user))\n",
    "\n",
    "# g_user = nx.ego_graph(alpha_pos_G,7599, undirected=True, radius=1)\n",
    "# print(f\"Clustering Coefficent: {nx.average_clustering(g_user):.2f}\")\n",
    "\n",
    "g_user = nx.ego_graph(alpha_pos_G,7600, undirected=True, radius=1)\n",
    "print(f\"Clustering Coefficent: {nx.average_clustering(g_user):.2f}\")\n",
    "print(nx.transitivity(g_user))\n",
    "\n",
    "g_user = nx.ego_graph(alpha_pos_G,179, undirected=True, radius=1)\n",
    "print(f\"Clustering Coefficent: {nx.average_clustering(g_user):.2f}\")\n",
    "print(nx.transitivity(g_user))"
   ]
  },
  {
   "cell_type": "code",
   "execution_count": null,
   "metadata": {},
   "outputs": [],
   "source": [
    "coefficients = nx.clustering(alpha_pos_G)\n",
    "average = sum(coefficients.values())/len(coefficients)\n",
    "print(average)"
   ]
  },
  {
   "cell_type": "code",
   "execution_count": null,
   "metadata": {},
   "outputs": [],
   "source": [
    "print(nx.average_clustering(alpha_G))\n",
    "print(nx.transitivity(alpha_G))"
   ]
  },
  {
   "cell_type": "code",
   "execution_count": null,
   "metadata": {},
   "outputs": [],
   "source": [
    "print(nx.average_clustering(alpha_pos_G))\n",
    "print(nx.transitivity(alpha_pos_G))"
   ]
  },
  {
   "cell_type": "code",
   "execution_count": null,
   "metadata": {},
   "outputs": [],
   "source": [
    "print(f\"Clustering Coefficent: {nx.clustering(alpha_pos_G, 7600):.2f}\")"
   ]
  },
  {
   "cell_type": "code",
   "execution_count": null,
   "metadata": {},
   "outputs": [],
   "source": [
    "h.user_activity(43, alpha_df[alpha_df['date']>='2012-09-17'])"
   ]
  },
  {
   "cell_type": "code",
   "execution_count": null,
   "metadata": {},
   "outputs": [],
   "source": [
    "alpha_users.info()"
   ]
  },
  {
   "cell_type": "code",
   "execution_count": null,
   "metadata": {},
   "outputs": [],
   "source": [
    "alpha_users.hist('FraudCnt')"
   ]
  },
  {
   "cell_type": "code",
   "execution_count": null,
   "metadata": {},
   "outputs": [],
   "source": [
    "alpha_users.sort_values('FraudCnt', ascending=False)[:15]"
   ]
  },
  {
   "cell_type": "markdown",
   "metadata": {},
   "source": [
    "### Identify Super Users - centrality metrics"
   ]
  },
  {
   "cell_type": "code",
   "execution_count": null,
   "metadata": {},
   "outputs": [],
   "source": [
    "# Degree Centrality\n",
    "#     Node Degree --> number of connections a node has\n",
    "\n",
    "# compute degree (number of edges adjacent to the node)\n",
    "print(max([val for (node, val) in G.degree()]))\n",
    "print(min([val for (node, val) in G.degree()]))\n",
    "# h = plt.hist([val for (node, val) in G.degree()], bins=100);\n",
    "plt.hist([val for (node, val) in G.degree()], bins=1000);\n",
    "# plt.loglog(h[1][1:],h[0]);"
   ]
  },
  {
   "cell_type": "code",
   "execution_count": null,
   "metadata": {},
   "outputs": [],
   "source": [
    "# isolated nodes removed\n",
    "def trim_degrees(g, degree=1):\n",
    "    d=nx.degree(g)\n",
    "    g2=g.copy()\n",
    "    for n in g.nodes():\n",
    "        if d[n]<=degree: g2.remove_node(n)\n",
    "    return g2\n",
    "core=trim_degrees(G)\n",
    "len(core)"
   ]
  },
  {
   "cell_type": "code",
   "execution_count": null,
   "metadata": {},
   "outputs": [],
   "source": [
    "# # Closeness Centrality\n",
    "# def sorted_map(map):\n",
    "#     ms = sorted(map.iteritems(), key=lambda (k,v): (-v,k))\n",
    "#     return ms\n",
    "\n",
    "# ds=sorted_map(d)"
   ]
  },
  {
   "cell_type": "code",
   "execution_count": null,
   "metadata": {},
   "outputs": [],
   "source": [
    "# nx.closeness_centrality(G)"
   ]
  },
  {
   "cell_type": "markdown",
   "metadata": {},
   "source": [
    "word2ved - extracts information about entities using context alone\n",
    "    input - sentences\n",
    "    output - embedding for each word (describes the context of each word via the words surrounding it - read up on this)\n",
    "            words appear in linear order\n",
    "            find thousands of instances in which a word appears and look at the other words that appear with it. - - Then use these words to represent the meaning of the word you are focused on (distributional similarity).\"you shall know a word by the company that it keeps\"\n",
    "- Come with a dense vector for each word such that it will be good for predicting other words that appear in the context of this word. Other words will have their own vectors and we will look for similarity measures (like dot product?) between these vectors. Then change them so that they become good predictors (recursive algorithm).  \n",
    "    \n",
    "node2vec - describes the context each node via it's neighbor nodes. No order to nodes on a graph.\n",
    "            Applies a reduction of the graphical structure into a linear structure where word2vec can be used.\n",
    "\n",
    "Does this by performing random walks in the graph. Each walk starts at a random node and goes in a series of steps to random neighbors. \n",
    "Learns node embeddings (the things that make nodes similar) - can use them as features for downstream task (fraud detection?)\n",
    "defines probabilities (of word appearing in a text given the center word)25:30 in lecture ** good stuff\n",
    "\n",
    "or cluster similar embeddings together (using K-means)\n",
    "learns high dimensional embeddings, not just communities\n",
    "\n",
    "node2vec? = Make vectors that are good at predicting nodes around them and vice versa."
   ]
  },
  {
   "cell_type": "code",
   "execution_count": null,
   "metadata": {},
   "outputs": [],
   "source": [
    "import networkx as nx\n",
    "\n",
    "# plain graph\n",
    "G = nx.complete_graph(5)  # start with K5 in networkx\n",
    "A = nx.nx_agraph.to_agraph(G)  # convert to a graphviz graph\n",
    "A.layout()  # neato layout\n",
    "A.draw(\"k5.ps\") "
   ]
  },
  {
   "cell_type": "code",
   "execution_count": null,
   "metadata": {},
   "outputs": [],
   "source": []
  }
 ],
 "metadata": {
  "kernelspec": {
   "display_name": "Python 3",
   "language": "python",
   "name": "python3"
  },
  "language_info": {
   "codemirror_mode": {
    "name": "ipython",
    "version": 3
   },
   "file_extension": ".py",
   "mimetype": "text/x-python",
   "name": "python",
   "nbconvert_exporter": "python",
   "pygments_lexer": "ipython3",
   "version": "3.7.9"
  }
 },
 "nbformat": 4,
 "nbformat_minor": 4
}
