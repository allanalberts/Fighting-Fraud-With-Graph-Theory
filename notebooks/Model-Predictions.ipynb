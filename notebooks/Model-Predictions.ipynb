{
 "cells": [
  {
   "cell_type": "markdown",
   "metadata": {},
   "source": [
    "# Bitcoin Marketplace Rating Predictions"
   ]
  },
  {
   "cell_type": "code",
   "execution_count": 1,
   "metadata": {},
   "outputs": [],
   "source": [
    "import pandas as pd\n",
    "import numpy as np\n",
    "\n",
    "from sklearn.model_selection import train_test_split\n",
    "from sklearn.ensemble import RandomForestClassifier\n",
    "from sklearn.metrics import confusion_matrix\n",
    "from sklearn.metrics import recall_score\n",
    "from sklearn.metrics import precision_score\n",
    "from sklearn.metrics import f1_score\n",
    "from sklearn.metrics import precision_recall_curve\n",
    "from sklearn.metrics import auc\n",
    "import itertools\n",
    "\n",
    "import matplotlib.pyplot as plt\n",
    "%matplotlib inline\n",
    "# import seaborn as sns\n",
    "plt.style.use('ggplot')\n",
    "\n",
    "import sys\n",
    "sys.path.insert(0, '../src')\n",
    "import helpers as h\n",
    "import visualizations as v\n",
    "import time"
   ]
  },
  {
   "cell_type": "markdown",
   "metadata": {},
   "source": [
    "## OTC features"
   ]
  },
  {
   "cell_type": "code",
   "execution_count": 2,
   "metadata": {},
   "outputs": [],
   "source": [
    "df_otc_features = pd.read_csv('../data/df_features_otc.csv')\n",
    "df_otc_velocity = pd.read_csv('../data/df_otc_vd.csv')\n",
    "\n",
    "merge_cols = ['ratee','rater','date','rating','class']\n",
    "features_df = pd.merge(df_otc_features, df_otc_velocity, on=merge_cols)\n",
    "\n",
    "features_df.drop(['binomial_rating', 'color', 'penwidth'], inplace=True, axis=1)"
   ]
  },
  {
   "cell_type": "markdown",
   "metadata": {},
   "source": [
    "## Fit Model"
   ]
  },
  {
   "cell_type": "code",
   "execution_count": 3,
   "metadata": {},
   "outputs": [],
   "source": [
    "X = features_df.copy()\n",
    "X = X.drop(['rater', 'ratee', 'rating', 'date'], axis=1)\n",
    "r = X['rating_received_avg']\n",
    "y = X.pop('class')\n",
    "X_train, X_test, y_train, y_test, r_train, r_test = train_test_split(X, y, r,\n",
    "                                                    stratify=y, shuffle=True,\n",
    "                                                    random_state=123)\n",
    "\n",
    "model = RandomForestClassifier(bootstrap = True,\n",
    "                               max_depth = 15,\n",
    "                               max_features = 4,\n",
    "                               min_samples_leaf = 3,\n",
    "                               min_samples_split = 7,\n",
    "                               n_estimators = 1000,\n",
    "                               n_jobs=-1,\n",
    "                               random_state=123)\n",
    "model.fit(X_train, y_train)\n",
    "\n",
    "rf_pred = model.predict(X_test)\n",
    "rf_proba = model.predict_proba(X_test)[:,1]\n",
    "\n",
    "rf_precision, rf_recall, rf_thresholds = precision_recall_curve(y_test, rf_proba)\n",
    "rf_f1 = f1_score(y_test, rf_pred)"
   ]
  },
  {
   "cell_type": "markdown",
   "metadata": {},
   "source": [
    "### Precision and Recall from Using Average User Rating"
   ]
  },
  {
   "cell_type": "code",
   "execution_count": null,
   "metadata": {},
   "outputs": [],
   "source": [
    "# Average user rating for ROC AUC scores\n",
    "def NormalizeData(data):\n",
    "    return (data - np.min(data)) / (np.max(data) - np.min(data))\n",
    "\n",
    "r_pred = (r_test<0).astype(int)\n",
    "r_proba = NormalizeData(r_test)\n",
    "\n",
    "r_precision, r_recall, r_thresholds = precision_recall_curve(y_test, r_pred)\n",
    "r_f1 = f1_score(y_test, r_pred)"
   ]
  },
  {
   "cell_type": "markdown",
   "metadata": {},
   "source": [
    "### Fit Model with no graph features"
   ]
  },
  {
   "cell_type": "code",
   "execution_count": null,
   "metadata": {},
   "outputs": [],
   "source": [
    "graph_cols = ['ego_triad_300', 'ego_triad_210', 'ego_triad_201', \n",
    "              'ego_triad_120', 'ego_triad_all', 'ego_cluster_coef', \n",
    "              'ego_degree', 'ego_betweeness', 'ego_closeness', 'ego_num_cliques']\n",
    "features_df_ng = features_df.copy()\n",
    "features_df_ng.drop(graph_cols, inplace=True, axis=1)\n",
    "\n",
    "X = features_df_ng.copy()\n",
    "X = X.drop(['rater', 'ratee', 'rating', 'date'], axis=1)\n",
    "r = X['rating_received_avg']\n",
    "y = X.pop('class')\n",
    "X_train, X_test, y_train, y_test, r_train, r_test = train_test_split(X, y, r, \n",
    "                                                    stratify=y, shuffle=True,\n",
    "                                                    random_state=123)\n",
    "model_ng = RandomForestClassifier(\n",
    "                               bootstrap = True,\n",
    "                               max_depth = 15,\n",
    "                               max_features = 4,\n",
    "                               min_samples_leaf = 3,\n",
    "                               min_samples_split = 7,\n",
    "                               n_estimators = 1000,\n",
    "                               n_jobs=-1,\n",
    "                               random_state=123)\n",
    "model_ng.fit(X_train, y_train)\n",
    "\n",
    "ng_pred = model_ng.predict(X_test)\n",
    "ng_proba = model_ng.predict_proba(X_test)[:,1]\n",
    "\n",
    "ng_precision, ng_recall, ng_thresholds = precision_recall_curve(y_test, ng_proba)\n",
    "ng_f1 = f1_score(y_test, ng_pred)"
   ]
  },
  {
   "cell_type": "markdown",
   "metadata": {},
   "source": [
    "### Precision Recall Curve"
   ]
  },
  {
   "cell_type": "code",
   "execution_count": null,
   "metadata": {},
   "outputs": [],
   "source": [
    "fig, ax = plt.subplots(figsize=(5,5))\n",
    "thresh1 = .5\n",
    "rf_threshold_idx1 = np.argmin(np.abs(rf_thresholds-thresh1))\n",
    "ax.set_title(\"Precision Recall Curve\")\n",
    "ax.plot(rf_recall, rf_precision, alpha=0.8, linewidth=2.0,label=f\"All Features Model (f1 score = {rf_f1:.2f})\")\n",
    "ax.plot(ng_recall, ng_precision, alpha=0.8, linewidth=2.0,label=f\"No Graph Features (f1 score = {ng_f1:.2f})\")\n",
    "ax.plot(r_recall, r_precision, alpha=0.8, linewidth=2.0,label=f\"Avg User Rating (f1 score = {r_f1:.2f})\")\n",
    "plt.plot(rf_recall[rf_threshold_idx1], \n",
    "         rf_precision[rf_threshold_idx1], 'o', \n",
    "         markersize=10, fillstyle='full', \n",
    "         c=\"orangered\", label=f\"{thresh1} threshold\", mew=2)\n",
    "ax.set_xlabel('Recall')\n",
    "ax.set_ylabel('Precision')\n",
    "ax.set_xlim([0.0, 1.0])\n",
    "ax.set_ylim([0.0, 1.05])\n",
    "ax.legend(loc=\"lower left\", frameon=False)\n",
    "plt.tight_layout()"
   ]
  },
  {
   "cell_type": "markdown",
   "metadata": {},
   "source": [
    "### Confusion Matrix"
   ]
  },
  {
   "cell_type": "code",
   "execution_count": null,
   "metadata": {},
   "outputs": [],
   "source": [
    "from sklearn.metrics import confusion_matrix\n",
    "\n",
    "thresh = .5\n",
    "pred_proba = rf_proba\n",
    "cnf_matrix = confusion_matrix(y_test, pred_proba>=thresh)\n",
    "print(cnf_matrix)\n",
    "tn, fp, fn, tp = cnf_matrix.ravel()\n",
    "neg = tn + fp\n",
    "pos = fn + tp\n",
    "tnpct = tn/neg\n",
    "fppct = fp/neg\n",
    "fnpct = fn/pos\n",
    "tppct = tp/pos\n",
    "cnt_matrix_pct = np.round(np.array([tnpct,fppct,fnpct, tppct]), 2)\n",
    "cnt_matrix_pct.reshape((2,2))"
   ]
  },
  {
   "cell_type": "code",
   "execution_count": null,
   "metadata": {},
   "outputs": [],
   "source": [
    "def plot_confusion_matrix(cm, classes,\n",
    "                          normalize=False,\n",
    "                          title='Confusion matrix',\n",
    "                          cmap=plt.cm.Blues):\n",
    "    \"\"\"\n",
    "    This function prints and plots the confusion matrix.\n",
    "    Normalization can be applied by setting `normalize=True`.\n",
    "    \"\"\"\n",
    "    if normalize:\n",
    "        cm = cm.astype('float') / cm.sum(axis=1)[:, np.newaxis]\n",
    "        print(\"Normalized confusion matrix\")\n",
    "    else:\n",
    "        print('Confusion matrix, without normalization')\n",
    "\n",
    "    print(cm)\n",
    "\n",
    "    plt.imshow(cm, interpolation='nearest', cmap=cmap)\n",
    "    plt.title(title)\n",
    "    plt.colorbar()\n",
    "    tick_marks = np.arange(len(classes))\n",
    "    plt.xticks(tick_marks, classes, rotation=45)\n",
    "    plt.yticks(tick_marks, classes)\n",
    "\n",
    "    fmt = '.2f' if normalize else 'd'\n",
    "    thresh = cm.max() / 2.\n",
    "    for i, j in itertools.product(range(cm.shape[0]), range(cm.shape[1])):\n",
    "        plt.text(j, i, format(cm[i, j], fmt),\n",
    "                 horizontalalignment=\"center\",\n",
    "                 color=\"white\" if cm[i, j] > thresh else \"black\")\n",
    "    plt.grid(False)\n",
    "    plt.ylabel('True label')\n",
    "    plt.xlabel('Predicted label')\n",
    "    plt.tight_layout()"
   ]
  },
  {
   "cell_type": "code",
   "execution_count": null,
   "metadata": {},
   "outputs": [],
   "source": [
    "plt.figure(figsize=(8,6))\n",
    "target_names = ['Honest','Fraudulent']\n",
    "plot_confusion_matrix(cnf_matrix, classes=target_names, normalize=True,\n",
    "                      title='Normalized confusion matrix')"
   ]
  },
  {
   "cell_type": "markdown",
   "metadata": {},
   "source": [
    "### Collusion Example"
   ]
  },
  {
   "cell_type": "code",
   "execution_count": null,
   "metadata": {},
   "outputs": [],
   "source": [
    "# Predict on Example \n",
    "x_pred = features_df[(features_df['ratee']==4986)].copy()\n",
    "model = RandomForestClassifier(n_jobs=-1,\n",
    "                               random_state=123)\n",
    "model.fit(X_train, y_train)\n",
    "x = features_df[(features_df['ratee']==4986)].copy()\n",
    "x.drop(['rater', 'ratee', 'rating','date', 'class'], axis=1, inplace=True)\n",
    "\n",
    "pred_with_features = model.predict_proba(x)[:,1]\n",
    "x_pred['prediction_with_features'] = pred_with_features"
   ]
  },
  {
   "cell_type": "code",
   "execution_count": null,
   "metadata": {},
   "outputs": [],
   "source": [
    "# Predict on Example (with no features)\n",
    "model_ng = RandomForestClassifier(n_jobs=-1,\n",
    "                                  random_state=123)\n",
    "model_ng.fit(X_train, y_train)\n",
    "x = features_df_ng[(features_df['ratee']==4986)].copy()\n",
    "x.drop(['rater', 'ratee', 'rating','date', 'class'], axis=1, inplace=True)"
   ]
  },
  {
   "cell_type": "code",
   "execution_count": null,
   "metadata": {},
   "outputs": [],
   "source": [
    "x_pred = features_df_ng[(features_df_ng['ratee']==4986)].copy()\n",
    "\n",
    "x = x_pred.drop(['rater', 'ratee', 'rating','date'], axis=1)\n",
    "y = x.pop('class')\n",
    "\n",
    "# run model without graph features\n",
    "pred_no_features = model_ng.predict_proba(x)[:,1]\n",
    "x_pred = x_pred[['ratee','date','rating']]\n",
    "x_pred['prediction_without_features'] = pred_no_features"
   ]
  },
  {
   "cell_type": "code",
   "execution_count": null,
   "metadata": {},
   "outputs": [],
   "source": [
    "# rerun model with graph features\n",
    "x = features_df[(features_df['ratee']==4986)].copy()\n",
    "x.drop(['rater', 'ratee', 'rating','date'], axis=1, inplace=True)\n",
    "y = x.pop('class')\n",
    "\n",
    "pred_with_features = model.predict_proba(x)[:,1]\n",
    "x_pred['prediction_with_features'] = pred_with_features\n",
    "x_pred"
   ]
  },
  {
   "cell_type": "markdown",
   "metadata": {},
   "source": [
    "### Feature Importance"
   ]
  },
  {
   "cell_type": "code",
   "execution_count": 51,
   "metadata": {},
   "outputs": [
    {
     "data": {
      "image/png": "[encoded data removed]",
      "text/plain": [
       "<Figure size 288x432 with 1 Axes>"
      ]
     },
     "metadata": {
      "needs_background": "light"
     },
     "output_type": "display_data"
    }
   ],
   "source": [
    "features=X.columns\n",
    "importances = model.feature_importances_\n",
    "indices = np.argsort(importances)\n",
    "\n",
    "fig, ax = plt.subplots(figsize=(4,6))\n",
    "ax.set_title('Feature Importances')\n",
    "plt.barh(range(len(indices)), importances[indices], \n",
    "         color=['m','m','m','y','y','m','m','m','m','m','m','m','c','c','c','y','c','y','y','c','c','y'], \n",
    "         align='center')\n",
    "plt.yticks(range(len(indices)), features[indices])\n",
    "plt.xlabel('Relative Importance')\n",
    "plt.tight_layout()"
   ]
  },
  {
   "cell_type": "code",
   "execution_count": null,
   "metadata": {},
   "outputs": [],
   "source": []
  }
 ],
 "metadata": {
  "kernelspec": {
   "display_name": "Python 3",
   "language": "python",
   "name": "python3"
  },
  "language_info": {
   "codemirror_mode": {
    "name": "ipython",
    "version": 3
   },
   "file_extension": ".py",
   "mimetype": "text/x-python",
   "name": "python",
   "nbconvert_exporter": "python",
   "pygments_lexer": "ipython3",
   "version": "3.7.9"
  }
 },
 "nbformat": 4,
 "nbformat_minor": 4
}
